{
  "cells": [
    {
      "cell_type": "markdown",
      "id": "79752902",
      "metadata": {
        "id": "79752902"
      },
      "source": [
        "# Problem Statement"
      ]
    },
    {
      "cell_type": "markdown",
      "id": "a2c93b2a",
      "metadata": {
        "id": "a2c93b2a"
      },
      "source": [
        "An education company named X Education sells online courses to industry professionals. On any given day, many professionals who are interested in the courses land on their website and browse for courses. \n",
        "\n",
        " \n",
        "\n",
        "The company markets its courses on several websites and search engines like Google. Once these people land on the website, they might browse the courses or fill up a form for the course or watch some videos. When these people fill up a form providing their email address or phone number, they are classified to be a lead. Moreover, the company also gets leads through past referrals. Once these leads are acquired, employees from the sales team start making calls, writing emails, etc. Through this process, some of the leads get converted while most do not. The typical lead conversion rate at X education is around 30%. \n",
        "\n",
        " \n",
        "\n",
        "Now, although X Education gets a lot of leads, its lead conversion rate is very poor. For example, if, say, they acquire 100 leads in a day, only about 30 of them are converted. To make this process more efficient, the company wishes to identify the most potential leads, also known as ‘Hot Leads’. If they successfully identify this set of leads, the lead conversion rate should go up as the sales team will now be focusing more on communicating with the potential leads rather than making calls to everyone"
      ]
    },
    {
      "cell_type": "markdown",
      "id": "96fdcf74",
      "metadata": {
        "id": "96fdcf74"
      },
      "source": [
        "X Education has appointed you to help them select the most promising leads, i.e. the leads that are most likely to convert into paying customers. The company requires you to build a model wherein you need to assign a lead score to each of the leads such that the customers with a higher lead score have a higher conversion chance and the customers with a lower lead score have a lower conversion chance. The CEO, in particular, has given a ballpark of the target lead conversion rate to be around 80%."
      ]
    },
    {
      "cell_type": "markdown",
      "id": "0a09c92a",
      "metadata": {
        "id": "0a09c92a"
      },
      "source": [
        "## Steps Performed\n",
        "<hr/>\n",
        "\n",
        "  - **Importing Libraries & Data Reading**\n",
        "  - **Data Cleaning & EDA**\n",
        "  - **Dummy Variable Creation**\n",
        "  - **Scaling & Model Building**\n",
        "  - **Model Evaluation**\n",
        "  - **Ploting ROC Curve**\n",
        "  - **Finding Optimal CutOff**\n",
        "  - **Model Evaluation on Test Data**\n",
        "  - **Final Observation**"
      ]
    },
    {
      "cell_type": "markdown",
      "id": "215a58f6",
      "metadata": {
        "id": "215a58f6"
      },
      "source": [
        "###  Import Libraries & Data Reading\n",
        "<hr/>"
      ]
    },
    {
      "cell_type": "code",
      "execution_count": 211,
      "id": "9c59b8bf",
      "metadata": {
        "id": "9c59b8bf"
      },
      "outputs": [],
      "source": [
        "import numpy as np\n",
        "import pandas as pd\n",
        "import matplotlib.pyplot as plt\n",
        "import seaborn as sns\n",
        "import sklearn\n",
        "import warnings\n",
        "\n",
        "\n",
        "warnings.filterwarnings(\"ignore\")"
      ]
    },
    {
      "cell_type": "code",
      "execution_count": 212,
      "id": "08118b98",
      "metadata": {
        "id": "08118b98"
      },
      "outputs": [],
      "source": [
        "pd.set_option('display.max_columns',42)"
      ]
    },
    {
      "cell_type": "code",
      "execution_count": 408,
      "id": "8f6b2b57",
      "metadata": {
        "colab": {
          "base_uri": "https://localhost:8080/",
          "height": 600
        },
        "id": "8f6b2b57",
        "outputId": "a376607d-6086-438c-c216-739e4ab5cde3"
      },
      "outputs": [
        {
          "output_type": "execute_result",
          "data": {
            "text/plain": [
              "                            Prospect ID  Lead Number              Lead Origin  \\\n",
              "0  7927b2df-8bba-4d29-b9a2-b6e0beafe620       660737                      API   \n",
              "1  2a272436-5132-4136-86fa-dcc88c88f482       660728                      API   \n",
              "2  8cc8c611-a219-4f35-ad23-fdfd2656bd8a       660727  Landing Page Submission   \n",
              "3  0cc2df48-7cf4-4e39-9de9-19797f9b38cc       660719  Landing Page Submission   \n",
              "4  3256f628-e534-4826-9d63-4a8b88782852       660681  Landing Page Submission   \n",
              "\n",
              "      Lead Source Do Not Email Do Not Call  Converted  TotalVisits  \\\n",
              "0      Olark Chat           No          No          0          0.0   \n",
              "1  Organic Search           No          No          0          5.0   \n",
              "2  Direct Traffic           No          No          1          2.0   \n",
              "3  Direct Traffic           No          No          0          1.0   \n",
              "4          Google           No          No          1          2.0   \n",
              "\n",
              "   Total Time Spent on Website  Page Views Per Visit            Last Activity  \\\n",
              "0                            0                   0.0  Page Visited on Website   \n",
              "1                          674                   2.5             Email Opened   \n",
              "2                         1532                   2.0             Email Opened   \n",
              "3                          305                   1.0              Unreachable   \n",
              "4                         1428                   1.0        Converted to Lead   \n",
              "\n",
              "  Country           Specialization How did you hear about X Education  \\\n",
              "0     NaN                   Select                             Select   \n",
              "1   India                   Select                             Select   \n",
              "2   India  Business Administration                             Select   \n",
              "3   India    Media and Advertising                      Word Of Mouth   \n",
              "4   India                   Select                              Other   \n",
              "\n",
              "  What is your current occupation  \\\n",
              "0                      Unemployed   \n",
              "1                      Unemployed   \n",
              "2                         Student   \n",
              "3                      Unemployed   \n",
              "4                      Unemployed   \n",
              "\n",
              "  What matters most to you in choosing a course Search Magazine  \\\n",
              "0                       Better Career Prospects     No       No   \n",
              "1                       Better Career Prospects     No       No   \n",
              "2                       Better Career Prospects     No       No   \n",
              "3                       Better Career Prospects     No       No   \n",
              "4                       Better Career Prospects     No       No   \n",
              "\n",
              "  Newspaper Article X Education Forums Newspaper Digital Advertisement  \\\n",
              "0                No                 No        No                    No   \n",
              "1                No                 No        No                    No   \n",
              "2                No                 No        No                    No   \n",
              "3                No                 No        No                    No   \n",
              "4                No                 No        No                    No   \n",
              "\n",
              "  Through Recommendations Receive More Updates About Our Courses  \\\n",
              "0                      No                                     No   \n",
              "1                      No                                     No   \n",
              "2                      No                                     No   \n",
              "3                      No                                     No   \n",
              "4                      No                                     No   \n",
              "\n",
              "                                  Tags      Lead Quality  \\\n",
              "0          Interested in other courses  Low in Relevance   \n",
              "1                              Ringing               NaN   \n",
              "2  Will revert after reading the email          Might be   \n",
              "3                              Ringing          Not Sure   \n",
              "4  Will revert after reading the email          Might be   \n",
              "\n",
              "  Update me on Supply Chain Content Get updates on DM Content    Lead Profile  \\\n",
              "0                                No                        No          Select   \n",
              "1                                No                        No          Select   \n",
              "2                                No                        No  Potential Lead   \n",
              "3                                No                        No          Select   \n",
              "4                                No                        No          Select   \n",
              "\n",
              "     City Asymmetrique Activity Index Asymmetrique Profile Index  \\\n",
              "0  Select                   02.Medium                  02.Medium   \n",
              "1  Select                   02.Medium                  02.Medium   \n",
              "2  Mumbai                   02.Medium                    01.High   \n",
              "3  Mumbai                   02.Medium                    01.High   \n",
              "4  Mumbai                   02.Medium                    01.High   \n",
              "\n",
              "   Asymmetrique Activity Score  Asymmetrique Profile Score  \\\n",
              "0                         15.0                        15.0   \n",
              "1                         15.0                        15.0   \n",
              "2                         14.0                        20.0   \n",
              "3                         13.0                        17.0   \n",
              "4                         15.0                        18.0   \n",
              "\n",
              "  I agree to pay the amount through cheque  \\\n",
              "0                                       No   \n",
              "1                                       No   \n",
              "2                                       No   \n",
              "3                                       No   \n",
              "4                                       No   \n",
              "\n",
              "  A free copy of Mastering The Interview Last Notable Activity  \n",
              "0                                     No              Modified  \n",
              "1                                     No          Email Opened  \n",
              "2                                    Yes          Email Opened  \n",
              "3                                     No              Modified  \n",
              "4                                     No              Modified  "
            ],
            "text/html": [
              "\n",
              "  <div id=\"df-8938f275-3a00-4832-beb0-ed4e50fa2a95\">\n",
              "    <div class=\"colab-df-container\">\n",
              "      <div>\n",
              "<style scoped>\n",
              "    .dataframe tbody tr th:only-of-type {\n",
              "        vertical-align: middle;\n",
              "    }\n",
              "\n",
              "    .dataframe tbody tr th {\n",
              "        vertical-align: top;\n",
              "    }\n",
              "\n",
              "    .dataframe thead th {\n",
              "        text-align: right;\n",
              "    }\n",
              "</style>\n",
              "<table border=\"1\" class=\"dataframe\">\n",
              "  <thead>\n",
              "    <tr style=\"text-align: right;\">\n",
              "      <th></th>\n",
              "      <th>Prospect ID</th>\n",
              "      <th>Lead Number</th>\n",
              "      <th>Lead Origin</th>\n",
              "      <th>Lead Source</th>\n",
              "      <th>Do Not Email</th>\n",
              "      <th>Do Not Call</th>\n",
              "      <th>Converted</th>\n",
              "      <th>TotalVisits</th>\n",
              "      <th>Total Time Spent on Website</th>\n",
              "      <th>Page Views Per Visit</th>\n",
              "      <th>Last Activity</th>\n",
              "      <th>Country</th>\n",
              "      <th>Specialization</th>\n",
              "      <th>How did you hear about X Education</th>\n",
              "      <th>What is your current occupation</th>\n",
              "      <th>What matters most to you in choosing a course</th>\n",
              "      <th>Search</th>\n",
              "      <th>Magazine</th>\n",
              "      <th>Newspaper Article</th>\n",
              "      <th>X Education Forums</th>\n",
              "      <th>Newspaper</th>\n",
              "      <th>Digital Advertisement</th>\n",
              "      <th>Through Recommendations</th>\n",
              "      <th>Receive More Updates About Our Courses</th>\n",
              "      <th>Tags</th>\n",
              "      <th>Lead Quality</th>\n",
              "      <th>Update me on Supply Chain Content</th>\n",
              "      <th>Get updates on DM Content</th>\n",
              "      <th>Lead Profile</th>\n",
              "      <th>City</th>\n",
              "      <th>Asymmetrique Activity Index</th>\n",
              "      <th>Asymmetrique Profile Index</th>\n",
              "      <th>Asymmetrique Activity Score</th>\n",
              "      <th>Asymmetrique Profile Score</th>\n",
              "      <th>I agree to pay the amount through cheque</th>\n",
              "      <th>A free copy of Mastering The Interview</th>\n",
              "      <th>Last Notable Activity</th>\n",
              "    </tr>\n",
              "  </thead>\n",
              "  <tbody>\n",
              "    <tr>\n",
              "      <th>0</th>\n",
              "      <td>7927b2df-8bba-4d29-b9a2-b6e0beafe620</td>\n",
              "      <td>660737</td>\n",
              "      <td>API</td>\n",
              "      <td>Olark Chat</td>\n",
              "      <td>No</td>\n",
              "      <td>No</td>\n",
              "      <td>0</td>\n",
              "      <td>0.0</td>\n",
              "      <td>0</td>\n",
              "      <td>0.0</td>\n",
              "      <td>Page Visited on Website</td>\n",
              "      <td>NaN</td>\n",
              "      <td>Select</td>\n",
              "      <td>Select</td>\n",
              "      <td>Unemployed</td>\n",
              "      <td>Better Career Prospects</td>\n",
              "      <td>No</td>\n",
              "      <td>No</td>\n",
              "      <td>No</td>\n",
              "      <td>No</td>\n",
              "      <td>No</td>\n",
              "      <td>No</td>\n",
              "      <td>No</td>\n",
              "      <td>No</td>\n",
              "      <td>Interested in other courses</td>\n",
              "      <td>Low in Relevance</td>\n",
              "      <td>No</td>\n",
              "      <td>No</td>\n",
              "      <td>Select</td>\n",
              "      <td>Select</td>\n",
              "      <td>02.Medium</td>\n",
              "      <td>02.Medium</td>\n",
              "      <td>15.0</td>\n",
              "      <td>15.0</td>\n",
              "      <td>No</td>\n",
              "      <td>No</td>\n",
              "      <td>Modified</td>\n",
              "    </tr>\n",
              "    <tr>\n",
              "      <th>1</th>\n",
              "      <td>2a272436-5132-4136-86fa-dcc88c88f482</td>\n",
              "      <td>660728</td>\n",
              "      <td>API</td>\n",
              "      <td>Organic Search</td>\n",
              "      <td>No</td>\n",
              "      <td>No</td>\n",
              "      <td>0</td>\n",
              "      <td>5.0</td>\n",
              "      <td>674</td>\n",
              "      <td>2.5</td>\n",
              "      <td>Email Opened</td>\n",
              "      <td>India</td>\n",
              "      <td>Select</td>\n",
              "      <td>Select</td>\n",
              "      <td>Unemployed</td>\n",
              "      <td>Better Career Prospects</td>\n",
              "      <td>No</td>\n",
              "      <td>No</td>\n",
              "      <td>No</td>\n",
              "      <td>No</td>\n",
              "      <td>No</td>\n",
              "      <td>No</td>\n",
              "      <td>No</td>\n",
              "      <td>No</td>\n",
              "      <td>Ringing</td>\n",
              "      <td>NaN</td>\n",
              "      <td>No</td>\n",
              "      <td>No</td>\n",
              "      <td>Select</td>\n",
              "      <td>Select</td>\n",
              "      <td>02.Medium</td>\n",
              "      <td>02.Medium</td>\n",
              "      <td>15.0</td>\n",
              "      <td>15.0</td>\n",
              "      <td>No</td>\n",
              "      <td>No</td>\n",
              "      <td>Email Opened</td>\n",
              "    </tr>\n",
              "    <tr>\n",
              "      <th>2</th>\n",
              "      <td>8cc8c611-a219-4f35-ad23-fdfd2656bd8a</td>\n",
              "      <td>660727</td>\n",
              "      <td>Landing Page Submission</td>\n",
              "      <td>Direct Traffic</td>\n",
              "      <td>No</td>\n",
              "      <td>No</td>\n",
              "      <td>1</td>\n",
              "      <td>2.0</td>\n",
              "      <td>1532</td>\n",
              "      <td>2.0</td>\n",
              "      <td>Email Opened</td>\n",
              "      <td>India</td>\n",
              "      <td>Business Administration</td>\n",
              "      <td>Select</td>\n",
              "      <td>Student</td>\n",
              "      <td>Better Career Prospects</td>\n",
              "      <td>No</td>\n",
              "      <td>No</td>\n",
              "      <td>No</td>\n",
              "      <td>No</td>\n",
              "      <td>No</td>\n",
              "      <td>No</td>\n",
              "      <td>No</td>\n",
              "      <td>No</td>\n",
              "      <td>Will revert after reading the email</td>\n",
              "      <td>Might be</td>\n",
              "      <td>No</td>\n",
              "      <td>No</td>\n",
              "      <td>Potential Lead</td>\n",
              "      <td>Mumbai</td>\n",
              "      <td>02.Medium</td>\n",
              "      <td>01.High</td>\n",
              "      <td>14.0</td>\n",
              "      <td>20.0</td>\n",
              "      <td>No</td>\n",
              "      <td>Yes</td>\n",
              "      <td>Email Opened</td>\n",
              "    </tr>\n",
              "    <tr>\n",
              "      <th>3</th>\n",
              "      <td>0cc2df48-7cf4-4e39-9de9-19797f9b38cc</td>\n",
              "      <td>660719</td>\n",
              "      <td>Landing Page Submission</td>\n",
              "      <td>Direct Traffic</td>\n",
              "      <td>No</td>\n",
              "      <td>No</td>\n",
              "      <td>0</td>\n",
              "      <td>1.0</td>\n",
              "      <td>305</td>\n",
              "      <td>1.0</td>\n",
              "      <td>Unreachable</td>\n",
              "      <td>India</td>\n",
              "      <td>Media and Advertising</td>\n",
              "      <td>Word Of Mouth</td>\n",
              "      <td>Unemployed</td>\n",
              "      <td>Better Career Prospects</td>\n",
              "      <td>No</td>\n",
              "      <td>No</td>\n",
              "      <td>No</td>\n",
              "      <td>No</td>\n",
              "      <td>No</td>\n",
              "      <td>No</td>\n",
              "      <td>No</td>\n",
              "      <td>No</td>\n",
              "      <td>Ringing</td>\n",
              "      <td>Not Sure</td>\n",
              "      <td>No</td>\n",
              "      <td>No</td>\n",
              "      <td>Select</td>\n",
              "      <td>Mumbai</td>\n",
              "      <td>02.Medium</td>\n",
              "      <td>01.High</td>\n",
              "      <td>13.0</td>\n",
              "      <td>17.0</td>\n",
              "      <td>No</td>\n",
              "      <td>No</td>\n",
              "      <td>Modified</td>\n",
              "    </tr>\n",
              "    <tr>\n",
              "      <th>4</th>\n",
              "      <td>3256f628-e534-4826-9d63-4a8b88782852</td>\n",
              "      <td>660681</td>\n",
              "      <td>Landing Page Submission</td>\n",
              "      <td>Google</td>\n",
              "      <td>No</td>\n",
              "      <td>No</td>\n",
              "      <td>1</td>\n",
              "      <td>2.0</td>\n",
              "      <td>1428</td>\n",
              "      <td>1.0</td>\n",
              "      <td>Converted to Lead</td>\n",
              "      <td>India</td>\n",
              "      <td>Select</td>\n",
              "      <td>Other</td>\n",
              "      <td>Unemployed</td>\n",
              "      <td>Better Career Prospects</td>\n",
              "      <td>No</td>\n",
              "      <td>No</td>\n",
              "      <td>No</td>\n",
              "      <td>No</td>\n",
              "      <td>No</td>\n",
              "      <td>No</td>\n",
              "      <td>No</td>\n",
              "      <td>No</td>\n",
              "      <td>Will revert after reading the email</td>\n",
              "      <td>Might be</td>\n",
              "      <td>No</td>\n",
              "      <td>No</td>\n",
              "      <td>Select</td>\n",
              "      <td>Mumbai</td>\n",
              "      <td>02.Medium</td>\n",
              "      <td>01.High</td>\n",
              "      <td>15.0</td>\n",
              "      <td>18.0</td>\n",
              "      <td>No</td>\n",
              "      <td>No</td>\n",
              "      <td>Modified</td>\n",
              "    </tr>\n",
              "  </tbody>\n",
              "</table>\n",
              "</div>\n",
              "      <button class=\"colab-df-convert\" onclick=\"convertToInteractive('df-8938f275-3a00-4832-beb0-ed4e50fa2a95')\"\n",
              "              title=\"Convert this dataframe to an interactive table.\"\n",
              "              style=\"display:none;\">\n",
              "        \n",
              "  <svg xmlns=\"http://www.w3.org/2000/svg\" height=\"24px\"viewBox=\"0 0 24 24\"\n",
              "       width=\"24px\">\n",
              "    <path d=\"M0 0h24v24H0V0z\" fill=\"none\"/>\n",
              "    <path d=\"M18.56 5.44l.94 2.06.94-2.06 2.06-.94-2.06-.94-.94-2.06-.94 2.06-2.06.94zm-11 1L8.5 8.5l.94-2.06 2.06-.94-2.06-.94L8.5 2.5l-.94 2.06-2.06.94zm10 10l.94 2.06.94-2.06 2.06-.94-2.06-.94-.94-2.06-.94 2.06-2.06.94z\"/><path d=\"M17.41 7.96l-1.37-1.37c-.4-.4-.92-.59-1.43-.59-.52 0-1.04.2-1.43.59L10.3 9.45l-7.72 7.72c-.78.78-.78 2.05 0 2.83L4 21.41c.39.39.9.59 1.41.59.51 0 1.02-.2 1.41-.59l7.78-7.78 2.81-2.81c.8-.78.8-2.07 0-2.86zM5.41 20L4 18.59l7.72-7.72 1.47 1.35L5.41 20z\"/>\n",
              "  </svg>\n",
              "      </button>\n",
              "      \n",
              "  <style>\n",
              "    .colab-df-container {\n",
              "      display:flex;\n",
              "      flex-wrap:wrap;\n",
              "      gap: 12px;\n",
              "    }\n",
              "\n",
              "    .colab-df-convert {\n",
              "      background-color: #E8F0FE;\n",
              "      border: none;\n",
              "      border-radius: 50%;\n",
              "      cursor: pointer;\n",
              "      display: none;\n",
              "      fill: #1967D2;\n",
              "      height: 32px;\n",
              "      padding: 0 0 0 0;\n",
              "      width: 32px;\n",
              "    }\n",
              "\n",
              "    .colab-df-convert:hover {\n",
              "      background-color: #E2EBFA;\n",
              "      box-shadow: 0px 1px 2px rgba(60, 64, 67, 0.3), 0px 1px 3px 1px rgba(60, 64, 67, 0.15);\n",
              "      fill: #174EA6;\n",
              "    }\n",
              "\n",
              "    [theme=dark] .colab-df-convert {\n",
              "      background-color: #3B4455;\n",
              "      fill: #D2E3FC;\n",
              "    }\n",
              "\n",
              "    [theme=dark] .colab-df-convert:hover {\n",
              "      background-color: #434B5C;\n",
              "      box-shadow: 0px 1px 3px 1px rgba(0, 0, 0, 0.15);\n",
              "      filter: drop-shadow(0px 1px 2px rgba(0, 0, 0, 0.3));\n",
              "      fill: #FFFFFF;\n",
              "    }\n",
              "  </style>\n",
              "\n",
              "      <script>\n",
              "        const buttonEl =\n",
              "          document.querySelector('#df-8938f275-3a00-4832-beb0-ed4e50fa2a95 button.colab-df-convert');\n",
              "        buttonEl.style.display =\n",
              "          google.colab.kernel.accessAllowed ? 'block' : 'none';\n",
              "\n",
              "        async function convertToInteractive(key) {\n",
              "          const element = document.querySelector('#df-8938f275-3a00-4832-beb0-ed4e50fa2a95');\n",
              "          const dataTable =\n",
              "            await google.colab.kernel.invokeFunction('convertToInteractive',\n",
              "                                                     [key], {});\n",
              "          if (!dataTable) return;\n",
              "\n",
              "          const docLinkHtml = 'Like what you see? Visit the ' +\n",
              "            '<a target=\"_blank\" href=https://colab.research.google.com/notebooks/data_table.ipynb>data table notebook</a>'\n",
              "            + ' to learn more about interactive tables.';\n",
              "          element.innerHTML = '';\n",
              "          dataTable['output_type'] = 'display_data';\n",
              "          await google.colab.output.renderOutput(dataTable, element);\n",
              "          const docLink = document.createElement('div');\n",
              "          docLink.innerHTML = docLinkHtml;\n",
              "          element.appendChild(docLink);\n",
              "        }\n",
              "      </script>\n",
              "    </div>\n",
              "  </div>\n",
              "  "
            ]
          },
          "metadata": {},
          "execution_count": 408
        }
      ],
      "source": [
        "# loading dataset\n",
        "leads_df=pd.read_csv(\"Leads.csv\")\n",
        "leads_df.head()"
      ]
    },
    {
      "cell_type": "code",
      "execution_count": 409,
      "id": "86a9be90",
      "metadata": {
        "colab": {
          "base_uri": "https://localhost:8080/"
        },
        "id": "86a9be90",
        "outputId": "fa9a601f-6709-4517-8309-7d65e43fa447"
      },
      "outputs": [
        {
          "output_type": "execute_result",
          "data": {
            "text/plain": [
              "(9240, 37)"
            ]
          },
          "metadata": {},
          "execution_count": 409
        }
      ],
      "source": [
        "#Checking shape of dataframe\n",
        "leads_df.shape"
      ]
    },
    {
      "cell_type": "markdown",
      "id": "dcb8a4ea",
      "metadata": {
        "id": "dcb8a4ea"
      },
      "source": [
        "- We can see our data contains 9240 rows & 37 columns."
      ]
    },
    {
      "cell_type": "code",
      "execution_count": 410,
      "id": "8cbf46e7",
      "metadata": {
        "colab": {
          "base_uri": "https://localhost:8080/",
          "height": 300
        },
        "id": "8cbf46e7",
        "outputId": "7500919c-f897-4b4c-f0e9-26cd85546d07"
      },
      "outputs": [
        {
          "output_type": "execute_result",
          "data": {
            "text/plain": [
              "         Lead Number    Converted  TotalVisits  Total Time Spent on Website  \\\n",
              "count    9240.000000  9240.000000  9103.000000                  9240.000000   \n",
              "mean   617188.435606     0.385390     3.445238                   487.698268   \n",
              "std     23405.995698     0.486714     4.854853                   548.021466   \n",
              "min    579533.000000     0.000000     0.000000                     0.000000   \n",
              "25%    596484.500000     0.000000     1.000000                    12.000000   \n",
              "50%    615479.000000     0.000000     3.000000                   248.000000   \n",
              "75%    637387.250000     1.000000     5.000000                   936.000000   \n",
              "max    660737.000000     1.000000   251.000000                  2272.000000   \n",
              "\n",
              "       Page Views Per Visit  Asymmetrique Activity Score  \\\n",
              "count           9103.000000                  5022.000000   \n",
              "mean               2.362820                    14.306252   \n",
              "std                2.161418                     1.386694   \n",
              "min                0.000000                     7.000000   \n",
              "25%                1.000000                    14.000000   \n",
              "50%                2.000000                    14.000000   \n",
              "75%                3.000000                    15.000000   \n",
              "max               55.000000                    18.000000   \n",
              "\n",
              "       Asymmetrique Profile Score  \n",
              "count                 5022.000000  \n",
              "mean                    16.344883  \n",
              "std                      1.811395  \n",
              "min                     11.000000  \n",
              "25%                     15.000000  \n",
              "50%                     16.000000  \n",
              "75%                     18.000000  \n",
              "max                     20.000000  "
            ],
            "text/html": [
              "\n",
              "  <div id=\"df-8d5a3da6-1eb6-4408-9231-87baca273636\">\n",
              "    <div class=\"colab-df-container\">\n",
              "      <div>\n",
              "<style scoped>\n",
              "    .dataframe tbody tr th:only-of-type {\n",
              "        vertical-align: middle;\n",
              "    }\n",
              "\n",
              "    .dataframe tbody tr th {\n",
              "        vertical-align: top;\n",
              "    }\n",
              "\n",
              "    .dataframe thead th {\n",
              "        text-align: right;\n",
              "    }\n",
              "</style>\n",
              "<table border=\"1\" class=\"dataframe\">\n",
              "  <thead>\n",
              "    <tr style=\"text-align: right;\">\n",
              "      <th></th>\n",
              "      <th>Lead Number</th>\n",
              "      <th>Converted</th>\n",
              "      <th>TotalVisits</th>\n",
              "      <th>Total Time Spent on Website</th>\n",
              "      <th>Page Views Per Visit</th>\n",
              "      <th>Asymmetrique Activity Score</th>\n",
              "      <th>Asymmetrique Profile Score</th>\n",
              "    </tr>\n",
              "  </thead>\n",
              "  <tbody>\n",
              "    <tr>\n",
              "      <th>count</th>\n",
              "      <td>9240.000000</td>\n",
              "      <td>9240.000000</td>\n",
              "      <td>9103.000000</td>\n",
              "      <td>9240.000000</td>\n",
              "      <td>9103.000000</td>\n",
              "      <td>5022.000000</td>\n",
              "      <td>5022.000000</td>\n",
              "    </tr>\n",
              "    <tr>\n",
              "      <th>mean</th>\n",
              "      <td>617188.435606</td>\n",
              "      <td>0.385390</td>\n",
              "      <td>3.445238</td>\n",
              "      <td>487.698268</td>\n",
              "      <td>2.362820</td>\n",
              "      <td>14.306252</td>\n",
              "      <td>16.344883</td>\n",
              "    </tr>\n",
              "    <tr>\n",
              "      <th>std</th>\n",
              "      <td>23405.995698</td>\n",
              "      <td>0.486714</td>\n",
              "      <td>4.854853</td>\n",
              "      <td>548.021466</td>\n",
              "      <td>2.161418</td>\n",
              "      <td>1.386694</td>\n",
              "      <td>1.811395</td>\n",
              "    </tr>\n",
              "    <tr>\n",
              "      <th>min</th>\n",
              "      <td>579533.000000</td>\n",
              "      <td>0.000000</td>\n",
              "      <td>0.000000</td>\n",
              "      <td>0.000000</td>\n",
              "      <td>0.000000</td>\n",
              "      <td>7.000000</td>\n",
              "      <td>11.000000</td>\n",
              "    </tr>\n",
              "    <tr>\n",
              "      <th>25%</th>\n",
              "      <td>596484.500000</td>\n",
              "      <td>0.000000</td>\n",
              "      <td>1.000000</td>\n",
              "      <td>12.000000</td>\n",
              "      <td>1.000000</td>\n",
              "      <td>14.000000</td>\n",
              "      <td>15.000000</td>\n",
              "    </tr>\n",
              "    <tr>\n",
              "      <th>50%</th>\n",
              "      <td>615479.000000</td>\n",
              "      <td>0.000000</td>\n",
              "      <td>3.000000</td>\n",
              "      <td>248.000000</td>\n",
              "      <td>2.000000</td>\n",
              "      <td>14.000000</td>\n",
              "      <td>16.000000</td>\n",
              "    </tr>\n",
              "    <tr>\n",
              "      <th>75%</th>\n",
              "      <td>637387.250000</td>\n",
              "      <td>1.000000</td>\n",
              "      <td>5.000000</td>\n",
              "      <td>936.000000</td>\n",
              "      <td>3.000000</td>\n",
              "      <td>15.000000</td>\n",
              "      <td>18.000000</td>\n",
              "    </tr>\n",
              "    <tr>\n",
              "      <th>max</th>\n",
              "      <td>660737.000000</td>\n",
              "      <td>1.000000</td>\n",
              "      <td>251.000000</td>\n",
              "      <td>2272.000000</td>\n",
              "      <td>55.000000</td>\n",
              "      <td>18.000000</td>\n",
              "      <td>20.000000</td>\n",
              "    </tr>\n",
              "  </tbody>\n",
              "</table>\n",
              "</div>\n",
              "      <button class=\"colab-df-convert\" onclick=\"convertToInteractive('df-8d5a3da6-1eb6-4408-9231-87baca273636')\"\n",
              "              title=\"Convert this dataframe to an interactive table.\"\n",
              "              style=\"display:none;\">\n",
              "        \n",
              "  <svg xmlns=\"http://www.w3.org/2000/svg\" height=\"24px\"viewBox=\"0 0 24 24\"\n",
              "       width=\"24px\">\n",
              "    <path d=\"M0 0h24v24H0V0z\" fill=\"none\"/>\n",
              "    <path d=\"M18.56 5.44l.94 2.06.94-2.06 2.06-.94-2.06-.94-.94-2.06-.94 2.06-2.06.94zm-11 1L8.5 8.5l.94-2.06 2.06-.94-2.06-.94L8.5 2.5l-.94 2.06-2.06.94zm10 10l.94 2.06.94-2.06 2.06-.94-2.06-.94-.94-2.06-.94 2.06-2.06.94z\"/><path d=\"M17.41 7.96l-1.37-1.37c-.4-.4-.92-.59-1.43-.59-.52 0-1.04.2-1.43.59L10.3 9.45l-7.72 7.72c-.78.78-.78 2.05 0 2.83L4 21.41c.39.39.9.59 1.41.59.51 0 1.02-.2 1.41-.59l7.78-7.78 2.81-2.81c.8-.78.8-2.07 0-2.86zM5.41 20L4 18.59l7.72-7.72 1.47 1.35L5.41 20z\"/>\n",
              "  </svg>\n",
              "      </button>\n",
              "      \n",
              "  <style>\n",
              "    .colab-df-container {\n",
              "      display:flex;\n",
              "      flex-wrap:wrap;\n",
              "      gap: 12px;\n",
              "    }\n",
              "\n",
              "    .colab-df-convert {\n",
              "      background-color: #E8F0FE;\n",
              "      border: none;\n",
              "      border-radius: 50%;\n",
              "      cursor: pointer;\n",
              "      display: none;\n",
              "      fill: #1967D2;\n",
              "      height: 32px;\n",
              "      padding: 0 0 0 0;\n",
              "      width: 32px;\n",
              "    }\n",
              "\n",
              "    .colab-df-convert:hover {\n",
              "      background-color: #E2EBFA;\n",
              "      box-shadow: 0px 1px 2px rgba(60, 64, 67, 0.3), 0px 1px 3px 1px rgba(60, 64, 67, 0.15);\n",
              "      fill: #174EA6;\n",
              "    }\n",
              "\n",
              "    [theme=dark] .colab-df-convert {\n",
              "      background-color: #3B4455;\n",
              "      fill: #D2E3FC;\n",
              "    }\n",
              "\n",
              "    [theme=dark] .colab-df-convert:hover {\n",
              "      background-color: #434B5C;\n",
              "      box-shadow: 0px 1px 3px 1px rgba(0, 0, 0, 0.15);\n",
              "      filter: drop-shadow(0px 1px 2px rgba(0, 0, 0, 0.3));\n",
              "      fill: #FFFFFF;\n",
              "    }\n",
              "  </style>\n",
              "\n",
              "      <script>\n",
              "        const buttonEl =\n",
              "          document.querySelector('#df-8d5a3da6-1eb6-4408-9231-87baca273636 button.colab-df-convert');\n",
              "        buttonEl.style.display =\n",
              "          google.colab.kernel.accessAllowed ? 'block' : 'none';\n",
              "\n",
              "        async function convertToInteractive(key) {\n",
              "          const element = document.querySelector('#df-8d5a3da6-1eb6-4408-9231-87baca273636');\n",
              "          const dataTable =\n",
              "            await google.colab.kernel.invokeFunction('convertToInteractive',\n",
              "                                                     [key], {});\n",
              "          if (!dataTable) return;\n",
              "\n",
              "          const docLinkHtml = 'Like what you see? Visit the ' +\n",
              "            '<a target=\"_blank\" href=https://colab.research.google.com/notebooks/data_table.ipynb>data table notebook</a>'\n",
              "            + ' to learn more about interactive tables.';\n",
              "          element.innerHTML = '';\n",
              "          dataTable['output_type'] = 'display_data';\n",
              "          await google.colab.output.renderOutput(dataTable, element);\n",
              "          const docLink = document.createElement('div');\n",
              "          docLink.innerHTML = docLinkHtml;\n",
              "          element.appendChild(docLink);\n",
              "        }\n",
              "      </script>\n",
              "    </div>\n",
              "  </div>\n",
              "  "
            ]
          },
          "metadata": {},
          "execution_count": 410
        }
      ],
      "source": [
        "#Checking details of dataframe\n",
        "leads_df.describe()"
      ]
    },
    {
      "cell_type": "code",
      "execution_count": 411,
      "id": "5f8b1674",
      "metadata": {
        "colab": {
          "base_uri": "https://localhost:8080/"
        },
        "id": "5f8b1674",
        "outputId": "1628afdb-569c-4fe8-bbb4-182e337cda48"
      },
      "outputs": [
        {
          "output_type": "stream",
          "name": "stdout",
          "text": [
            "<class 'pandas.core.frame.DataFrame'>\n",
            "RangeIndex: 9240 entries, 0 to 9239\n",
            "Data columns (total 37 columns):\n",
            " #   Column                                         Non-Null Count  Dtype  \n",
            "---  ------                                         --------------  -----  \n",
            " 0   Prospect ID                                    9240 non-null   object \n",
            " 1   Lead Number                                    9240 non-null   int64  \n",
            " 2   Lead Origin                                    9240 non-null   object \n",
            " 3   Lead Source                                    9204 non-null   object \n",
            " 4   Do Not Email                                   9240 non-null   object \n",
            " 5   Do Not Call                                    9240 non-null   object \n",
            " 6   Converted                                      9240 non-null   int64  \n",
            " 7   TotalVisits                                    9103 non-null   float64\n",
            " 8   Total Time Spent on Website                    9240 non-null   int64  \n",
            " 9   Page Views Per Visit                           9103 non-null   float64\n",
            " 10  Last Activity                                  9137 non-null   object \n",
            " 11  Country                                        6779 non-null   object \n",
            " 12  Specialization                                 7802 non-null   object \n",
            " 13  How did you hear about X Education             7033 non-null   object \n",
            " 14  What is your current occupation                6550 non-null   object \n",
            " 15  What matters most to you in choosing a course  6531 non-null   object \n",
            " 16  Search                                         9240 non-null   object \n",
            " 17  Magazine                                       9240 non-null   object \n",
            " 18  Newspaper Article                              9240 non-null   object \n",
            " 19  X Education Forums                             9240 non-null   object \n",
            " 20  Newspaper                                      9240 non-null   object \n",
            " 21  Digital Advertisement                          9240 non-null   object \n",
            " 22  Through Recommendations                        9240 non-null   object \n",
            " 23  Receive More Updates About Our Courses         9240 non-null   object \n",
            " 24  Tags                                           5887 non-null   object \n",
            " 25  Lead Quality                                   4473 non-null   object \n",
            " 26  Update me on Supply Chain Content              9240 non-null   object \n",
            " 27  Get updates on DM Content                      9240 non-null   object \n",
            " 28  Lead Profile                                   6531 non-null   object \n",
            " 29  City                                           7820 non-null   object \n",
            " 30  Asymmetrique Activity Index                    5022 non-null   object \n",
            " 31  Asymmetrique Profile Index                     5022 non-null   object \n",
            " 32  Asymmetrique Activity Score                    5022 non-null   float64\n",
            " 33  Asymmetrique Profile Score                     5022 non-null   float64\n",
            " 34  I agree to pay the amount through cheque       9240 non-null   object \n",
            " 35  A free copy of Mastering The Interview         9240 non-null   object \n",
            " 36  Last Notable Activity                          9240 non-null   object \n",
            "dtypes: float64(4), int64(3), object(30)\n",
            "memory usage: 2.6+ MB\n"
          ]
        }
      ],
      "source": [
        "leads_df.info()"
      ]
    },
    {
      "cell_type": "markdown",
      "id": "91a582a0",
      "metadata": {
        "id": "91a582a0"
      },
      "source": [
        "We can see that there are columns have missing values."
      ]
    },
    {
      "cell_type": "code",
      "source": [
        "# Letus Check Coversion  ratio\n",
        "sns.countplot(leads_df.Converted)\n",
        "plt.show()"
      ],
      "metadata": {
        "id": "FLCjta3ApEzc",
        "outputId": "fe0b9776-8db0-4a47-92d1-77dccf642f12",
        "colab": {
          "base_uri": "https://localhost:8080/",
          "height": 279
        }
      },
      "id": "FLCjta3ApEzc",
      "execution_count": 412,
      "outputs": [
        {
          "output_type": "display_data",
          "data": {
            "text/plain": [
              "<Figure size 432x288 with 1 Axes>"
            ],
            "image/png": "[encoded data removed]"
          },
          "metadata": {
            "needs_background": "light"
          }
        }
      ]
    },
    {
      "cell_type": "code",
      "source": [
        "#Letus check conversion Ratio\n",
        "round(leads_df.Converted.value_counts(normalize=True)*100,2)"
      ],
      "metadata": {
        "id": "Kn-3LTIOqaIf",
        "outputId": "7fd9837d-8f5a-4347-fcf6-38b42903745d",
        "colab": {
          "base_uri": "https://localhost:8080/"
        }
      },
      "id": "Kn-3LTIOqaIf",
      "execution_count": 413,
      "outputs": [
        {
          "output_type": "execute_result",
          "data": {
            "text/plain": [
              "0    61.46\n",
              "1    38.54\n",
              "Name: Converted, dtype: float64"
            ]
          },
          "metadata": {},
          "execution_count": 413
        }
      ]
    },
    {
      "cell_type": "markdown",
      "id": "8937fc78",
      "metadata": {
        "id": "8937fc78"
      },
      "source": [
        "## Data Cleaning & EDA\n",
        "<hr/>"
      ]
    },
    {
      "cell_type": "markdown",
      "id": "21f5b01a",
      "metadata": {
        "id": "21f5b01a"
      },
      "source": [
        "#### Treatment of columns having high null values\n",
        "<hr/>"
      ]
    },
    {
      "cell_type": "code",
      "execution_count": 414,
      "id": "60204daf",
      "metadata": {
        "id": "60204daf"
      },
      "outputs": [],
      "source": [
        "#Converting 'Select' values to NaN.\n",
        "\n",
        "leads_df = leads_df.replace('Select', np.nan)"
      ]
    },
    {
      "cell_type": "code",
      "execution_count": 415,
      "id": "3983dbc9",
      "metadata": {
        "colab": {
          "base_uri": "https://localhost:8080/"
        },
        "id": "3983dbc9",
        "outputId": "bdca0a94-6b5b-4c86-ae4c-9ec103662187"
      },
      "outputs": [
        {
          "output_type": "execute_result",
          "data": {
            "text/plain": [
              "Prospect ID                                       0.00\n",
              "Lead Number                                       0.00\n",
              "Lead Origin                                       0.00\n",
              "Lead Source                                       0.39\n",
              "Do Not Email                                      0.00\n",
              "Do Not Call                                       0.00\n",
              "Converted                                         0.00\n",
              "TotalVisits                                       1.48\n",
              "Total Time Spent on Website                       0.00\n",
              "Page Views Per Visit                              1.48\n",
              "Last Activity                                     1.11\n",
              "Country                                          26.63\n",
              "Specialization                                   36.58\n",
              "How did you hear about X Education               78.46\n",
              "What is your current occupation                  29.11\n",
              "What matters most to you in choosing a course    29.32\n",
              "Search                                            0.00\n",
              "Magazine                                          0.00\n",
              "Newspaper Article                                 0.00\n",
              "X Education Forums                                0.00\n",
              "Newspaper                                         0.00\n",
              "Digital Advertisement                             0.00\n",
              "Through Recommendations                           0.00\n",
              "Receive More Updates About Our Courses            0.00\n",
              "Tags                                             36.29\n",
              "Lead Quality                                     51.59\n",
              "Update me on Supply Chain Content                 0.00\n",
              "Get updates on DM Content                         0.00\n",
              "Lead Profile                                     74.19\n",
              "City                                             39.71\n",
              "Asymmetrique Activity Index                      45.65\n",
              "Asymmetrique Profile Index                       45.65\n",
              "Asymmetrique Activity Score                      45.65\n",
              "Asymmetrique Profile Score                       45.65\n",
              "I agree to pay the amount through cheque          0.00\n",
              "A free copy of Mastering The Interview            0.00\n",
              "Last Notable Activity                             0.00\n",
              "dtype: float64"
            ]
          },
          "metadata": {},
          "execution_count": 415
        }
      ],
      "source": [
        "# Lets see column wise Null Values %\n",
        "round((leads_df.isnull().sum()/leads_df.shape[0])*100,2)"
      ]
    },
    {
      "cell_type": "markdown",
      "id": "1cf0e180",
      "metadata": {
        "id": "1cf0e180"
      },
      "source": [
        "- **We can see there are lots of columns which have more than 40% null values.**\n",
        "- **Hence we will drop these columns.**"
      ]
    },
    {
      "cell_type": "code",
      "execution_count": 416,
      "id": "1de001b3",
      "metadata": {
        "id": "1de001b3"
      },
      "outputs": [],
      "source": [
        "#dropping columns having more than 40% null values\n",
        "for i in leads_df.columns:\n",
        "    if round((leads_df[i].isnull().sum()/leads_df.shape[0])*100,2)>40:\n",
        "        leads_df.drop(i,axis=1,inplace=True)"
      ]
    },
    {
      "cell_type": "code",
      "execution_count": 417,
      "id": "8ed41871",
      "metadata": {
        "colab": {
          "base_uri": "https://localhost:8080/"
        },
        "id": "8ed41871",
        "outputId": "bfadfca2-c893-46a6-98dc-6bfc202a022d"
      },
      "outputs": [
        {
          "output_type": "execute_result",
          "data": {
            "text/plain": [
              "Prospect ID                                       0.00\n",
              "Lead Number                                       0.00\n",
              "Lead Origin                                       0.00\n",
              "Lead Source                                       0.39\n",
              "Do Not Email                                      0.00\n",
              "Do Not Call                                       0.00\n",
              "Converted                                         0.00\n",
              "TotalVisits                                       1.48\n",
              "Total Time Spent on Website                       0.00\n",
              "Page Views Per Visit                              1.48\n",
              "Last Activity                                     1.11\n",
              "Country                                          26.63\n",
              "Specialization                                   36.58\n",
              "What is your current occupation                  29.11\n",
              "What matters most to you in choosing a course    29.32\n",
              "Search                                            0.00\n",
              "Magazine                                          0.00\n",
              "Newspaper Article                                 0.00\n",
              "X Education Forums                                0.00\n",
              "Newspaper                                         0.00\n",
              "Digital Advertisement                             0.00\n",
              "Through Recommendations                           0.00\n",
              "Receive More Updates About Our Courses            0.00\n",
              "Tags                                             36.29\n",
              "Update me on Supply Chain Content                 0.00\n",
              "Get updates on DM Content                         0.00\n",
              "City                                             39.71\n",
              "I agree to pay the amount through cheque          0.00\n",
              "A free copy of Mastering The Interview            0.00\n",
              "Last Notable Activity                             0.00\n",
              "dtype: float64"
            ]
          },
          "metadata": {},
          "execution_count": 417
        }
      ],
      "source": [
        "#lets recheck the dataframe for null values\n",
        "round((leads_df.isnull().sum()/leads_df.shape[0])*100,2)"
      ]
    },
    {
      "cell_type": "markdown",
      "id": "daa468e1",
      "metadata": {
        "id": "daa468e1"
      },
      "source": [
        "- **We dropped the columns having more than 40% null values.**"
      ]
    },
    {
      "cell_type": "code",
      "execution_count": 417,
      "id": "16977503",
      "metadata": {
        "id": "16977503"
      },
      "outputs": [],
      "source": []
    },
    {
      "cell_type": "markdown",
      "id": "14ff4f97",
      "metadata": {
        "id": "14ff4f97"
      },
      "source": [
        "Letus check columns one by one & clean them\n"
      ]
    },
    {
      "cell_type": "code",
      "execution_count": 418,
      "id": "feba54fa",
      "metadata": {
        "colab": {
          "base_uri": "https://localhost:8080/"
        },
        "id": "feba54fa",
        "outputId": "d9f8d853-f555-40e6-af4d-4590aee92ac4"
      },
      "outputs": [
        {
          "output_type": "stream",
          "name": "stdout",
          "text": [
            "Total Prospect ID's = 9240\n",
            "Total unique Prospect ID's = 9240\n"
          ]
        }
      ],
      "source": [
        "#Checking Prospect ID Columns\n",
        "print(\"Total Prospect ID's =\",leads_df['Prospect ID'].count())\n",
        "print(\"Total unique Prospect ID's =\" ,leads_df['Prospect ID'].nunique())\n"
      ]
    },
    {
      "cell_type": "markdown",
      "id": "b145a996",
      "metadata": {
        "id": "b145a996"
      },
      "source": [
        "We can say for each record we are having unique prospect ID , hence we can drop this column.This is confirmed by data dictionary also."
      ]
    },
    {
      "cell_type": "code",
      "execution_count": 419,
      "id": "d11a826d",
      "metadata": {
        "id": "d11a826d"
      },
      "outputs": [],
      "source": [
        "#dropping Prospect ID columns\n",
        "leads_df.drop('Prospect ID',axis=1,inplace=True)"
      ]
    },
    {
      "cell_type": "code",
      "execution_count": 420,
      "id": "2bfc87f5",
      "metadata": {
        "colab": {
          "base_uri": "https://localhost:8080/"
        },
        "id": "2bfc87f5",
        "outputId": "d7c96308-e54e-40e0-c693-961ad8309408"
      },
      "outputs": [
        {
          "output_type": "stream",
          "name": "stdout",
          "text": [
            "Total Lead Number's = 9240\n",
            "Total unique Lead Number's = 9240\n"
          ]
        }
      ],
      "source": [
        "#Checking Lead number\n",
        "print(\"Total Lead Number's =\",leads_df['Lead Number'].count())\n",
        "print(\"Total unique Lead Number's =\" ,leads_df['Lead Number'].nunique())\n"
      ]
    },
    {
      "cell_type": "markdown",
      "id": "80011abf",
      "metadata": {
        "id": "80011abf"
      },
      "source": [
        "We can say for each record we are having unique Lead Number , hence we can drop this column."
      ]
    },
    {
      "cell_type": "code",
      "execution_count": 421,
      "id": "be898e58",
      "metadata": {
        "id": "be898e58"
      },
      "outputs": [],
      "source": [
        "# dropping Lead Number \n",
        "leads_df.drop(\"Lead Number\",axis=1,inplace=True)"
      ]
    },
    {
      "cell_type": "code",
      "execution_count": 422,
      "id": "e607dadb",
      "metadata": {
        "colab": {
          "base_uri": "https://localhost:8080/"
        },
        "id": "e607dadb",
        "outputId": "7026de9f-6783-4dda-a8b1-ee3d77b6363d"
      },
      "outputs": [
        {
          "output_type": "execute_result",
          "data": {
            "text/plain": [
              "Landing Page Submission    4886\n",
              "API                        3580\n",
              "Lead Add Form               718\n",
              "Lead Import                  55\n",
              "Quick Add Form                1\n",
              "Name: Lead Origin, dtype: int64"
            ]
          },
          "metadata": {},
          "execution_count": 422
        }
      ],
      "source": [
        "# Checking Lead Origin\n",
        "leads_df['Lead Origin'].value_counts()"
      ]
    },
    {
      "cell_type": "code",
      "execution_count": 449,
      "id": "1a4ded88",
      "metadata": {
        "colab": {
          "base_uri": "https://localhost:8080/",
          "height": 451
        },
        "id": "1a4ded88",
        "outputId": "dc4952a2-8014-4bfc-8258-4585b3ecdf77"
      },
      "outputs": [
        {
          "output_type": "display_data",
          "data": {
            "text/plain": [
              "<Figure size 720x360 with 1 Axes>"
            ],
            "image/png": "[encoded data removed]"
          },
          "metadata": {
            "needs_background": "light"
          }
        }
      ],
      "source": [
        "# Lets do Univariate Analysis of Lead Origin \n",
        "plt.figure(figsize=(10,5))\n",
        "sns.countplot(x=leads_df['Lead Origin'],hue=leads_df['Converted'])\n",
        "plt.xticks(rotation=90)\n",
        "plt.show()"
      ]
    },
    {
      "cell_type": "markdown",
      "id": "f90e7e3b",
      "metadata": {
        "id": "f90e7e3b"
      },
      "source": [
        "- API and Landing Page Submission bring higher number of leads as well as conversion.\n",
        "- Lead Add Form has a very high conversion rate but count of leads are not very high.\n",
        "- Lead Import and Quick Add Form get very few leads.\n",
        "- In order to improve overall lead conversion rate, we have to improve lead converion of API and Landing Page Submission origin and generate more leads from Lead Add Form."
      ]
    },
    {
      "cell_type": "code",
      "execution_count": 424,
      "id": "7c9da263",
      "metadata": {
        "colab": {
          "base_uri": "https://localhost:8080/"
        },
        "id": "7c9da263",
        "outputId": "e517d54b-d653-4c1b-9ae7-afdece9c3b9c"
      },
      "outputs": [
        {
          "output_type": "execute_result",
          "data": {
            "text/plain": [
              "Google               2868\n",
              "Direct Traffic       2543\n",
              "Olark Chat           1755\n",
              "Organic Search       1154\n",
              "Reference             534\n",
              "Welingak Website      142\n",
              "Referral Sites        125\n",
              "Facebook               55\n",
              "bing                    6\n",
              "google                  5\n",
              "Click2call              4\n",
              "Press_Release           2\n",
              "Social Media            2\n",
              "Live Chat               2\n",
              "youtubechannel          1\n",
              "testone                 1\n",
              "Pay per Click Ads       1\n",
              "welearnblog_Home        1\n",
              "WeLearn                 1\n",
              "blog                    1\n",
              "NC_EDM                  1\n",
              "Name: Lead Source, dtype: int64"
            ]
          },
          "metadata": {},
          "execution_count": 424
        }
      ],
      "source": [
        "# Checking lead source column\n",
        "leads_df['Lead Source'].value_counts()"
      ]
    },
    {
      "cell_type": "markdown",
      "id": "3385d1ed",
      "metadata": {
        "id": "3385d1ed"
      },
      "source": [
        "We can see there is two type of Google is written, since python is case senstive ,it is apperings as another varible category.\n",
        "- We can change google to Google.\n",
        "- We can merge few low value count columns to others."
      ]
    },
    {
      "cell_type": "code",
      "execution_count": 425,
      "id": "ffd4b9fa",
      "metadata": {
        "id": "ffd4b9fa"
      },
      "outputs": [],
      "source": [
        "leads_df['Lead Source']=leads_df['Lead Source'].replace(\"google\",\"Google\")\n",
        "leads_df['Lead Source']=leads_df['Lead Source'].replace([\"Facebook\",'youtubechannel','Live Chat'],'Social Media')\n",
        "leads_df['Lead Source']=leads_df['Lead Source'].replace([\"blog\", \"Pay per Click Ads\",\"bing\",\"WeLearn\",\"Click2call\",\"welearnblog_Home\",\"testone\",\"Press_Release\",\"NC_EDM\"],\"Others\")"
      ]
    },
    {
      "cell_type": "code",
      "execution_count": 426,
      "id": "23f5482d",
      "metadata": {
        "colab": {
          "base_uri": "https://localhost:8080/"
        },
        "id": "23f5482d",
        "outputId": "ef78a560-8f47-40dd-b27c-b3da75d7fb59"
      },
      "outputs": [
        {
          "output_type": "execute_result",
          "data": {
            "text/plain": [
              "Google              2873\n",
              "Direct Traffic      2543\n",
              "Olark Chat          1755\n",
              "Organic Search      1154\n",
              "Reference            534\n",
              "Welingak Website     142\n",
              "Referral Sites       125\n",
              "Social Media          60\n",
              "Others                18\n",
              "Name: Lead Source, dtype: int64"
            ]
          },
          "metadata": {},
          "execution_count": 426
        }
      ],
      "source": [
        "# Lets check Lead Source Column again\n",
        "leads_df['Lead Source'].value_counts()"
      ]
    },
    {
      "cell_type": "code",
      "execution_count": 427,
      "id": "416b25f8",
      "metadata": {
        "colab": {
          "base_uri": "https://localhost:8080/",
          "height": 412
        },
        "id": "416b25f8",
        "outputId": "641fe499-abab-4a2f-a758-e9fac2f17904"
      },
      "outputs": [
        {
          "output_type": "display_data",
          "data": {
            "text/plain": [
              "<Figure size 720x360 with 1 Axes>"
            ],
            "image/png": "[encoded data removed]"
          },
          "metadata": {
            "needs_background": "light"
          }
        }
      ],
      "source": [
        "# Lets do Univariate Analysis of Lead Source \n",
        "plt.figure(figsize=(10,5))\n",
        "s1=sns.countplot(leads_df['Lead Source'], hue=leads_df['Converted'])\n",
        "plt.xticks(rotation=90)\n",
        "plt.legend(loc=1)\n",
        "plt.show()"
      ]
    },
    {
      "cell_type": "markdown",
      "id": "330639a3",
      "metadata": {
        "id": "330639a3"
      },
      "source": [
        " - **We Can see leads of Welingak Website & Reference have very higher conversion rate.**\n",
        " - **Where as Google, Direct Traffic , Organic Search & Olark Chat has lesser conversion ratio.**"
      ]
    },
    {
      "cell_type": "code",
      "execution_count": 428,
      "id": "64b20195",
      "metadata": {
        "colab": {
          "base_uri": "https://localhost:8080/"
        },
        "id": "64b20195",
        "outputId": "0b07c210-0cd2-41d1-d99b-b7b9620d2f37"
      },
      "outputs": [
        {
          "output_type": "execute_result",
          "data": {
            "text/plain": [
              "India                   6492\n",
              "NaN                     2461\n",
              "United States             69\n",
              "United Arab Emirates      53\n",
              "Singapore                 24\n",
              "Saudi Arabia              21\n",
              "United Kingdom            15\n",
              "Australia                 13\n",
              "Qatar                     10\n",
              "Bahrain                    7\n",
              "Hong Kong                  7\n",
              "Oman                       6\n",
              "France                     6\n",
              "unknown                    5\n",
              "Kuwait                     4\n",
              "South Africa               4\n",
              "Canada                     4\n",
              "Nigeria                    4\n",
              "Germany                    4\n",
              "Sweden                     3\n",
              "Philippines                2\n",
              "Uganda                     2\n",
              "Italy                      2\n",
              "Bangladesh                 2\n",
              "Netherlands                2\n",
              "Asia/Pacific Region        2\n",
              "China                      2\n",
              "Belgium                    2\n",
              "Ghana                      2\n",
              "Kenya                      1\n",
              "Sri Lanka                  1\n",
              "Tanzania                   1\n",
              "Malaysia                   1\n",
              "Liberia                    1\n",
              "Switzerland                1\n",
              "Denmark                    1\n",
              "Russia                     1\n",
              "Vietnam                    1\n",
              "Indonesia                  1\n",
              "Name: Country, dtype: int64"
            ]
          },
          "metadata": {},
          "execution_count": 428
        }
      ],
      "source": [
        "# Lets check Country \n",
        "leads_df['Country'].value_counts(dropna=False)"
      ]
    },
    {
      "cell_type": "code",
      "execution_count": 429,
      "id": "821bad92",
      "metadata": {
        "id": "821bad92"
      },
      "outputs": [],
      "source": [
        "# Since India is the most common occurence among the non-missing values we can impute all missing values with India\n",
        "\n",
        "leads_df['Country']=leads_df['Country'].replace(np.NaN,\"India\")"
      ]
    },
    {
      "cell_type": "code",
      "execution_count": 430,
      "id": "5e829b80",
      "metadata": {
        "colab": {
          "base_uri": "https://localhost:8080/"
        },
        "id": "5e829b80",
        "outputId": "a9c53f86-29c7-496f-be79-9a8c7a8a6865"
      },
      "outputs": [
        {
          "output_type": "execute_result",
          "data": {
            "text/plain": [
              "India                   8953\n",
              "United States             69\n",
              "United Arab Emirates      53\n",
              "Singapore                 24\n",
              "Saudi Arabia              21\n",
              "United Kingdom            15\n",
              "Australia                 13\n",
              "Qatar                     10\n",
              "Hong Kong                  7\n",
              "Bahrain                    7\n",
              "Oman                       6\n",
              "France                     6\n",
              "unknown                    5\n",
              "South Africa               4\n",
              "Nigeria                    4\n",
              "Germany                    4\n",
              "Kuwait                     4\n",
              "Canada                     4\n",
              "Sweden                     3\n",
              "China                      2\n",
              "Asia/Pacific Region        2\n",
              "Uganda                     2\n",
              "Bangladesh                 2\n",
              "Italy                      2\n",
              "Belgium                    2\n",
              "Netherlands                2\n",
              "Ghana                      2\n",
              "Philippines                2\n",
              "Russia                     1\n",
              "Switzerland                1\n",
              "Vietnam                    1\n",
              "Denmark                    1\n",
              "Tanzania                   1\n",
              "Liberia                    1\n",
              "Malaysia                   1\n",
              "Kenya                      1\n",
              "Sri Lanka                  1\n",
              "Indonesia                  1\n",
              "Name: Country, dtype: int64"
            ]
          },
          "metadata": {},
          "execution_count": 430
        }
      ],
      "source": [
        "#Lets check Country column again\n",
        "leads_df['Country'].value_counts()"
      ]
    },
    {
      "cell_type": "code",
      "execution_count": 431,
      "id": "b16ba805",
      "metadata": {
        "colab": {
          "base_uri": "https://localhost:8080/"
        },
        "id": "b16ba805",
        "outputId": "d7eda9b3-5af3-48f5-b234-67e12e30e249"
      },
      "outputs": [
        {
          "output_type": "execute_result",
          "data": {
            "text/plain": [
              "India                   96.89\n",
              "United States            0.75\n",
              "United Arab Emirates     0.57\n",
              "Singapore                0.26\n",
              "Saudi Arabia             0.23\n",
              "United Kingdom           0.16\n",
              "Australia                0.14\n",
              "Qatar                    0.11\n",
              "Hong Kong                0.08\n",
              "Bahrain                  0.08\n",
              "Oman                     0.06\n",
              "France                   0.06\n",
              "unknown                  0.05\n",
              "South Africa             0.04\n",
              "Nigeria                  0.04\n",
              "Germany                  0.04\n",
              "Kuwait                   0.04\n",
              "Canada                   0.04\n",
              "Sweden                   0.03\n",
              "China                    0.02\n",
              "Asia/Pacific Region      0.02\n",
              "Uganda                   0.02\n",
              "Bangladesh               0.02\n",
              "Italy                    0.02\n",
              "Belgium                  0.02\n",
              "Netherlands              0.02\n",
              "Ghana                    0.02\n",
              "Philippines              0.02\n",
              "Russia                   0.01\n",
              "Switzerland              0.01\n",
              "Vietnam                  0.01\n",
              "Denmark                  0.01\n",
              "Tanzania                 0.01\n",
              "Liberia                  0.01\n",
              "Malaysia                 0.01\n",
              "Kenya                    0.01\n",
              "Sri Lanka                0.01\n",
              "Indonesia                0.01\n",
              "Name: Country, dtype: float64"
            ]
          },
          "metadata": {},
          "execution_count": 431
        }
      ],
      "source": [
        "# Lets see % wise contribution\n",
        "round((leads_df['Country'].value_counts()/leads_df['Country'].count())*100,2)"
      ]
    },
    {
      "cell_type": "markdown",
      "id": "2882a289",
      "metadata": {
        "id": "2882a289"
      },
      "source": [
        "**We Can See Clearly for 96% Leads country is India Only. Therefore we can drop this column.**"
      ]
    },
    {
      "cell_type": "code",
      "execution_count": 432,
      "id": "c5e25f9c",
      "metadata": {
        "id": "c5e25f9c"
      },
      "outputs": [],
      "source": [
        "#dropping country column\n",
        "leads_df.drop(\"Country\",1,inplace=True)"
      ]
    },
    {
      "cell_type": "code",
      "execution_count": 433,
      "id": "3ec9e958",
      "metadata": {
        "colab": {
          "base_uri": "https://localhost:8080/"
        },
        "id": "3ec9e958",
        "outputId": "8eab2f4e-c6d8-40c6-e3b0-247e509ee8d7"
      },
      "outputs": [
        {
          "output_type": "execute_result",
          "data": {
            "text/plain": [
              "NaN                            3669\n",
              "Mumbai                         3222\n",
              "Thane & Outskirts               752\n",
              "Other Cities                    686\n",
              "Other Cities of Maharashtra     457\n",
              "Other Metro Cities              380\n",
              "Tier II Cities                   74\n",
              "Name: City, dtype: int64"
            ]
          },
          "metadata": {},
          "execution_count": 433
        }
      ],
      "source": [
        "#Letus check City Column\n",
        "leads_df['City'].value_counts(dropna=False)"
      ]
    },
    {
      "cell_type": "code",
      "execution_count": 434,
      "id": "f900e580",
      "metadata": {
        "id": "f900e580"
      },
      "outputs": [],
      "source": [
        "#Since Mumbai is mode of this column values , we can replace NaN values to Mumbai\n",
        "leads_df['City']=leads_df['City'].replace(np.NaN,\"Mumbai\")"
      ]
    },
    {
      "cell_type": "code",
      "execution_count": 435,
      "id": "dcfda8bb",
      "metadata": {
        "colab": {
          "base_uri": "https://localhost:8080/",
          "height": 462
        },
        "id": "dcfda8bb",
        "outputId": "8c0e7794-44b8-402f-877e-6f0d42799a9d"
      },
      "outputs": [
        {
          "output_type": "display_data",
          "data": {
            "text/plain": [
              "<Figure size 720x360 with 1 Axes>"
            ],
            "image/png": "[encoded data removed]"
          },
          "metadata": {
            "needs_background": "light"
          }
        }
      ],
      "source": [
        "# Lets do Univariate Analysis of city \n",
        "plt.figure(figsize=(10,5))\n",
        "s1=sns.countplot(leads_df['City'], hue=leads_df['Converted'])\n",
        "plt.xticks(rotation=90)\n",
        "plt.legend(loc=1)\n",
        "plt.show()"
      ]
    },
    {
      "cell_type": "code",
      "execution_count": 436,
      "id": "603f239b",
      "metadata": {
        "colab": {
          "base_uri": "https://localhost:8080/"
        },
        "id": "603f239b",
        "outputId": "76e4bddb-77b4-43d8-dab4-a5ad931dfa7a"
      },
      "outputs": [
        {
          "output_type": "execute_result",
          "data": {
            "text/plain": [
              "Email Opened                    3437\n",
              "SMS Sent                        2745\n",
              "Olark Chat Conversation          973\n",
              "Page Visited on Website          640\n",
              "Converted to Lead                428\n",
              "Email Bounced                    326\n",
              "Email Link Clicked               267\n",
              "Form Submitted on Website        116\n",
              "NaN                              103\n",
              "Unreachable                       93\n",
              "Unsubscribed                      61\n",
              "Had a Phone Conversation          30\n",
              "Approached upfront                 9\n",
              "View in browser link Clicked       6\n",
              "Email Received                     2\n",
              "Email Marked Spam                  2\n",
              "Visited Booth in Tradeshow         1\n",
              "Resubscribed to emails             1\n",
              "Name: Last Activity, dtype: int64"
            ]
          },
          "metadata": {},
          "execution_count": 436
        }
      ],
      "source": [
        "leads_df[\"Last Activity\"].value_counts(dropna=False)"
      ]
    },
    {
      "cell_type": "markdown",
      "id": "293dbc7a",
      "metadata": {
        "id": "293dbc7a"
      },
      "source": [
        "Since Email Opened is mod of the column , we can replace NaN values to Email Opened .\n",
        "We can merge fewer value_counts to others\n"
      ]
    },
    {
      "cell_type": "code",
      "execution_count": 437,
      "id": "0fb001da",
      "metadata": {
        "id": "0fb001da"
      },
      "outputs": [],
      "source": [
        "leads_df[\"Last Activity\"]=leads_df[\"Last Activity\"].replace(np.NaN,\"Email Opened\")\n",
        "leads_df[\"Last Activity\"]=leads_df[\"Last Activity\"].replace([\"Had a Phone Conversation\",\"Approached upfront\",\"View in browser link Clicked\",\"Email Received\",\"Email Marked Spam\",\"Visited Booth in Tradeshow\",\"Resubscribed to emails\"],\"Others\")"
      ]
    },
    {
      "cell_type": "code",
      "execution_count": 438,
      "id": "21698957",
      "metadata": {
        "colab": {
          "base_uri": "https://localhost:8080/"
        },
        "id": "21698957",
        "outputId": "c0176208-ba6c-4066-c59d-167cd278ba8b"
      },
      "outputs": [
        {
          "output_type": "execute_result",
          "data": {
            "text/plain": [
              "Email Opened                 3540\n",
              "SMS Sent                     2745\n",
              "Olark Chat Conversation       973\n",
              "Page Visited on Website       640\n",
              "Converted to Lead             428\n",
              "Email Bounced                 326\n",
              "Email Link Clicked            267\n",
              "Form Submitted on Website     116\n",
              "Unreachable                    93\n",
              "Unsubscribed                   61\n",
              "Others                         51\n",
              "Name: Last Activity, dtype: int64"
            ]
          },
          "metadata": {},
          "execution_count": 438
        }
      ],
      "source": [
        "leads_df[\"Last Activity\"].value_counts(dropna=False)"
      ]
    },
    {
      "cell_type": "code",
      "execution_count": 439,
      "id": "9bf9c20f",
      "metadata": {
        "colab": {
          "base_uri": "https://localhost:8080/",
          "height": 462
        },
        "id": "9bf9c20f",
        "outputId": "77793ec1-611e-4795-972a-ff6afae0b424"
      },
      "outputs": [
        {
          "output_type": "display_data",
          "data": {
            "text/plain": [
              "<Figure size 720x360 with 1 Axes>"
            ],
            "image/png": "[encoded data removed]"
          },
          "metadata": {
            "needs_background": "light"
          }
        }
      ],
      "source": [
        "# Lets check the spread of Last Activity\n",
        "plt.figure(figsize=(10,5))\n",
        "sns.countplot(x=leads_df[\"Last Activity\"],hue=leads_df[\"Converted\"])\n",
        "plt.xticks(rotation=90)\n",
        "plt.show()"
      ]
    },
    {
      "cell_type": "markdown",
      "id": "9228a4ff",
      "metadata": {
        "id": "9228a4ff"
      },
      "source": [
        "**We can clearly see that SMS Sent has high conversion rate than others.**"
      ]
    },
    {
      "cell_type": "code",
      "execution_count": 440,
      "id": "d01b971b",
      "metadata": {
        "colab": {
          "base_uri": "https://localhost:8080/"
        },
        "id": "d01b971b",
        "outputId": "33882498-7277-49c9-b054-5dc7992d3c17"
      },
      "outputs": [
        {
          "output_type": "execute_result",
          "data": {
            "text/plain": [
              "NaN                                  3380\n",
              "Finance Management                    976\n",
              "Human Resource Management             848\n",
              "Marketing Management                  838\n",
              "Operations Management                 503\n",
              "Business Administration               403\n",
              "IT Projects Management                366\n",
              "Supply Chain Management               349\n",
              "Banking, Investment And Insurance     338\n",
              "Travel and Tourism                    203\n",
              "Media and Advertising                 203\n",
              "International Business                178\n",
              "Healthcare Management                 159\n",
              "Hospitality Management                114\n",
              "E-COMMERCE                            112\n",
              "Retail Management                     100\n",
              "Rural and Agribusiness                 73\n",
              "E-Business                             57\n",
              "Services Excellence                    40\n",
              "Name: Specialization, dtype: int64"
            ]
          },
          "metadata": {},
          "execution_count": 440
        }
      ],
      "source": [
        "# Lets check Specialization column\n",
        "leads_df[\"Specialization\"].value_counts(dropna=False)"
      ]
    },
    {
      "cell_type": "code",
      "execution_count": 441,
      "id": "683945d4",
      "metadata": {
        "id": "683945d4"
      },
      "outputs": [],
      "source": [
        "# Since No column is having more counts than NaN values , we can imput Others in place of NaN values.\n",
        "leads_df[\"Specialization\"]=leads_df[\"Specialization\"].replace(np.NaN,\"Others\")"
      ]
    },
    {
      "cell_type": "code",
      "execution_count": 442,
      "id": "19cae66b",
      "metadata": {
        "id": "19cae66b"
      },
      "outputs": [],
      "source": [
        "# Since there are many columns having Management in common we can merge them into one.\n",
        "leads_df[\"Specialization\"]=leads_df[\"Specialization\"].replace([\"Finance Management\",\"Human Resource Management\",\n",
        "                                                               \"Marketing Management\",\n",
        "                                                               \"Operations Management\",\n",
        "                                                               \"IT Projects Management\",\"Supply Chain Management\",\n",
        "                                                              \"Healthcare Management\",\n",
        "                                                               \"Hospitality Management\",\n",
        "                                                               \"Retail Management\"],\"Management\")\n",
        "leads_df[\"Specialization\"]=leads_df[\"Specialization\"].replace([\"E-COMMERCE\",\"E-Business\"],\"E_Commerce\")"
      ]
    },
    {
      "cell_type": "code",
      "execution_count": 443,
      "id": "46d00847",
      "metadata": {
        "colab": {
          "base_uri": "https://localhost:8080/"
        },
        "id": "46d00847",
        "outputId": "93e4e3fb-8bab-40c7-be56-a6402502a5f2"
      },
      "outputs": [
        {
          "output_type": "execute_result",
          "data": {
            "text/plain": [
              "Management                           4253\n",
              "Others                               3380\n",
              "Business Administration               403\n",
              "Banking, Investment And Insurance     338\n",
              "Media and Advertising                 203\n",
              "Travel and Tourism                    203\n",
              "International Business                178\n",
              "E_Commerce                            169\n",
              "Rural and Agribusiness                 73\n",
              "Services Excellence                    40\n",
              "Name: Specialization, dtype: int64"
            ]
          },
          "metadata": {},
          "execution_count": 443
        }
      ],
      "source": [
        "leads_df[\"Specialization\"].value_counts(dropna=False)"
      ]
    },
    {
      "cell_type": "code",
      "execution_count": 445,
      "id": "c6be5883",
      "metadata": {
        "colab": {
          "base_uri": "https://localhost:8080/",
          "height": 503
        },
        "id": "c6be5883",
        "outputId": "e20dd3b5-b376-4b12-d862-de776ba09284"
      },
      "outputs": [
        {
          "output_type": "display_data",
          "data": {
            "text/plain": [
              "<Figure size 720x360 with 1 Axes>"
            ],
            "image/png": "[encoded data removed]"
          },
          "metadata": {
            "needs_background": "light"
          }
        }
      ],
      "source": [
        "# Lets check spread of Specialization column\n",
        "plt.figure(figsize=(10,5))\n",
        "sns.countplot(x=leads_df[\"Specialization\"],hue=leads_df[\"Converted\"])\n",
        "plt.xticks(rotation=90)\n",
        "plt.show()"
      ]
    },
    {
      "cell_type": "code",
      "execution_count": 251,
      "id": "9f659d2c",
      "metadata": {
        "colab": {
          "base_uri": "https://localhost:8080/"
        },
        "id": "9f659d2c",
        "outputId": "2083a1e1-59cf-4125-82d8-d590aee4619f"
      },
      "outputs": [
        {
          "output_type": "execute_result",
          "data": {
            "text/plain": [
              "Unemployed              5600\n",
              "NaN                     2690\n",
              "Working Professional     706\n",
              "Student                  210\n",
              "Other                     16\n",
              "Housewife                 10\n",
              "Businessman                8\n",
              "Name: What is your current occupation, dtype: int64"
            ]
          },
          "metadata": {},
          "execution_count": 251
        }
      ],
      "source": [
        "#Lets check Column-- What is your current occupation\n",
        "leads_df[\"What is your current occupation\"].value_counts(dropna=False)\n"
      ]
    },
    {
      "cell_type": "code",
      "execution_count": 252,
      "id": "c7f4220d",
      "metadata": {
        "id": "c7f4220d"
      },
      "outputs": [],
      "source": [
        "#Changing NaN Values to Unemployed Category\n",
        "leads_df[\"What is your current occupation\"]=leads_df[\"What is your current occupation\"].replace(np.NaN,\"Unemployed\")"
      ]
    },
    {
      "cell_type": "code",
      "execution_count": 446,
      "id": "37f96317",
      "metadata": {
        "colab": {
          "base_uri": "https://localhost:8080/",
          "height": 428
        },
        "id": "37f96317",
        "outputId": "1c95d8b5-7bf4-4998-8983-217172c0cc74"
      },
      "outputs": [
        {
          "output_type": "display_data",
          "data": {
            "text/plain": [
              "<Figure size 720x360 with 1 Axes>"
            ],
            "image/png": "[encoded data removed]"
          },
          "metadata": {
            "needs_background": "light"
          }
        }
      ],
      "source": [
        "#Letus check the spread of column with respect to Converted Column\n",
        "plt.figure(figsize=(10,5))\n",
        "sns.countplot(x=leads_df[\"What is your current occupation\"],hue=leads_df[\"Converted\"])\n",
        "plt.xticks(rotation=90)\n",
        "plt.show()"
      ]
    },
    {
      "cell_type": "markdown",
      "id": "5d9e5ea3",
      "metadata": {
        "id": "5d9e5ea3"
      },
      "source": [
        "- **We can clearly see that Working Professional are more succesfull leads.**\n",
        "- **In terms of absolute numbers , unemployed is high.**"
      ]
    },
    {
      "cell_type": "code",
      "execution_count": 254,
      "id": "d9768852",
      "metadata": {
        "colab": {
          "base_uri": "https://localhost:8080/"
        },
        "id": "d9768852",
        "outputId": "715899a4-c97b-4ae3-b307-039435a633f2"
      },
      "outputs": [
        {
          "output_type": "execute_result",
          "data": {
            "text/plain": [
              "Better Career Prospects      6528\n",
              "NaN                          2709\n",
              "Flexibility & Convenience       2\n",
              "Other                           1\n",
              "Name: What matters most to you in choosing a course, dtype: int64"
            ]
          },
          "metadata": {},
          "execution_count": 254
        }
      ],
      "source": [
        "#Lets check What matters most to you in choosing a course column\n",
        "leads_df[\"What matters most to you in choosing a course\"].value_counts(dropna=False)"
      ]
    },
    {
      "cell_type": "code",
      "execution_count": 255,
      "id": "aa71576e",
      "metadata": {
        "id": "aa71576e"
      },
      "outputs": [],
      "source": [
        "#We Can replace NaN values to Better Career Prospects.\n",
        "leads_df[\"What matters most to you in choosing a course\"]=leads_df[\"What matters most to you in choosing a course\"].replace(np.NaN,\"Better Career Prospects\")"
      ]
    },
    {
      "cell_type": "code",
      "execution_count": 256,
      "id": "0a20fe26",
      "metadata": {
        "colab": {
          "base_uri": "https://localhost:8080/"
        },
        "id": "0a20fe26",
        "outputId": "5dae1a00-d312-446f-bac7-9f80d1128dfe"
      },
      "outputs": [
        {
          "output_type": "execute_result",
          "data": {
            "text/plain": [
              "Better Career Prospects      9237\n",
              "Flexibility & Convenience       2\n",
              "Other                           1\n",
              "Name: What matters most to you in choosing a course, dtype: int64"
            ]
          },
          "metadata": {},
          "execution_count": 256
        }
      ],
      "source": [
        "# Lets check again\n",
        "leads_df[\"What matters most to you in choosing a course\"].value_counts(dropna=False)"
      ]
    },
    {
      "cell_type": "markdown",
      "id": "2bc300ef",
      "metadata": {
        "id": "2bc300ef"
      },
      "source": [
        "Since column category is almost same as \"Better Career Prospects\". We can drop this column."
      ]
    },
    {
      "cell_type": "code",
      "execution_count": 257,
      "id": "5da82bbc",
      "metadata": {
        "id": "5da82bbc"
      },
      "outputs": [],
      "source": [
        "# Creating list of column to be dropped\n",
        "Drop_Column=[]"
      ]
    },
    {
      "cell_type": "code",
      "execution_count": 258,
      "id": "d8cd5077",
      "metadata": {
        "id": "d8cd5077"
      },
      "outputs": [],
      "source": [
        "#adding column to Dr0p_Column list\n",
        "Drop_Column.append(\"What matters most to you in choosing a course\")"
      ]
    },
    {
      "cell_type": "code",
      "execution_count": 259,
      "id": "2579aa45",
      "metadata": {
        "colab": {
          "base_uri": "https://localhost:8080/"
        },
        "id": "2579aa45",
        "outputId": "3b52f446-ff53-458f-fb81-b840d22dc25f"
      },
      "outputs": [
        {
          "output_type": "execute_result",
          "data": {
            "text/plain": [
              "No     9226\n",
              "Yes      14\n",
              "Name: Search, dtype: int64"
            ]
          },
          "metadata": {},
          "execution_count": 259
        }
      ],
      "source": [
        "#Lets check Search Column\n",
        "leads_df[\"Search\"].value_counts(dropna=False)"
      ]
    },
    {
      "cell_type": "code",
      "execution_count": 260,
      "id": "4a8c23fb",
      "metadata": {
        "id": "4a8c23fb"
      },
      "outputs": [],
      "source": [
        "#We can drop this column also . Adding to Drop_Column list\n",
        "Drop_Column.append(\"Search\")"
      ]
    },
    {
      "cell_type": "code",
      "execution_count": 261,
      "id": "c85e13c3",
      "metadata": {
        "colab": {
          "base_uri": "https://localhost:8080/"
        },
        "id": "c85e13c3",
        "outputId": "1b8f1a8f-ef66-4a87-b0bb-5973e5d24f9f"
      },
      "outputs": [
        {
          "output_type": "execute_result",
          "data": {
            "text/plain": [
              "No    9240\n",
              "Name: Magazine, dtype: int64"
            ]
          },
          "metadata": {},
          "execution_count": 261
        }
      ],
      "source": [
        "# Lets check Magazine Column\n",
        "leads_df[\"Magazine\"].value_counts(dropna=False)"
      ]
    },
    {
      "cell_type": "code",
      "execution_count": 262,
      "id": "c94a97be",
      "metadata": {
        "id": "c94a97be"
      },
      "outputs": [],
      "source": [
        "#We can drop this column also . Adding to Drop_Column list\n",
        "Drop_Column.append(\"Magazine\")"
      ]
    },
    {
      "cell_type": "code",
      "execution_count": 263,
      "id": "19945156",
      "metadata": {
        "colab": {
          "base_uri": "https://localhost:8080/"
        },
        "id": "19945156",
        "outputId": "8387a868-831b-4a20-abbb-1624b7069124"
      },
      "outputs": [
        {
          "output_type": "execute_result",
          "data": {
            "text/plain": [
              "No     9238\n",
              "Yes       2\n",
              "Name: Newspaper Article, dtype: int64"
            ]
          },
          "metadata": {},
          "execution_count": 263
        }
      ],
      "source": [
        "#Lets check Newspaper Article column\n",
        "leads_df[\"Newspaper Article\"].value_counts(dropna=False)"
      ]
    },
    {
      "cell_type": "code",
      "execution_count": 264,
      "id": "b66120b8",
      "metadata": {
        "id": "b66120b8"
      },
      "outputs": [],
      "source": [
        "#We can drop this column also . Adding to Drop_Column list\n",
        "Drop_Column.append(\"Newspaper Article\")"
      ]
    },
    {
      "cell_type": "code",
      "execution_count": 265,
      "id": "15def297",
      "metadata": {
        "colab": {
          "base_uri": "https://localhost:8080/"
        },
        "id": "15def297",
        "outputId": "ee15dfce-a11f-4c7d-d892-2070ba672ca5"
      },
      "outputs": [
        {
          "output_type": "execute_result",
          "data": {
            "text/plain": [
              "No     9239\n",
              "Yes       1\n",
              "Name: X Education Forums, dtype: int64"
            ]
          },
          "metadata": {},
          "execution_count": 265
        }
      ],
      "source": [
        "# Letus check X Education Forums column\n",
        "leads_df['X Education Forums'].value_counts(dropna=False)"
      ]
    },
    {
      "cell_type": "code",
      "execution_count": 266,
      "id": "460aa931",
      "metadata": {
        "id": "460aa931"
      },
      "outputs": [],
      "source": [
        "#We can drop this column also . Adding to Drop_Column list\n",
        "Drop_Column.append(\"X Education Forums\")"
      ]
    },
    {
      "cell_type": "code",
      "execution_count": 267,
      "id": "4884e57f",
      "metadata": {
        "colab": {
          "base_uri": "https://localhost:8080/"
        },
        "id": "4884e57f",
        "outputId": "69266fcd-bb35-4219-daa0-eae31e0d9296"
      },
      "outputs": [
        {
          "output_type": "execute_result",
          "data": {
            "text/plain": [
              "No     9239\n",
              "Yes       1\n",
              "Name: Newspaper, dtype: int64"
            ]
          },
          "metadata": {},
          "execution_count": 267
        }
      ],
      "source": [
        "# Lets check Newspaper Column\n",
        "leads_df[\"Newspaper\"].value_counts(dropna=False)"
      ]
    },
    {
      "cell_type": "code",
      "execution_count": 268,
      "id": "3084ac43",
      "metadata": {
        "id": "3084ac43"
      },
      "outputs": [],
      "source": [
        "\n",
        "#We can drop this column also . Adding to Drop_Column list\n",
        "Drop_Column.append(\"Newspaper\")"
      ]
    },
    {
      "cell_type": "code",
      "execution_count": 269,
      "id": "4c84be9d",
      "metadata": {
        "colab": {
          "base_uri": "https://localhost:8080/"
        },
        "id": "4c84be9d",
        "outputId": "4ea99093-4dee-4504-aa35-8a9a20b1a985"
      },
      "outputs": [
        {
          "output_type": "execute_result",
          "data": {
            "text/plain": [
              "No     9236\n",
              "Yes       4\n",
              "Name: Digital Advertisement, dtype: int64"
            ]
          },
          "metadata": {},
          "execution_count": 269
        }
      ],
      "source": [
        "# Letus check Digital Advertisement column\n",
        "leads_df[\"Digital Advertisement\"].value_counts(dropna=False)"
      ]
    },
    {
      "cell_type": "code",
      "execution_count": 270,
      "id": "ccd72bb9",
      "metadata": {
        "id": "ccd72bb9"
      },
      "outputs": [],
      "source": [
        "# We can drop this column also . Adding to Drop_Column list\n",
        "Drop_Column.append(\"Digital Advertisement\")"
      ]
    },
    {
      "cell_type": "code",
      "execution_count": 271,
      "id": "80e0e805",
      "metadata": {
        "colab": {
          "base_uri": "https://localhost:8080/"
        },
        "id": "80e0e805",
        "outputId": "fec17ab2-7e89-49eb-ab71-190132e1eaa2"
      },
      "outputs": [
        {
          "output_type": "execute_result",
          "data": {
            "text/plain": [
              "No     9233\n",
              "Yes       7\n",
              "Name: Through Recommendations, dtype: int64"
            ]
          },
          "metadata": {},
          "execution_count": 271
        }
      ],
      "source": [
        "# Letus check Through Recommendations column\n",
        "leads_df[\"Through Recommendations\"].value_counts(dropna=False)"
      ]
    },
    {
      "cell_type": "code",
      "execution_count": 272,
      "id": "710b9322",
      "metadata": {
        "id": "710b9322"
      },
      "outputs": [],
      "source": [
        "\n",
        "# We can drop this column also . Adding to Drop_Column list\n",
        "Drop_Column.append(\"Through Recommendations\")"
      ]
    },
    {
      "cell_type": "code",
      "execution_count": 273,
      "id": "85f953c8",
      "metadata": {
        "colab": {
          "base_uri": "https://localhost:8080/"
        },
        "id": "85f953c8",
        "outputId": "c4c37ff8-9b16-42e8-8053-f78d285e93fc"
      },
      "outputs": [
        {
          "output_type": "execute_result",
          "data": {
            "text/plain": [
              "No    9240\n",
              "Name: Receive More Updates About Our Courses, dtype: int64"
            ]
          },
          "metadata": {},
          "execution_count": 273
        }
      ],
      "source": [
        "# Letus check Receive More Updates About Our Courses column\n",
        "leads_df[\"Receive More Updates About Our Courses\"].value_counts(dropna=False)"
      ]
    },
    {
      "cell_type": "code",
      "execution_count": 274,
      "id": "379e53b8",
      "metadata": {
        "id": "379e53b8"
      },
      "outputs": [],
      "source": [
        "# We can drop this column also . Adding to Drop_Column list\n",
        "Drop_Column.append(\"Receive More Updates About Our Courses\")"
      ]
    },
    {
      "cell_type": "code",
      "execution_count": 275,
      "id": "ce68d103",
      "metadata": {
        "scrolled": true,
        "colab": {
          "base_uri": "https://localhost:8080/"
        },
        "id": "ce68d103",
        "outputId": "dd517d17-8091-4af8-96e3-60a1b7e790ae"
      },
      "outputs": [
        {
          "output_type": "execute_result",
          "data": {
            "text/plain": [
              "NaN                                                  3353\n",
              "Will revert after reading the email                  2072\n",
              "Ringing                                              1203\n",
              "Interested in other courses                           513\n",
              "Already a student                                     465\n",
              "Closed by Horizzon                                    358\n",
              "switched off                                          240\n",
              "Busy                                                  186\n",
              "Lost to EINS                                          175\n",
              "Not doing further education                           145\n",
              "Interested  in full time MBA                          117\n",
              "Graduation in progress                                111\n",
              "invalid number                                         83\n",
              "Diploma holder (Not Eligible)                          63\n",
              "wrong number given                                     47\n",
              "opp hangup                                             33\n",
              "number not provided                                    27\n",
              "in touch with EINS                                     12\n",
              "Lost to Others                                          7\n",
              "Still Thinking                                          6\n",
              "Want to take admission but has financial problems       6\n",
              "In confusion whether part time or DLP                   5\n",
              "Interested in Next batch                                5\n",
              "Lateral student                                         3\n",
              "Shall take in the next coming month                     2\n",
              "University not recognized                               2\n",
              "Recognition issue (DEC approval)                        1\n",
              "Name: Tags, dtype: int64"
            ]
          },
          "metadata": {},
          "execution_count": 275
        }
      ],
      "source": [
        "# Letus Check Tags column\n",
        "leads_df[\"Tags\"].value_counts(dropna=False)"
      ]
    },
    {
      "cell_type": "markdown",
      "id": "f4f810c1",
      "metadata": {
        "id": "f4f810c1"
      },
      "source": [
        "We can convert NaN values to Will revert after reading the email.\n",
        "Also we can merge fewer value counts columns to others"
      ]
    },
    {
      "cell_type": "code",
      "execution_count": 276,
      "id": "88f25aa0",
      "metadata": {
        "id": "88f25aa0"
      },
      "outputs": [],
      "source": [
        "leads_df['Tags']=leads_df['Tags'].replace(np.NaN,\"Will revert after reading the email\")"
      ]
    },
    {
      "cell_type": "code",
      "execution_count": 277,
      "id": "9ac4477b",
      "metadata": {
        "id": "9ac4477b"
      },
      "outputs": [],
      "source": [
        "leads_df[\"Tags\"]=leads_df[\"Tags\"].replace([\"invalid number\",\"Diploma holder (Not Eligible)\",\n",
        "                                           \"wrong number given\",\"opp hangup\",\n",
        "                                           \"number not provided\",\"in touch with EINS\",\"Lost to Others\",\"Still Thinking\"\n",
        "                                           ,\"Want to take admission but has financial problems\",\"In confusion whether part time or DLP\",\n",
        "                                           \"Interested in Next batch\",\"Lateral student\",\"Shall take in the next coming month\",\n",
        "                                           \"University not recognized\",\"Recognition issue (DEC approval)\"],\"Others\")"
      ]
    },
    {
      "cell_type": "code",
      "execution_count": 278,
      "id": "cdab1f82",
      "metadata": {
        "colab": {
          "base_uri": "https://localhost:8080/"
        },
        "id": "cdab1f82",
        "outputId": "44413e6f-e236-4765-e8d7-fe739e4c2304"
      },
      "outputs": [
        {
          "output_type": "execute_result",
          "data": {
            "text/plain": [
              "Will revert after reading the email    5425\n",
              "Ringing                                1203\n",
              "Interested in other courses             513\n",
              "Already a student                       465\n",
              "Closed by Horizzon                      358\n",
              "Others                                  302\n",
              "switched off                            240\n",
              "Busy                                    186\n",
              "Lost to EINS                            175\n",
              "Not doing further education             145\n",
              "Interested  in full time MBA            117\n",
              "Graduation in progress                  111\n",
              "Name: Tags, dtype: int64"
            ]
          },
          "metadata": {},
          "execution_count": 278
        }
      ],
      "source": [
        "# Letus check again\n",
        "leads_df[\"Tags\"].value_counts(dropna=False)"
      ]
    },
    {
      "cell_type": "code",
      "execution_count": 447,
      "id": "82a36db3",
      "metadata": {
        "colab": {
          "base_uri": "https://localhost:8080/",
          "height": 577
        },
        "id": "82a36db3",
        "outputId": "006c2d85-0eb1-4077-8e06-0ce2eb16b28c"
      },
      "outputs": [
        {
          "output_type": "display_data",
          "data": {
            "text/plain": [
              "<Figure size 720x360 with 1 Axes>"
            ],
            "image/png": "[encoded data removed]"
          },
          "metadata": {
            "needs_background": "light"
          }
        }
      ],
      "source": [
        "# Letus check spread of column with respect to  converted \n",
        "plt.figure(figsize=(10,5))\n",
        "sns.countplot(x=leads_df[\"Tags\"],hue=leads_df[\"Converted\"])\n",
        "plt.xticks(rotation=90)\n",
        "plt.show()"
      ]
    },
    {
      "cell_type": "code",
      "execution_count": 280,
      "id": "5cf4d21a",
      "metadata": {
        "colab": {
          "base_uri": "https://localhost:8080/"
        },
        "id": "5cf4d21a",
        "outputId": "b7475f7e-32f1-414c-a040-ccc2e255bdef"
      },
      "outputs": [
        {
          "output_type": "execute_result",
          "data": {
            "text/plain": [
              "No    9240\n",
              "Name: Update me on Supply Chain Content, dtype: int64"
            ]
          },
          "metadata": {},
          "execution_count": 280
        }
      ],
      "source": [
        "# Letus check 'Update me on Supply Chain Content' column\n",
        "leads_df['Update me on Supply Chain Content'].value_counts(dropna=False)"
      ]
    },
    {
      "cell_type": "code",
      "execution_count": 281,
      "id": "ec3e8805",
      "metadata": {
        "id": "ec3e8805"
      },
      "outputs": [],
      "source": [
        "# We can drop this column also . Adding to Drop_Column list\n",
        "Drop_Column.append(\"Update me on Supply Chain Content\")"
      ]
    },
    {
      "cell_type": "code",
      "execution_count": 282,
      "id": "1bba3482",
      "metadata": {
        "colab": {
          "base_uri": "https://localhost:8080/"
        },
        "id": "1bba3482",
        "outputId": "921cad62-7bee-4ad3-f358-9436e12b0381"
      },
      "outputs": [
        {
          "output_type": "execute_result",
          "data": {
            "text/plain": [
              "No    9240\n",
              "Name: Get updates on DM Content, dtype: int64"
            ]
          },
          "metadata": {},
          "execution_count": 282
        }
      ],
      "source": [
        "# Letus check 'Get updates on DM Content'\n",
        "leads_df[\"Get updates on DM Content\"].value_counts(dropna=False)"
      ]
    },
    {
      "cell_type": "code",
      "execution_count": 283,
      "id": "cf03a060",
      "metadata": {
        "id": "cf03a060"
      },
      "outputs": [],
      "source": [
        "# We can drop this column also . Adding to Drop_Column list\n",
        "Drop_Column.append(\"Get updates on DM Content\")"
      ]
    },
    {
      "cell_type": "code",
      "execution_count": 284,
      "id": "5e40f088",
      "metadata": {
        "colab": {
          "base_uri": "https://localhost:8080/"
        },
        "id": "5e40f088",
        "outputId": "c180a2b4-44a1-4a96-cd0a-9544794028be"
      },
      "outputs": [
        {
          "output_type": "execute_result",
          "data": {
            "text/plain": [
              "No     9238\n",
              "Yes       2\n",
              "Name: Do Not Call, dtype: int64"
            ]
          },
          "metadata": {},
          "execution_count": 284
        }
      ],
      "source": [
        "# Letus check Do Not Call column\n",
        "leads_df[\"Do Not Call\"].value_counts(dropna=False)"
      ]
    },
    {
      "cell_type": "code",
      "execution_count": 285,
      "id": "7c5a51e6",
      "metadata": {
        "id": "7c5a51e6"
      },
      "outputs": [],
      "source": [
        "# We can drop this column also . Adding to Drop_Column list\n",
        "Drop_Column.append(\"Do Not Call\")"
      ]
    },
    {
      "cell_type": "code",
      "execution_count": 286,
      "id": "4c35d6a8",
      "metadata": {
        "colab": {
          "base_uri": "https://localhost:8080/"
        },
        "id": "4c35d6a8",
        "outputId": "36064470-594d-45e8-fa06-e4ac954c76b9"
      },
      "outputs": [
        {
          "output_type": "execute_result",
          "data": {
            "text/plain": [
              "No     8506\n",
              "Yes     734\n",
              "Name: Do Not Email, dtype: int64"
            ]
          },
          "metadata": {},
          "execution_count": 286
        }
      ],
      "source": [
        "# Letus check Do Not Email column\n",
        "leads_df[\"Do Not Email\"].value_counts(dropna=False)"
      ]
    },
    {
      "cell_type": "code",
      "execution_count": 287,
      "id": "b4735e28",
      "metadata": {
        "colab": {
          "base_uri": "https://localhost:8080/"
        },
        "id": "b4735e28",
        "outputId": "dbf43d56-179b-4d24-922d-0e6eec7fcacd"
      },
      "outputs": [
        {
          "output_type": "execute_result",
          "data": {
            "text/plain": [
              "No    9240\n",
              "Name: I agree to pay the amount through cheque, dtype: int64"
            ]
          },
          "metadata": {},
          "execution_count": 287
        }
      ],
      "source": [
        "# Letus check I agree to pay the amount through cheque column\n",
        "leads_df[\"I agree to pay the amount through cheque\"].value_counts(dropna=False)"
      ]
    },
    {
      "cell_type": "code",
      "execution_count": 288,
      "id": "4b4cf062",
      "metadata": {
        "id": "4b4cf062"
      },
      "outputs": [],
      "source": [
        "# We can drop this column also . Adding to Drop_Column list\n",
        "Drop_Column.append(\"I agree to pay the amount through cheque\")"
      ]
    },
    {
      "cell_type": "code",
      "execution_count": 289,
      "id": "b60a1977",
      "metadata": {
        "colab": {
          "base_uri": "https://localhost:8080/"
        },
        "id": "b60a1977",
        "outputId": "e08f6c90-69d2-4cb1-db91-276a2c4b5b1e"
      },
      "outputs": [
        {
          "output_type": "execute_result",
          "data": {
            "text/plain": [
              "No     6352\n",
              "Yes    2888\n",
              "Name: A free copy of Mastering The Interview, dtype: int64"
            ]
          },
          "metadata": {},
          "execution_count": 289
        }
      ],
      "source": [
        "# Letus check 'A free copy of Mastering The Interview' column\n",
        "leads_df[\"A free copy of Mastering The Interview\"].value_counts(dropna=False)"
      ]
    },
    {
      "cell_type": "code",
      "execution_count": 290,
      "id": "f72a7dfa",
      "metadata": {
        "scrolled": true,
        "colab": {
          "base_uri": "https://localhost:8080/"
        },
        "id": "f72a7dfa",
        "outputId": "68261a74-d45d-49d7-e18e-ca4f5af4fd3e"
      },
      "outputs": [
        {
          "output_type": "execute_result",
          "data": {
            "text/plain": [
              "Modified                        3407\n",
              "Email Opened                    2827\n",
              "SMS Sent                        2172\n",
              "Page Visited on Website          318\n",
              "Olark Chat Conversation          183\n",
              "Email Link Clicked               173\n",
              "Email Bounced                     60\n",
              "Unsubscribed                      47\n",
              "Unreachable                       32\n",
              "Had a Phone Conversation          14\n",
              "Email Marked Spam                  2\n",
              "Approached upfront                 1\n",
              "Resubscribed to emails             1\n",
              "View in browser link Clicked       1\n",
              "Form Submitted on Website          1\n",
              "Email Received                     1\n",
              "Name: Last Notable Activity, dtype: int64"
            ]
          },
          "metadata": {},
          "execution_count": 290
        }
      ],
      "source": [
        "# Letus check 'Last Notable Activity' column\n",
        "leads_df[\"Last Notable Activity\"].value_counts(dropna=False)"
      ]
    },
    {
      "cell_type": "code",
      "execution_count": 291,
      "id": "9fca2fb5",
      "metadata": {
        "id": "9fca2fb5"
      },
      "outputs": [],
      "source": [
        "# letus merge fewer count to Others category\n",
        "leads_df[\"Last Notable Activity\"]=leads_df[\"Last Notable Activity\"].replace([\"Email Bounced\",\"Unsubscribed\",\n",
        "                    \"Unreachable\"   ,  \"Had a Phone Conversation\" ,\"Email Marked Spam\" ,\"Approached upfront\"  ,\n",
        "                     \"Resubscribed to emails\",\"View in browser link Clicked\",\"Form Submitted on Website\",\n",
        "                \"Email Received \" ],\"Others\")"
      ]
    },
    {
      "cell_type": "code",
      "execution_count": 448,
      "id": "9270a6d3",
      "metadata": {
        "colab": {
          "base_uri": "https://localhost:8080/",
          "height": 463
        },
        "id": "9270a6d3",
        "outputId": "3e87ebfc-8d42-4b5a-c28c-af8b2e138588"
      },
      "outputs": [
        {
          "output_type": "display_data",
          "data": {
            "text/plain": [
              "<Figure size 720x360 with 1 Axes>"
            ],
            "image/png": "[encoded data removed]"
          },
          "metadata": {
            "needs_background": "light"
          }
        }
      ],
      "source": [
        "# Letus check spread of the column with respect to converted\n",
        "plt.figure(figsize=(10,5))\n",
        "sns.countplot(x=leads_df[\"Last Notable Activity\"],hue=leads_df[\"Converted\"])\n",
        "plt.xticks(rotation=90)\n",
        "plt.show()"
      ]
    },
    {
      "cell_type": "code",
      "execution_count": 293,
      "id": "b42a3f95",
      "metadata": {
        "id": "b42a3f95"
      },
      "outputs": [],
      "source": [
        "# Letus drop the columns of Drop_Column list\n",
        "leads_df.drop(Drop_Column,axis=1, inplace=True)"
      ]
    },
    {
      "cell_type": "code",
      "execution_count": 294,
      "id": "796f4b8f",
      "metadata": {
        "colab": {
          "base_uri": "https://localhost:8080/"
        },
        "id": "796f4b8f",
        "outputId": "3c5baedc-0df1-4678-f4ed-f85d01e689c0"
      },
      "outputs": [
        {
          "output_type": "execute_result",
          "data": {
            "text/plain": [
              "(9240, 14)"
            ]
          },
          "metadata": {},
          "execution_count": 294
        }
      ],
      "source": [
        "# Letus check final dataframe\n",
        "leads_df.shape"
      ]
    },
    {
      "cell_type": "code",
      "execution_count": 295,
      "id": "a90ef22a",
      "metadata": {
        "colab": {
          "base_uri": "https://localhost:8080/"
        },
        "id": "a90ef22a",
        "outputId": "4fa0fbdb-e0b8-43f9-f4ed-1aae30b3aed9"
      },
      "outputs": [
        {
          "output_type": "stream",
          "name": "stdout",
          "text": [
            "<class 'pandas.core.frame.DataFrame'>\n",
            "RangeIndex: 9240 entries, 0 to 9239\n",
            "Data columns (total 14 columns):\n",
            " #   Column                                  Non-Null Count  Dtype  \n",
            "---  ------                                  --------------  -----  \n",
            " 0   Lead Origin                             9240 non-null   object \n",
            " 1   Lead Source                             9204 non-null   object \n",
            " 2   Do Not Email                            9240 non-null   object \n",
            " 3   Converted                               9240 non-null   int64  \n",
            " 4   TotalVisits                             9103 non-null   float64\n",
            " 5   Total Time Spent on Website             9240 non-null   int64  \n",
            " 6   Page Views Per Visit                    9103 non-null   float64\n",
            " 7   Last Activity                           9240 non-null   object \n",
            " 8   Specialization                          9240 non-null   object \n",
            " 9   What is your current occupation         9240 non-null   object \n",
            " 10  Tags                                    9240 non-null   object \n",
            " 11  City                                    9240 non-null   object \n",
            " 12  A free copy of Mastering The Interview  9240 non-null   object \n",
            " 13  Last Notable Activity                   9240 non-null   object \n",
            "dtypes: float64(2), int64(2), object(10)\n",
            "memory usage: 1010.8+ KB\n"
          ]
        }
      ],
      "source": [
        "leads_df.info()"
      ]
    },
    {
      "cell_type": "code",
      "execution_count": 296,
      "id": "61c9868d",
      "metadata": {
        "colab": {
          "base_uri": "https://localhost:8080/"
        },
        "id": "61c9868d",
        "outputId": "e2fb356d-3756-48f7-97af-147422af2155"
      },
      "outputs": [
        {
          "output_type": "execute_result",
          "data": {
            "text/plain": [
              "Lead Origin                               0.00\n",
              "Lead Source                               0.39\n",
              "Do Not Email                              0.00\n",
              "Converted                                 0.00\n",
              "TotalVisits                               1.48\n",
              "Total Time Spent on Website               0.00\n",
              "Page Views Per Visit                      1.48\n",
              "Last Activity                             0.00\n",
              "Specialization                            0.00\n",
              "What is your current occupation           0.00\n",
              "Tags                                      0.00\n",
              "City                                      0.00\n",
              "A free copy of Mastering The Interview    0.00\n",
              "Last Notable Activity                     0.00\n",
              "dtype: float64"
            ]
          },
          "metadata": {},
          "execution_count": 296
        }
      ],
      "source": [
        "# Letus check again for null value percentage\n",
        "round((leads_df.isnull().sum()/leads_df.shape[0])*100,2)"
      ]
    },
    {
      "cell_type": "code",
      "execution_count": 297,
      "id": "e434d4ad",
      "metadata": {
        "id": "e434d4ad"
      },
      "outputs": [],
      "source": [
        "# Since only 1.5 % values have are missing , we can drop these rows.Lets dropp null rows\n",
        "leads_df=leads_df.dropna()"
      ]
    },
    {
      "cell_type": "code",
      "execution_count": 298,
      "id": "f25810e2",
      "metadata": {
        "scrolled": true,
        "colab": {
          "base_uri": "https://localhost:8080/"
        },
        "id": "f25810e2",
        "outputId": "964695f5-31f9-4b1b-83f6-2567f49c2608"
      },
      "outputs": [
        {
          "output_type": "execute_result",
          "data": {
            "text/plain": [
              "Lead Origin                               0.0\n",
              "Lead Source                               0.0\n",
              "Do Not Email                              0.0\n",
              "Converted                                 0.0\n",
              "TotalVisits                               0.0\n",
              "Total Time Spent on Website               0.0\n",
              "Page Views Per Visit                      0.0\n",
              "Last Activity                             0.0\n",
              "Specialization                            0.0\n",
              "What is your current occupation           0.0\n",
              "Tags                                      0.0\n",
              "City                                      0.0\n",
              "A free copy of Mastering The Interview    0.0\n",
              "Last Notable Activity                     0.0\n",
              "dtype: float64"
            ]
          },
          "metadata": {},
          "execution_count": 298
        }
      ],
      "source": [
        "# Letus check again for null value percentage\n",
        "round((leads_df.isnull().sum()/leads_df.shape[0])*100,2)"
      ]
    },
    {
      "cell_type": "markdown",
      "id": "901499c9",
      "metadata": {
        "id": "901499c9"
      },
      "source": [
        "Finally we have reduced our dataframe columns from 37 to 14 . Also we have dealt with null values."
      ]
    },
    {
      "cell_type": "markdown",
      "id": "aafb43c5",
      "metadata": {
        "id": "aafb43c5"
      },
      "source": [
        "### Analysis of Numerical variables\n",
        "<hr/>"
      ]
    },
    {
      "cell_type": "code",
      "execution_count": 299,
      "id": "5e2742f7",
      "metadata": {
        "colab": {
          "base_uri": "https://localhost:8080/",
          "height": 225
        },
        "id": "5e2742f7",
        "outputId": "52cb846c-f30e-4668-c619-b040363faf25"
      },
      "outputs": [
        {
          "output_type": "display_data",
          "data": {
            "text/plain": [
              "<Figure size 360x216 with 1 Axes>"
            ],
            "image/png": "[encoded data removed]"
          },
          "metadata": {
            "needs_background": "light"
          }
        }
      ],
      "source": [
        "# letus check Total Visits\n",
        "plt.figure(figsize=(5,3))\n",
        "sns.boxplot(leads_df[\"TotalVisits\"])\n",
        "plt.show()"
      ]
    },
    {
      "cell_type": "code",
      "execution_count": 300,
      "id": "9cf098ea",
      "metadata": {
        "colab": {
          "base_uri": "https://localhost:8080/"
        },
        "id": "9cf098ea",
        "outputId": "c427e5d6-3b6f-4782-f27c-b1a5c8f8bca4"
      },
      "outputs": [
        {
          "output_type": "execute_result",
          "data": {
            "text/plain": [
              "count    9074.000000\n",
              "mean        3.456028\n",
              "std         4.858802\n",
              "min         0.000000\n",
              "10%         0.000000\n",
              "25%         1.000000\n",
              "50%         3.000000\n",
              "75%         5.000000\n",
              "90%         7.000000\n",
              "99%        17.000000\n",
              "max       251.000000\n",
              "Name: TotalVisits, dtype: float64"
            ]
          },
          "metadata": {},
          "execution_count": 300
        }
      ],
      "source": [
        "# Seems it contains outliers .Letus check for the same.\n",
        "leads_df[\"TotalVisits\"].describe([.10,.25,.5,.75,.9,.99])"
      ]
    },
    {
      "cell_type": "markdown",
      "id": "037ff841",
      "metadata": {
        "id": "037ff841"
      },
      "source": [
        "We can see that it contains outlier. Lets treat the outlier."
      ]
    },
    {
      "cell_type": "code",
      "execution_count": 301,
      "id": "96eac9f9",
      "metadata": {
        "id": "96eac9f9"
      },
      "outputs": [],
      "source": [
        "Q3=leads_df.TotalVisits.quantile(0.99)\n",
        "Q1=leads_df.TotalVisits.quantile(0.01)\n",
        "  #lets remove 1% values from top & bottom.\n",
        "leads_df=leads_df[leads_df.TotalVisits<=Q3]\n",
        "leads_df=leads_df[leads_df.TotalVisits>=Q1]"
      ]
    },
    {
      "cell_type": "code",
      "execution_count": 302,
      "id": "f22fd40f",
      "metadata": {
        "colab": {
          "base_uri": "https://localhost:8080/",
          "height": 225
        },
        "id": "f22fd40f",
        "outputId": "5c64e18b-01e6-4ccf-e495-cf95753d2f80"
      },
      "outputs": [
        {
          "output_type": "display_data",
          "data": {
            "text/plain": [
              "<Figure size 360x216 with 1 Axes>"
            ],
            "image/png": "[encoded data removed]"
          },
          "metadata": {
            "needs_background": "light"
          }
        }
      ],
      "source": [
        "#Letus plot boxplot again to check.\n",
        "plt.figure(figsize=(5,3))\n",
        "sns.boxplot(leads_df[\"TotalVisits\"])\n",
        "plt.show()"
      ]
    },
    {
      "cell_type": "code",
      "execution_count": 303,
      "id": "3f88a69a",
      "metadata": {
        "colab": {
          "base_uri": "https://localhost:8080/",
          "height": 225
        },
        "id": "3f88a69a",
        "outputId": "8dadb1cb-02a3-4861-d6bf-c4ab42ce3db3"
      },
      "outputs": [
        {
          "output_type": "display_data",
          "data": {
            "text/plain": [
              "<Figure size 360x216 with 1 Axes>"
            ],
            "image/png": "[encoded data removed]"
          },
          "metadata": {
            "needs_background": "light"
          }
        }
      ],
      "source": [
        "# letus check Total Time Spent on Website\n",
        "plt.figure(figsize=(5,3))\n",
        "sns.boxplot(leads_df[\"Total Time Spent on Website\"])\n",
        "plt.show()"
      ]
    },
    {
      "cell_type": "code",
      "execution_count": 304,
      "id": "b326ebcc",
      "metadata": {
        "colab": {
          "base_uri": "https://localhost:8080/"
        },
        "id": "b326ebcc",
        "outputId": "63bdb7c3-5e7a-4f37-a1cd-3c24b937a8e1"
      },
      "outputs": [
        {
          "output_type": "execute_result",
          "data": {
            "text/plain": [
              "count    8991.000000\n",
              "mean      481.305973\n",
              "std       544.883763\n",
              "min         0.000000\n",
              "10%         0.000000\n",
              "25%         9.000000\n",
              "50%       245.000000\n",
              "75%       919.500000\n",
              "90%      1372.000000\n",
              "99%      1837.200000\n",
              "max      2272.000000\n",
              "Name: Total Time Spent on Website, dtype: float64"
            ]
          },
          "metadata": {},
          "execution_count": 304
        }
      ],
      "source": [
        "#letus check qunatiles for outliers\n",
        "leads_df[\"Total Time Spent on Website\"].describe([.10,.25,.5,.75,.9,.99])"
      ]
    },
    {
      "cell_type": "markdown",
      "id": "667ef475",
      "metadata": {
        "id": "667ef475"
      },
      "source": [
        "- There are no major outliers avaliable so we can proceed."
      ]
    },
    {
      "cell_type": "code",
      "execution_count": 305,
      "id": "49e2cc0f",
      "metadata": {
        "colab": {
          "base_uri": "https://localhost:8080/",
          "height": 225
        },
        "id": "49e2cc0f",
        "outputId": "f250aa4a-f93e-4437-a7e5-feb18ad3eee3"
      },
      "outputs": [
        {
          "output_type": "display_data",
          "data": {
            "text/plain": [
              "<Figure size 360x216 with 1 Axes>"
            ],
            "image/png": "[encoded data removed]"
          },
          "metadata": {
            "needs_background": "light"
          }
        }
      ],
      "source": [
        "# Letus check Page Views Per Visit   \n",
        "plt.figure(figsize=(5,3))\n",
        "sns.boxplot(leads_df[\"Page Views Per Visit\"])\n",
        "plt.show()"
      ]
    },
    {
      "cell_type": "code",
      "execution_count": 306,
      "id": "ce23bd7c",
      "metadata": {
        "colab": {
          "base_uri": "https://localhost:8080/"
        },
        "id": "ce23bd7c",
        "outputId": "19228321-999a-4936-c397-4fe27f4007ef"
      },
      "outputs": [
        {
          "output_type": "execute_result",
          "data": {
            "text/plain": [
              "count    8991.000000\n",
              "mean        2.344587\n",
              "std         2.061548\n",
              "min         0.000000\n",
              "10%         0.000000\n",
              "25%         1.000000\n",
              "50%         2.000000\n",
              "75%         3.000000\n",
              "90%         5.000000\n",
              "99%         9.000000\n",
              "max        16.000000\n",
              "Name: Page Views Per Visit, dtype: float64"
            ]
          },
          "metadata": {},
          "execution_count": 306
        }
      ],
      "source": [
        "# Seems it also contains few outliers . letus check quantile for the same.\n",
        "leads_df[\"Page Views Per Visit\"].describe([.10,.25,.5,.75,.9,.99])"
      ]
    },
    {
      "cell_type": "code",
      "execution_count": 307,
      "id": "21d3609b",
      "metadata": {
        "id": "21d3609b"
      },
      "outputs": [],
      "source": [
        "Q3=leads_df['Page Views Per Visit'].quantile(0.99)\n",
        "Q1=leads_df['Page Views Per Visit'].quantile(0.01)\n",
        "  #lets remove 1% values from top & bottom.\n",
        "leads_df=leads_df[leads_df['Page Views Per Visit']<=Q3]\n",
        "leads_df=leads_df[leads_df['Page Views Per Visit']>=Q1]"
      ]
    },
    {
      "cell_type": "code",
      "execution_count": 308,
      "id": "159f38c7",
      "metadata": {
        "colab": {
          "base_uri": "https://localhost:8080/",
          "height": 225
        },
        "id": "159f38c7",
        "outputId": "4e09855a-d663-4ddd-e0e2-fa11175a6228"
      },
      "outputs": [
        {
          "output_type": "display_data",
          "data": {
            "text/plain": [
              "<Figure size 360x216 with 1 Axes>"
            ],
            "image/png": "[encoded data removed]"
          },
          "metadata": {
            "needs_background": "light"
          }
        }
      ],
      "source": [
        "\n",
        "\n",
        "#Letus plot boxplot again to check.\n",
        "plt.figure(figsize=(5,3))\n",
        "sns.boxplot(leads_df[\"Page Views Per Visit\"])\n",
        "plt.show()"
      ]
    },
    {
      "cell_type": "code",
      "execution_count": 309,
      "id": "15999eca",
      "metadata": {
        "colab": {
          "base_uri": "https://localhost:8080/",
          "height": 279
        },
        "id": "15999eca",
        "outputId": "e887a0ca-24a8-45f0-cc90-780f4b817b8d"
      },
      "outputs": [
        {
          "output_type": "display_data",
          "data": {
            "text/plain": [
              "<Figure size 1080x288 with 3 Axes>"
            ],
            "image/png": "[encoded data removed]"
          },
          "metadata": {
            "needs_background": "light"
          }
        }
      ],
      "source": [
        "plt.figure(figsize=(15,4))\n",
        "plt.subplot(1,3,1)\n",
        "sns.boxplot(y=leads_df[\"TotalVisits\"],x=leads_df[\"Converted\"])\n",
        "plt.ylabel(\"TotalVisits Vs Converted\")\n",
        "\n",
        "plt.subplot(1,3,2)\n",
        "sns.boxplot(y=leads_df['Page Views Per Visit'],x=leads_df[\"Converted\"])\n",
        "plt.ylabel(\"Page Views Per Visit Vs Converted\")\n",
        "\n",
        "\n",
        "plt.subplot(1,3,3)\n",
        "sns.boxplot(y=leads_df['Total Time Spent on Website'],x=leads_df[\"Converted\"])\n",
        "plt.ylabel(\"Total Time Spent on Website Vs Converted\")\n",
        "\n",
        "plt.show()"
      ]
    },
    {
      "cell_type": "markdown",
      "id": "d02c4786",
      "metadata": {
        "id": "d02c4786"
      },
      "source": [
        "- We can see & clearly say that leads spending higher times on website have higher convrsion rate."
      ]
    },
    {
      "cell_type": "code",
      "execution_count": 310,
      "id": "5d335a5d",
      "metadata": {
        "colab": {
          "base_uri": "https://localhost:8080/"
        },
        "id": "5d335a5d",
        "outputId": "479129d5-6348-47c0-be20-d915749392c3"
      },
      "outputs": [
        {
          "output_type": "execute_result",
          "data": {
            "text/plain": [
              "(8924, 14)"
            ]
          },
          "metadata": {},
          "execution_count": 310
        }
      ],
      "source": [
        "# Lets us check our final dataframe shape\n",
        "leads_df.shape"
      ]
    },
    {
      "cell_type": "markdown",
      "id": "0d84c4a3",
      "metadata": {
        "id": "0d84c4a3"
      },
      "source": [
        "\n",
        "### Dummy Variable creation\n",
        "<hr/>"
      ]
    },
    {
      "cell_type": "code",
      "execution_count": 311,
      "id": "2023990d",
      "metadata": {
        "colab": {
          "base_uri": "https://localhost:8080/"
        },
        "id": "2023990d",
        "outputId": "e4ee28d2-b82f-4b91-8f5e-21735c7f55c9"
      },
      "outputs": [
        {
          "output_type": "execute_result",
          "data": {
            "text/plain": [
              "['Lead Origin',\n",
              " 'Lead Source',\n",
              " 'Do Not Email',\n",
              " 'Last Activity',\n",
              " 'Specialization',\n",
              " 'What is your current occupation',\n",
              " 'Tags',\n",
              " 'City',\n",
              " 'A free copy of Mastering The Interview',\n",
              " 'Last Notable Activity']"
            ]
          },
          "metadata": {},
          "execution_count": 311
        }
      ],
      "source": [
        "Categorical_columns=list(leads_df.select_dtypes(include=['object']).columns)\n",
        "Categorical_columns"
      ]
    },
    {
      "cell_type": "code",
      "execution_count": 312,
      "id": "c4106ef2",
      "metadata": {
        "id": "c4106ef2"
      },
      "outputs": [],
      "source": [
        "leads_df[\"A free copy of Mastering The Interview\"]=leads_df[\"A free copy of Mastering The Interview\"].apply(lambda x: 1 if x ==\"Yes\" else 0)\n",
        "\n",
        "leads_df[\"Do Not Email\"]=leads_df[\"Do Not Email\"].apply(lambda x: 1 if x ==\"Yes\" else 0)"
      ]
    },
    {
      "cell_type": "code",
      "execution_count": 313,
      "id": "8c6e09dc",
      "metadata": {
        "id": "8c6e09dc"
      },
      "outputs": [],
      "source": [
        "#getting dummies and dropping the first column and adding the results to the master dataframe\n",
        "dummy = pd.get_dummies(leads_df[['Lead Origin','What is your current occupation',\n",
        "                             'City']], drop_first=True)\n",
        "\n",
        "leads_df = pd.concat([leads_df,dummy],1)"
      ]
    },
    {
      "cell_type": "code",
      "execution_count": 314,
      "id": "85f5497b",
      "metadata": {
        "id": "85f5497b"
      },
      "outputs": [],
      "source": [
        "dummy = pd.get_dummies(leads_df['Specialization'], prefix  = 'Specialization')\n",
        "dummy = dummy.drop(['Specialization_Others'], 1)\n",
        "leads_df = pd.concat([leads_df, dummy], axis = 1)"
      ]
    },
    {
      "cell_type": "code",
      "execution_count": 315,
      "id": "0b384466",
      "metadata": {
        "id": "0b384466"
      },
      "outputs": [],
      "source": [
        "dummy = pd.get_dummies(leads_df['Lead Source'], prefix  = 'Lead Source')\n",
        "dummy = dummy.drop(['Lead Source_Others'], 1)\n",
        "leads_df = pd.concat([leads_df, dummy], axis = 1)"
      ]
    },
    {
      "cell_type": "code",
      "execution_count": 316,
      "id": "ae9f95b7",
      "metadata": {
        "id": "ae9f95b7"
      },
      "outputs": [],
      "source": [
        "dummy = pd.get_dummies(leads_df['Last Activity'], prefix  = 'Last Activity')\n",
        "dummy = dummy.drop(['Last Activity_Others'], 1)\n",
        "leads_df = pd.concat([leads_df, dummy], axis = 1)"
      ]
    },
    {
      "cell_type": "code",
      "execution_count": 317,
      "id": "5a0d8ef3",
      "metadata": {
        "id": "5a0d8ef3"
      },
      "outputs": [],
      "source": [
        "dummy = pd.get_dummies(leads_df['Tags'], prefix  = 'Tags')\n",
        "dummy = dummy.drop(['Tags_Others'], 1)\n",
        "leads_df = pd.concat([leads_df, dummy], axis = 1)"
      ]
    },
    {
      "cell_type": "code",
      "execution_count": 318,
      "id": "6b06e989",
      "metadata": {
        "id": "6b06e989"
      },
      "outputs": [],
      "source": [
        "dummy = pd.get_dummies(leads_df['Last Notable Activity'], prefix  = 'Last Notable Activity')\n",
        "dummy = dummy.drop(['Last Notable Activity_Others'], 1)\n",
        "leads_df = pd.concat([leads_df, dummy], axis = 1)"
      ]
    },
    {
      "cell_type": "code",
      "execution_count": 319,
      "id": "ca96f868",
      "metadata": {
        "id": "ca96f868"
      },
      "outputs": [],
      "source": [
        "# Dropping original columns from data frame\n",
        "leads_df.drop(Categorical_columns,1,inplace=True)"
      ]
    },
    {
      "cell_type": "code",
      "execution_count": 320,
      "id": "24d22ee9",
      "metadata": {
        "colab": {
          "base_uri": "https://localhost:8080/",
          "height": 369
        },
        "id": "24d22ee9",
        "outputId": "9c1b90e1-33fa-457d-94e3-b4269a239330"
      },
      "outputs": [
        {
          "output_type": "execute_result",
          "data": {
            "text/plain": [
              "   Converted  TotalVisits  Total Time Spent on Website  Page Views Per Visit  \\\n",
              "0          0          0.0                            0                   0.0   \n",
              "1          0          5.0                          674                   2.5   \n",
              "2          1          2.0                         1532                   2.0   \n",
              "3          0          1.0                          305                   1.0   \n",
              "4          1          2.0                         1428                   1.0   \n",
              "\n",
              "   Lead Origin_Landing Page Submission  Lead Origin_Lead Add Form  \\\n",
              "0                                    0                          0   \n",
              "1                                    0                          0   \n",
              "2                                    1                          0   \n",
              "3                                    1                          0   \n",
              "4                                    1                          0   \n",
              "\n",
              "   Lead Origin_Lead Import  What is your current occupation_Housewife  \\\n",
              "0                        0                                          0   \n",
              "1                        0                                          0   \n",
              "2                        0                                          0   \n",
              "3                        0                                          0   \n",
              "4                        0                                          0   \n",
              "\n",
              "   What is your current occupation_Other  \\\n",
              "0                                      0   \n",
              "1                                      0   \n",
              "2                                      0   \n",
              "3                                      0   \n",
              "4                                      0   \n",
              "\n",
              "   What is your current occupation_Student  \\\n",
              "0                                        0   \n",
              "1                                        0   \n",
              "2                                        1   \n",
              "3                                        0   \n",
              "4                                        0   \n",
              "\n",
              "   What is your current occupation_Unemployed  \\\n",
              "0                                           1   \n",
              "1                                           1   \n",
              "2                                           0   \n",
              "3                                           1   \n",
              "4                                           1   \n",
              "\n",
              "   What is your current occupation_Working Professional  City_Other Cities  \\\n",
              "0                                                  0                     0   \n",
              "1                                                  0                     0   \n",
              "2                                                  0                     0   \n",
              "3                                                  0                     0   \n",
              "4                                                  0                     0   \n",
              "\n",
              "   City_Other Cities of Maharashtra  City_Other Metro Cities  \\\n",
              "0                                 0                        0   \n",
              "1                                 0                        0   \n",
              "2                                 0                        0   \n",
              "3                                 0                        0   \n",
              "4                                 0                        0   \n",
              "\n",
              "   City_Thane & Outskirts  City_Tier II Cities  \\\n",
              "0                       0                    0   \n",
              "1                       0                    0   \n",
              "2                       0                    0   \n",
              "3                       0                    0   \n",
              "4                       0                    0   \n",
              "\n",
              "   Specialization_Banking, Investment And Insurance  \\\n",
              "0                                                 0   \n",
              "1                                                 0   \n",
              "2                                                 0   \n",
              "3                                                 0   \n",
              "4                                                 0   \n",
              "\n",
              "   Specialization_Business Administration  Specialization_E_Commerce  \\\n",
              "0                                       0                          0   \n",
              "1                                       0                          0   \n",
              "2                                       1                          0   \n",
              "3                                       0                          0   \n",
              "4                                       0                          0   \n",
              "\n",
              "   Specialization_International Business  ...  Last Activity_SMS Sent  \\\n",
              "0                                      0  ...                       0   \n",
              "1                                      0  ...                       0   \n",
              "2                                      0  ...                       0   \n",
              "3                                      0  ...                       0   \n",
              "4                                      0  ...                       0   \n",
              "\n",
              "   Last Activity_Unreachable  Last Activity_Unsubscribed  \\\n",
              "0                          0                           0   \n",
              "1                          0                           0   \n",
              "2                          0                           0   \n",
              "3                          1                           0   \n",
              "4                          0                           0   \n",
              "\n",
              "   Tags_Already a student  Tags_Busy  Tags_Closed by Horizzon  \\\n",
              "0                       0          0                        0   \n",
              "1                       0          0                        0   \n",
              "2                       0          0                        0   \n",
              "3                       0          0                        0   \n",
              "4                       0          0                        0   \n",
              "\n",
              "   Tags_Graduation in progress  Tags_Interested  in full time MBA  \\\n",
              "0                            0                                  0   \n",
              "1                            0                                  0   \n",
              "2                            0                                  0   \n",
              "3                            0                                  0   \n",
              "4                            0                                  0   \n",
              "\n",
              "   Tags_Interested in other courses  Tags_Lost to EINS  \\\n",
              "0                                 1                  0   \n",
              "1                                 0                  0   \n",
              "2                                 0                  0   \n",
              "3                                 0                  0   \n",
              "4                                 0                  0   \n",
              "\n",
              "   Tags_Not doing further education  Tags_Ringing  \\\n",
              "0                                 0             0   \n",
              "1                                 0             1   \n",
              "2                                 0             0   \n",
              "3                                 0             1   \n",
              "4                                 0             0   \n",
              "\n",
              "   Tags_Will revert after reading the email  Tags_switched off  \\\n",
              "0                                         0                  0   \n",
              "1                                         0                  0   \n",
              "2                                         1                  0   \n",
              "3                                         0                  0   \n",
              "4                                         1                  0   \n",
              "\n",
              "   Last Notable Activity_Email Link Clicked  \\\n",
              "0                                         0   \n",
              "1                                         0   \n",
              "2                                         0   \n",
              "3                                         0   \n",
              "4                                         0   \n",
              "\n",
              "   Last Notable Activity_Email Opened  Last Notable Activity_Email Received  \\\n",
              "0                                   0                                     0   \n",
              "1                                   1                                     0   \n",
              "2                                   1                                     0   \n",
              "3                                   0                                     0   \n",
              "4                                   0                                     0   \n",
              "\n",
              "   Last Notable Activity_Modified  \\\n",
              "0                               1   \n",
              "1                               0   \n",
              "2                               0   \n",
              "3                               1   \n",
              "4                               1   \n",
              "\n",
              "   Last Notable Activity_Olark Chat Conversation  \\\n",
              "0                                              0   \n",
              "1                                              0   \n",
              "2                                              0   \n",
              "3                                              0   \n",
              "4                                              0   \n",
              "\n",
              "   Last Notable Activity_Page Visited on Website  \\\n",
              "0                                              0   \n",
              "1                                              0   \n",
              "2                                              0   \n",
              "3                                              0   \n",
              "4                                              0   \n",
              "\n",
              "   Last Notable Activity_SMS Sent  \n",
              "0                               0  \n",
              "1                               0  \n",
              "2                               0  \n",
              "3                               0  \n",
              "4                               0  \n",
              "\n",
              "[5 rows x 62 columns]"
            ],
            "text/html": [
              "\n",
              "  <div id=\"df-c0f7fe2a-eec3-49e5-8a1f-6b4f1b4ebf6d\">\n",
              "    <div class=\"colab-df-container\">\n",
              "      <div>\n",
              "<style scoped>\n",
              "    .dataframe tbody tr th:only-of-type {\n",
              "        vertical-align: middle;\n",
              "    }\n",
              "\n",
              "    .dataframe tbody tr th {\n",
              "        vertical-align: top;\n",
              "    }\n",
              "\n",
              "    .dataframe thead th {\n",
              "        text-align: right;\n",
              "    }\n",
              "</style>\n",
              "<table border=\"1\" class=\"dataframe\">\n",
              "  <thead>\n",
              "    <tr style=\"text-align: right;\">\n",
              "      <th></th>\n",
              "      <th>Converted</th>\n",
              "      <th>TotalVisits</th>\n",
              "      <th>Total Time Spent on Website</th>\n",
              "      <th>Page Views Per Visit</th>\n",
              "      <th>Lead Origin_Landing Page Submission</th>\n",
              "      <th>Lead Origin_Lead Add Form</th>\n",
              "      <th>Lead Origin_Lead Import</th>\n",
              "      <th>What is your current occupation_Housewife</th>\n",
              "      <th>What is your current occupation_Other</th>\n",
              "      <th>What is your current occupation_Student</th>\n",
              "      <th>What is your current occupation_Unemployed</th>\n",
              "      <th>What is your current occupation_Working Professional</th>\n",
              "      <th>City_Other Cities</th>\n",
              "      <th>City_Other Cities of Maharashtra</th>\n",
              "      <th>City_Other Metro Cities</th>\n",
              "      <th>City_Thane &amp; Outskirts</th>\n",
              "      <th>City_Tier II Cities</th>\n",
              "      <th>Specialization_Banking, Investment And Insurance</th>\n",
              "      <th>Specialization_Business Administration</th>\n",
              "      <th>Specialization_E_Commerce</th>\n",
              "      <th>Specialization_International Business</th>\n",
              "      <th>...</th>\n",
              "      <th>Last Activity_SMS Sent</th>\n",
              "      <th>Last Activity_Unreachable</th>\n",
              "      <th>Last Activity_Unsubscribed</th>\n",
              "      <th>Tags_Already a student</th>\n",
              "      <th>Tags_Busy</th>\n",
              "      <th>Tags_Closed by Horizzon</th>\n",
              "      <th>Tags_Graduation in progress</th>\n",
              "      <th>Tags_Interested  in full time MBA</th>\n",
              "      <th>Tags_Interested in other courses</th>\n",
              "      <th>Tags_Lost to EINS</th>\n",
              "      <th>Tags_Not doing further education</th>\n",
              "      <th>Tags_Ringing</th>\n",
              "      <th>Tags_Will revert after reading the email</th>\n",
              "      <th>Tags_switched off</th>\n",
              "      <th>Last Notable Activity_Email Link Clicked</th>\n",
              "      <th>Last Notable Activity_Email Opened</th>\n",
              "      <th>Last Notable Activity_Email Received</th>\n",
              "      <th>Last Notable Activity_Modified</th>\n",
              "      <th>Last Notable Activity_Olark Chat Conversation</th>\n",
              "      <th>Last Notable Activity_Page Visited on Website</th>\n",
              "      <th>Last Notable Activity_SMS Sent</th>\n",
              "    </tr>\n",
              "  </thead>\n",
              "  <tbody>\n",
              "    <tr>\n",
              "      <th>0</th>\n",
              "      <td>0</td>\n",
              "      <td>0.0</td>\n",
              "      <td>0</td>\n",
              "      <td>0.0</td>\n",
              "      <td>0</td>\n",
              "      <td>0</td>\n",
              "      <td>0</td>\n",
              "      <td>0</td>\n",
              "      <td>0</td>\n",
              "      <td>0</td>\n",
              "      <td>1</td>\n",
              "      <td>0</td>\n",
              "      <td>0</td>\n",
              "      <td>0</td>\n",
              "      <td>0</td>\n",
              "      <td>0</td>\n",
              "      <td>0</td>\n",
              "      <td>0</td>\n",
              "      <td>0</td>\n",
              "      <td>0</td>\n",
              "      <td>0</td>\n",
              "      <td>...</td>\n",
              "      <td>0</td>\n",
              "      <td>0</td>\n",
              "      <td>0</td>\n",
              "      <td>0</td>\n",
              "      <td>0</td>\n",
              "      <td>0</td>\n",
              "      <td>0</td>\n",
              "      <td>0</td>\n",
              "      <td>1</td>\n",
              "      <td>0</td>\n",
              "      <td>0</td>\n",
              "      <td>0</td>\n",
              "      <td>0</td>\n",
              "      <td>0</td>\n",
              "      <td>0</td>\n",
              "      <td>0</td>\n",
              "      <td>0</td>\n",
              "      <td>1</td>\n",
              "      <td>0</td>\n",
              "      <td>0</td>\n",
              "      <td>0</td>\n",
              "    </tr>\n",
              "    <tr>\n",
              "      <th>1</th>\n",
              "      <td>0</td>\n",
              "      <td>5.0</td>\n",
              "      <td>674</td>\n",
              "      <td>2.5</td>\n",
              "      <td>0</td>\n",
              "      <td>0</td>\n",
              "      <td>0</td>\n",
              "      <td>0</td>\n",
              "      <td>0</td>\n",
              "      <td>0</td>\n",
              "      <td>1</td>\n",
              "      <td>0</td>\n",
              "      <td>0</td>\n",
              "      <td>0</td>\n",
              "      <td>0</td>\n",
              "      <td>0</td>\n",
              "      <td>0</td>\n",
              "      <td>0</td>\n",
              "      <td>0</td>\n",
              "      <td>0</td>\n",
              "      <td>0</td>\n",
              "      <td>...</td>\n",
              "      <td>0</td>\n",
              "      <td>0</td>\n",
              "      <td>0</td>\n",
              "      <td>0</td>\n",
              "      <td>0</td>\n",
              "      <td>0</td>\n",
              "      <td>0</td>\n",
              "      <td>0</td>\n",
              "      <td>0</td>\n",
              "      <td>0</td>\n",
              "      <td>0</td>\n",
              "      <td>1</td>\n",
              "      <td>0</td>\n",
              "      <td>0</td>\n",
              "      <td>0</td>\n",
              "      <td>1</td>\n",
              "      <td>0</td>\n",
              "      <td>0</td>\n",
              "      <td>0</td>\n",
              "      <td>0</td>\n",
              "      <td>0</td>\n",
              "    </tr>\n",
              "    <tr>\n",
              "      <th>2</th>\n",
              "      <td>1</td>\n",
              "      <td>2.0</td>\n",
              "      <td>1532</td>\n",
              "      <td>2.0</td>\n",
              "      <td>1</td>\n",
              "      <td>0</td>\n",
              "      <td>0</td>\n",
              "      <td>0</td>\n",
              "      <td>0</td>\n",
              "      <td>1</td>\n",
              "      <td>0</td>\n",
              "      <td>0</td>\n",
              "      <td>0</td>\n",
              "      <td>0</td>\n",
              "      <td>0</td>\n",
              "      <td>0</td>\n",
              "      <td>0</td>\n",
              "      <td>0</td>\n",
              "      <td>1</td>\n",
              "      <td>0</td>\n",
              "      <td>0</td>\n",
              "      <td>...</td>\n",
              "      <td>0</td>\n",
              "      <td>0</td>\n",
              "      <td>0</td>\n",
              "      <td>0</td>\n",
              "      <td>0</td>\n",
              "      <td>0</td>\n",
              "      <td>0</td>\n",
              "      <td>0</td>\n",
              "      <td>0</td>\n",
              "      <td>0</td>\n",
              "      <td>0</td>\n",
              "      <td>0</td>\n",
              "      <td>1</td>\n",
              "      <td>0</td>\n",
              "      <td>0</td>\n",
              "      <td>1</td>\n",
              "      <td>0</td>\n",
              "      <td>0</td>\n",
              "      <td>0</td>\n",
              "      <td>0</td>\n",
              "      <td>0</td>\n",
              "    </tr>\n",
              "    <tr>\n",
              "      <th>3</th>\n",
              "      <td>0</td>\n",
              "      <td>1.0</td>\n",
              "      <td>305</td>\n",
              "      <td>1.0</td>\n",
              "      <td>1</td>\n",
              "      <td>0</td>\n",
              "      <td>0</td>\n",
              "      <td>0</td>\n",
              "      <td>0</td>\n",
              "      <td>0</td>\n",
              "      <td>1</td>\n",
              "      <td>0</td>\n",
              "      <td>0</td>\n",
              "      <td>0</td>\n",
              "      <td>0</td>\n",
              "      <td>0</td>\n",
              "      <td>0</td>\n",
              "      <td>0</td>\n",
              "      <td>0</td>\n",
              "      <td>0</td>\n",
              "      <td>0</td>\n",
              "      <td>...</td>\n",
              "      <td>0</td>\n",
              "      <td>1</td>\n",
              "      <td>0</td>\n",
              "      <td>0</td>\n",
              "      <td>0</td>\n",
              "      <td>0</td>\n",
              "      <td>0</td>\n",
              "      <td>0</td>\n",
              "      <td>0</td>\n",
              "      <td>0</td>\n",
              "      <td>0</td>\n",
              "      <td>1</td>\n",
              "      <td>0</td>\n",
              "      <td>0</td>\n",
              "      <td>0</td>\n",
              "      <td>0</td>\n",
              "      <td>0</td>\n",
              "      <td>1</td>\n",
              "      <td>0</td>\n",
              "      <td>0</td>\n",
              "      <td>0</td>\n",
              "    </tr>\n",
              "    <tr>\n",
              "      <th>4</th>\n",
              "      <td>1</td>\n",
              "      <td>2.0</td>\n",
              "      <td>1428</td>\n",
              "      <td>1.0</td>\n",
              "      <td>1</td>\n",
              "      <td>0</td>\n",
              "      <td>0</td>\n",
              "      <td>0</td>\n",
              "      <td>0</td>\n",
              "      <td>0</td>\n",
              "      <td>1</td>\n",
              "      <td>0</td>\n",
              "      <td>0</td>\n",
              "      <td>0</td>\n",
              "      <td>0</td>\n",
              "      <td>0</td>\n",
              "      <td>0</td>\n",
              "      <td>0</td>\n",
              "      <td>0</td>\n",
              "      <td>0</td>\n",
              "      <td>0</td>\n",
              "      <td>...</td>\n",
              "      <td>0</td>\n",
              "      <td>0</td>\n",
              "      <td>0</td>\n",
              "      <td>0</td>\n",
              "      <td>0</td>\n",
              "      <td>0</td>\n",
              "      <td>0</td>\n",
              "      <td>0</td>\n",
              "      <td>0</td>\n",
              "      <td>0</td>\n",
              "      <td>0</td>\n",
              "      <td>0</td>\n",
              "      <td>1</td>\n",
              "      <td>0</td>\n",
              "      <td>0</td>\n",
              "      <td>0</td>\n",
              "      <td>0</td>\n",
              "      <td>1</td>\n",
              "      <td>0</td>\n",
              "      <td>0</td>\n",
              "      <td>0</td>\n",
              "    </tr>\n",
              "  </tbody>\n",
              "</table>\n",
              "<p>5 rows × 62 columns</p>\n",
              "</div>\n",
              "      <button class=\"colab-df-convert\" onclick=\"convertToInteractive('df-c0f7fe2a-eec3-49e5-8a1f-6b4f1b4ebf6d')\"\n",
              "              title=\"Convert this dataframe to an interactive table.\"\n",
              "              style=\"display:none;\">\n",
              "        \n",
              "  <svg xmlns=\"http://www.w3.org/2000/svg\" height=\"24px\"viewBox=\"0 0 24 24\"\n",
              "       width=\"24px\">\n",
              "    <path d=\"M0 0h24v24H0V0z\" fill=\"none\"/>\n",
              "    <path d=\"M18.56 5.44l.94 2.06.94-2.06 2.06-.94-2.06-.94-.94-2.06-.94 2.06-2.06.94zm-11 1L8.5 8.5l.94-2.06 2.06-.94-2.06-.94L8.5 2.5l-.94 2.06-2.06.94zm10 10l.94 2.06.94-2.06 2.06-.94-2.06-.94-.94-2.06-.94 2.06-2.06.94z\"/><path d=\"M17.41 7.96l-1.37-1.37c-.4-.4-.92-.59-1.43-.59-.52 0-1.04.2-1.43.59L10.3 9.45l-7.72 7.72c-.78.78-.78 2.05 0 2.83L4 21.41c.39.39.9.59 1.41.59.51 0 1.02-.2 1.41-.59l7.78-7.78 2.81-2.81c.8-.78.8-2.07 0-2.86zM5.41 20L4 18.59l7.72-7.72 1.47 1.35L5.41 20z\"/>\n",
              "  </svg>\n",
              "      </button>\n",
              "      \n",
              "  <style>\n",
              "    .colab-df-container {\n",
              "      display:flex;\n",
              "      flex-wrap:wrap;\n",
              "      gap: 12px;\n",
              "    }\n",
              "\n",
              "    .colab-df-convert {\n",
              "      background-color: #E8F0FE;\n",
              "      border: none;\n",
              "      border-radius: 50%;\n",
              "      cursor: pointer;\n",
              "      display: none;\n",
              "      fill: #1967D2;\n",
              "      height: 32px;\n",
              "      padding: 0 0 0 0;\n",
              "      width: 32px;\n",
              "    }\n",
              "\n",
              "    .colab-df-convert:hover {\n",
              "      background-color: #E2EBFA;\n",
              "      box-shadow: 0px 1px 2px rgba(60, 64, 67, 0.3), 0px 1px 3px 1px rgba(60, 64, 67, 0.15);\n",
              "      fill: #174EA6;\n",
              "    }\n",
              "\n",
              "    [theme=dark] .colab-df-convert {\n",
              "      background-color: #3B4455;\n",
              "      fill: #D2E3FC;\n",
              "    }\n",
              "\n",
              "    [theme=dark] .colab-df-convert:hover {\n",
              "      background-color: #434B5C;\n",
              "      box-shadow: 0px 1px 3px 1px rgba(0, 0, 0, 0.15);\n",
              "      filter: drop-shadow(0px 1px 2px rgba(0, 0, 0, 0.3));\n",
              "      fill: #FFFFFF;\n",
              "    }\n",
              "  </style>\n",
              "\n",
              "      <script>\n",
              "        const buttonEl =\n",
              "          document.querySelector('#df-c0f7fe2a-eec3-49e5-8a1f-6b4f1b4ebf6d button.colab-df-convert');\n",
              "        buttonEl.style.display =\n",
              "          google.colab.kernel.accessAllowed ? 'block' : 'none';\n",
              "\n",
              "        async function convertToInteractive(key) {\n",
              "          const element = document.querySelector('#df-c0f7fe2a-eec3-49e5-8a1f-6b4f1b4ebf6d');\n",
              "          const dataTable =\n",
              "            await google.colab.kernel.invokeFunction('convertToInteractive',\n",
              "                                                     [key], {});\n",
              "          if (!dataTable) return;\n",
              "\n",
              "          const docLinkHtml = 'Like what you see? Visit the ' +\n",
              "            '<a target=\"_blank\" href=https://colab.research.google.com/notebooks/data_table.ipynb>data table notebook</a>'\n",
              "            + ' to learn more about interactive tables.';\n",
              "          element.innerHTML = '';\n",
              "          dataTable['output_type'] = 'display_data';\n",
              "          await google.colab.output.renderOutput(dataTable, element);\n",
              "          const docLink = document.createElement('div');\n",
              "          docLink.innerHTML = docLinkHtml;\n",
              "          element.appendChild(docLink);\n",
              "        }\n",
              "      </script>\n",
              "    </div>\n",
              "  </div>\n",
              "  "
            ]
          },
          "metadata": {},
          "execution_count": 320
        }
      ],
      "source": [
        "# Final dataframe after dummy creation\n",
        "leads_df.head()"
      ]
    },
    {
      "cell_type": "code",
      "execution_count": 321,
      "id": "1b0d344a",
      "metadata": {
        "colab": {
          "base_uri": "https://localhost:8080/"
        },
        "id": "1b0d344a",
        "outputId": "5451730a-03e7-4915-f66a-afc373b336d1"
      },
      "outputs": [
        {
          "output_type": "stream",
          "name": "stdout",
          "text": [
            "<class 'pandas.core.frame.DataFrame'>\n",
            "Int64Index: 8924 entries, 0 to 9239\n",
            "Data columns (total 62 columns):\n",
            " #   Column                                                Non-Null Count  Dtype  \n",
            "---  ------                                                --------------  -----  \n",
            " 0   Converted                                             8924 non-null   int64  \n",
            " 1   TotalVisits                                           8924 non-null   float64\n",
            " 2   Total Time Spent on Website                           8924 non-null   int64  \n",
            " 3   Page Views Per Visit                                  8924 non-null   float64\n",
            " 4   Lead Origin_Landing Page Submission                   8924 non-null   uint8  \n",
            " 5   Lead Origin_Lead Add Form                             8924 non-null   uint8  \n",
            " 6   Lead Origin_Lead Import                               8924 non-null   uint8  \n",
            " 7   What is your current occupation_Housewife             8924 non-null   uint8  \n",
            " 8   What is your current occupation_Other                 8924 non-null   uint8  \n",
            " 9   What is your current occupation_Student               8924 non-null   uint8  \n",
            " 10  What is your current occupation_Unemployed            8924 non-null   uint8  \n",
            " 11  What is your current occupation_Working Professional  8924 non-null   uint8  \n",
            " 12  City_Other Cities                                     8924 non-null   uint8  \n",
            " 13  City_Other Cities of Maharashtra                      8924 non-null   uint8  \n",
            " 14  City_Other Metro Cities                               8924 non-null   uint8  \n",
            " 15  City_Thane & Outskirts                                8924 non-null   uint8  \n",
            " 16  City_Tier II Cities                                   8924 non-null   uint8  \n",
            " 17  Specialization_Banking, Investment And Insurance      8924 non-null   uint8  \n",
            " 18  Specialization_Business Administration                8924 non-null   uint8  \n",
            " 19  Specialization_E_Commerce                             8924 non-null   uint8  \n",
            " 20  Specialization_International Business                 8924 non-null   uint8  \n",
            " 21  Specialization_Management                             8924 non-null   uint8  \n",
            " 22  Specialization_Media and Advertising                  8924 non-null   uint8  \n",
            " 23  Specialization_Rural and Agribusiness                 8924 non-null   uint8  \n",
            " 24  Specialization_Services Excellence                    8924 non-null   uint8  \n",
            " 25  Specialization_Travel and Tourism                     8924 non-null   uint8  \n",
            " 26  Lead Source_Direct Traffic                            8924 non-null   uint8  \n",
            " 27  Lead Source_Google                                    8924 non-null   uint8  \n",
            " 28  Lead Source_Olark Chat                                8924 non-null   uint8  \n",
            " 29  Lead Source_Organic Search                            8924 non-null   uint8  \n",
            " 30  Lead Source_Reference                                 8924 non-null   uint8  \n",
            " 31  Lead Source_Referral Sites                            8924 non-null   uint8  \n",
            " 32  Lead Source_Social Media                              8924 non-null   uint8  \n",
            " 33  Lead Source_Welingak Website                          8924 non-null   uint8  \n",
            " 34  Last Activity_Converted to Lead                       8924 non-null   uint8  \n",
            " 35  Last Activity_Email Bounced                           8924 non-null   uint8  \n",
            " 36  Last Activity_Email Link Clicked                      8924 non-null   uint8  \n",
            " 37  Last Activity_Email Opened                            8924 non-null   uint8  \n",
            " 38  Last Activity_Form Submitted on Website               8924 non-null   uint8  \n",
            " 39  Last Activity_Olark Chat Conversation                 8924 non-null   uint8  \n",
            " 40  Last Activity_Page Visited on Website                 8924 non-null   uint8  \n",
            " 41  Last Activity_SMS Sent                                8924 non-null   uint8  \n",
            " 42  Last Activity_Unreachable                             8924 non-null   uint8  \n",
            " 43  Last Activity_Unsubscribed                            8924 non-null   uint8  \n",
            " 44  Tags_Already a student                                8924 non-null   uint8  \n",
            " 45  Tags_Busy                                             8924 non-null   uint8  \n",
            " 46  Tags_Closed by Horizzon                               8924 non-null   uint8  \n",
            " 47  Tags_Graduation in progress                           8924 non-null   uint8  \n",
            " 48  Tags_Interested  in full time MBA                     8924 non-null   uint8  \n",
            " 49  Tags_Interested in other courses                      8924 non-null   uint8  \n",
            " 50  Tags_Lost to EINS                                     8924 non-null   uint8  \n",
            " 51  Tags_Not doing further education                      8924 non-null   uint8  \n",
            " 52  Tags_Ringing                                          8924 non-null   uint8  \n",
            " 53  Tags_Will revert after reading the email              8924 non-null   uint8  \n",
            " 54  Tags_switched off                                     8924 non-null   uint8  \n",
            " 55  Last Notable Activity_Email Link Clicked              8924 non-null   uint8  \n",
            " 56  Last Notable Activity_Email Opened                    8924 non-null   uint8  \n",
            " 57  Last Notable Activity_Email Received                  8924 non-null   uint8  \n",
            " 58  Last Notable Activity_Modified                        8924 non-null   uint8  \n",
            " 59  Last Notable Activity_Olark Chat Conversation         8924 non-null   uint8  \n",
            " 60  Last Notable Activity_Page Visited on Website         8924 non-null   uint8  \n",
            " 61  Last Notable Activity_SMS Sent                        8924 non-null   uint8  \n",
            "dtypes: float64(2), int64(2), uint8(58)\n",
            "memory usage: 1.1 MB\n"
          ]
        }
      ],
      "source": [
        "leads_df.info()"
      ]
    },
    {
      "cell_type": "markdown",
      "id": "91198242",
      "metadata": {
        "id": "91198242"
      },
      "source": [
        "### Train-Test Split\n",
        "<hr/>"
      ]
    },
    {
      "cell_type": "code",
      "execution_count": 322,
      "id": "e61d814d",
      "metadata": {
        "id": "e61d814d"
      },
      "outputs": [],
      "source": [
        "import sklearn\n",
        "from sklearn.model_selection import train_test_split"
      ]
    },
    {
      "cell_type": "code",
      "execution_count": 323,
      "id": "02c635b9",
      "metadata": {
        "id": "02c635b9"
      },
      "outputs": [],
      "source": [
        "# Putting response variable to y\n",
        "y = leads_df['Converted']\n",
        "\n",
        "X=leads_df.drop('Converted', axis=1)"
      ]
    },
    {
      "cell_type": "code",
      "execution_count": 324,
      "id": "74ad9ba9",
      "metadata": {
        "colab": {
          "base_uri": "https://localhost:8080/"
        },
        "id": "74ad9ba9",
        "outputId": "5d4038d4-8de8-4882-a0bb-8faa8af85684"
      },
      "outputs": [
        {
          "output_type": "stream",
          "name": "stdout",
          "text": [
            "(8924,)\n",
            "(8924, 61)\n"
          ]
        }
      ],
      "source": [
        "print(y.shape)\n",
        "print(X.shape)"
      ]
    },
    {
      "cell_type": "code",
      "execution_count": 325,
      "id": "5ebb3a28",
      "metadata": {
        "id": "5ebb3a28"
      },
      "outputs": [],
      "source": [
        "X_train,X_test,y_train,y_test=train_test_split(X,y,train_size=.70,random_state=1)"
      ]
    },
    {
      "cell_type": "code",
      "execution_count": 326,
      "id": "4fd2b142",
      "metadata": {
        "colab": {
          "base_uri": "https://localhost:8080/"
        },
        "id": "4fd2b142",
        "outputId": "eaf741a2-1c94-4fe3-b90c-4abe34faca4f"
      },
      "outputs": [
        {
          "output_type": "stream",
          "name": "stdout",
          "text": [
            "(6246, 61)\n",
            "(2678,)\n"
          ]
        }
      ],
      "source": [
        "print(X_train.shape)\n",
        "print(y_test.shape)"
      ]
    },
    {
      "cell_type": "markdown",
      "id": "0f3c82fb",
      "metadata": {
        "id": "0f3c82fb"
      },
      "source": [
        "### Scaling the variables\n",
        "<hr/>"
      ]
    },
    {
      "cell_type": "code",
      "execution_count": 327,
      "id": "c3d26a7e",
      "metadata": {
        "colab": {
          "base_uri": "https://localhost:8080/",
          "height": 369
        },
        "id": "c3d26a7e",
        "outputId": "533d83e4-2b3a-42bd-8554-b83b0be103c1"
      },
      "outputs": [
        {
          "output_type": "execute_result",
          "data": {
            "text/plain": [
              "      TotalVisits  Total Time Spent on Website  Page Views Per Visit  \\\n",
              "5423    -0.043456                     1.746462             -0.667244   \n",
              "8220     0.645441                     1.667493              1.465942   \n",
              "7643    -0.732353                    -0.461019             -0.667244   \n",
              "1313     0.989889                     1.177145             -0.133947   \n",
              "3840     0.300993                     1.439766             -0.133947   \n",
              "\n",
              "      Lead Origin_Landing Page Submission  Lead Origin_Lead Add Form  \\\n",
              "5423                                    0                          1   \n",
              "8220                                    1                          0   \n",
              "7643                                    1                          0   \n",
              "1313                                    1                          0   \n",
              "3840                                    1                          0   \n",
              "\n",
              "      Lead Origin_Lead Import  What is your current occupation_Housewife  \\\n",
              "5423                        0                                          0   \n",
              "8220                        0                                          0   \n",
              "7643                        0                                          0   \n",
              "1313                        0                                          0   \n",
              "3840                        0                                          0   \n",
              "\n",
              "      What is your current occupation_Other  \\\n",
              "5423                                      0   \n",
              "8220                                      0   \n",
              "7643                                      0   \n",
              "1313                                      0   \n",
              "3840                                      0   \n",
              "\n",
              "      What is your current occupation_Student  \\\n",
              "5423                                        0   \n",
              "8220                                        0   \n",
              "7643                                        0   \n",
              "1313                                        0   \n",
              "3840                                        0   \n",
              "\n",
              "      What is your current occupation_Unemployed  \\\n",
              "5423                                           1   \n",
              "8220                                           1   \n",
              "7643                                           1   \n",
              "1313                                           1   \n",
              "3840                                           1   \n",
              "\n",
              "      What is your current occupation_Working Professional  City_Other Cities  \\\n",
              "5423                                                  0                     0   \n",
              "8220                                                  0                     0   \n",
              "7643                                                  0                     0   \n",
              "1313                                                  0                     1   \n",
              "3840                                                  0                     0   \n",
              "\n",
              "      City_Other Cities of Maharashtra  City_Other Metro Cities  \\\n",
              "5423                                 0                        0   \n",
              "8220                                 0                        1   \n",
              "7643                                 0                        1   \n",
              "1313                                 0                        0   \n",
              "3840                                 0                        0   \n",
              "\n",
              "      City_Thane & Outskirts  City_Tier II Cities  \\\n",
              "5423                       0                    0   \n",
              "8220                       0                    0   \n",
              "7643                       0                    0   \n",
              "1313                       0                    0   \n",
              "3840                       0                    1   \n",
              "\n",
              "      Specialization_Banking, Investment And Insurance  \\\n",
              "5423                                                 0   \n",
              "8220                                                 0   \n",
              "7643                                                 0   \n",
              "1313                                                 0   \n",
              "3840                                                 0   \n",
              "\n",
              "      Specialization_Business Administration  Specialization_E_Commerce  \\\n",
              "5423                                       0                          0   \n",
              "8220                                       1                          0   \n",
              "7643                                       0                          0   \n",
              "1313                                       0                          0   \n",
              "3840                                       0                          0   \n",
              "\n",
              "      Specialization_International Business  Specialization_Management  ...  \\\n",
              "5423                                      0                          1  ...   \n",
              "8220                                      0                          0  ...   \n",
              "7643                                      0                          1  ...   \n",
              "1313                                      0                          0  ...   \n",
              "3840                                      1                          0  ...   \n",
              "\n",
              "      Last Activity_SMS Sent  Last Activity_Unreachable  \\\n",
              "5423                       0                          0   \n",
              "8220                       1                          0   \n",
              "7643                       0                          0   \n",
              "1313                       0                          0   \n",
              "3840                       1                          0   \n",
              "\n",
              "      Last Activity_Unsubscribed  Tags_Already a student  Tags_Busy  \\\n",
              "5423                           0                       0          0   \n",
              "8220                           0                       0          0   \n",
              "7643                           0                       0          0   \n",
              "1313                           0                       0          0   \n",
              "3840                           0                       0          0   \n",
              "\n",
              "      Tags_Closed by Horizzon  Tags_Graduation in progress  \\\n",
              "5423                        1                            0   \n",
              "8220                        0                            0   \n",
              "7643                        0                            0   \n",
              "1313                        0                            0   \n",
              "3840                        0                            0   \n",
              "\n",
              "      Tags_Interested  in full time MBA  Tags_Interested in other courses  \\\n",
              "5423                                  0                                 0   \n",
              "8220                                  0                                 0   \n",
              "7643                                  0                                 0   \n",
              "1313                                  0                                 0   \n",
              "3840                                  0                                 0   \n",
              "\n",
              "      Tags_Lost to EINS  Tags_Not doing further education  Tags_Ringing  \\\n",
              "5423                  0                                 0             0   \n",
              "8220                  0                                 0             0   \n",
              "7643                  0                                 1             0   \n",
              "1313                  0                                 0             0   \n",
              "3840                  0                                 0             0   \n",
              "\n",
              "      Tags_Will revert after reading the email  Tags_switched off  \\\n",
              "5423                                         0                  0   \n",
              "8220                                         1                  0   \n",
              "7643                                         0                  0   \n",
              "1313                                         1                  0   \n",
              "3840                                         1                  0   \n",
              "\n",
              "      Last Notable Activity_Email Link Clicked  \\\n",
              "5423                                         0   \n",
              "8220                                         0   \n",
              "7643                                         0   \n",
              "1313                                         0   \n",
              "3840                                         0   \n",
              "\n",
              "      Last Notable Activity_Email Opened  \\\n",
              "5423                                   0   \n",
              "8220                                   0   \n",
              "7643                                   0   \n",
              "1313                                   1   \n",
              "3840                                   0   \n",
              "\n",
              "      Last Notable Activity_Email Received  Last Notable Activity_Modified  \\\n",
              "5423                                     0                               0   \n",
              "8220                                     0                               0   \n",
              "7643                                     0                               0   \n",
              "1313                                     0                               0   \n",
              "3840                                     0                               0   \n",
              "\n",
              "      Last Notable Activity_Olark Chat Conversation  \\\n",
              "5423                                              0   \n",
              "8220                                              0   \n",
              "7643                                              0   \n",
              "1313                                              0   \n",
              "3840                                              0   \n",
              "\n",
              "      Last Notable Activity_Page Visited on Website  \\\n",
              "5423                                              1   \n",
              "8220                                              0   \n",
              "7643                                              0   \n",
              "1313                                              0   \n",
              "3840                                              0   \n",
              "\n",
              "      Last Notable Activity_SMS Sent  \n",
              "5423                               0  \n",
              "8220                               1  \n",
              "7643                               0  \n",
              "1313                               0  \n",
              "3840                               1  \n",
              "\n",
              "[5 rows x 61 columns]"
            ],
            "text/html": [
              "\n",
              "  <div id=\"df-b6ed0297-f47f-4233-ae74-d4aa655c0110\">\n",
              "    <div class=\"colab-df-container\">\n",
              "      <div>\n",
              "<style scoped>\n",
              "    .dataframe tbody tr th:only-of-type {\n",
              "        vertical-align: middle;\n",
              "    }\n",
              "\n",
              "    .dataframe tbody tr th {\n",
              "        vertical-align: top;\n",
              "    }\n",
              "\n",
              "    .dataframe thead th {\n",
              "        text-align: right;\n",
              "    }\n",
              "</style>\n",
              "<table border=\"1\" class=\"dataframe\">\n",
              "  <thead>\n",
              "    <tr style=\"text-align: right;\">\n",
              "      <th></th>\n",
              "      <th>TotalVisits</th>\n",
              "      <th>Total Time Spent on Website</th>\n",
              "      <th>Page Views Per Visit</th>\n",
              "      <th>Lead Origin_Landing Page Submission</th>\n",
              "      <th>Lead Origin_Lead Add Form</th>\n",
              "      <th>Lead Origin_Lead Import</th>\n",
              "      <th>What is your current occupation_Housewife</th>\n",
              "      <th>What is your current occupation_Other</th>\n",
              "      <th>What is your current occupation_Student</th>\n",
              "      <th>What is your current occupation_Unemployed</th>\n",
              "      <th>What is your current occupation_Working Professional</th>\n",
              "      <th>City_Other Cities</th>\n",
              "      <th>City_Other Cities of Maharashtra</th>\n",
              "      <th>City_Other Metro Cities</th>\n",
              "      <th>City_Thane &amp; Outskirts</th>\n",
              "      <th>City_Tier II Cities</th>\n",
              "      <th>Specialization_Banking, Investment And Insurance</th>\n",
              "      <th>Specialization_Business Administration</th>\n",
              "      <th>Specialization_E_Commerce</th>\n",
              "      <th>Specialization_International Business</th>\n",
              "      <th>Specialization_Management</th>\n",
              "      <th>...</th>\n",
              "      <th>Last Activity_SMS Sent</th>\n",
              "      <th>Last Activity_Unreachable</th>\n",
              "      <th>Last Activity_Unsubscribed</th>\n",
              "      <th>Tags_Already a student</th>\n",
              "      <th>Tags_Busy</th>\n",
              "      <th>Tags_Closed by Horizzon</th>\n",
              "      <th>Tags_Graduation in progress</th>\n",
              "      <th>Tags_Interested  in full time MBA</th>\n",
              "      <th>Tags_Interested in other courses</th>\n",
              "      <th>Tags_Lost to EINS</th>\n",
              "      <th>Tags_Not doing further education</th>\n",
              "      <th>Tags_Ringing</th>\n",
              "      <th>Tags_Will revert after reading the email</th>\n",
              "      <th>Tags_switched off</th>\n",
              "      <th>Last Notable Activity_Email Link Clicked</th>\n",
              "      <th>Last Notable Activity_Email Opened</th>\n",
              "      <th>Last Notable Activity_Email Received</th>\n",
              "      <th>Last Notable Activity_Modified</th>\n",
              "      <th>Last Notable Activity_Olark Chat Conversation</th>\n",
              "      <th>Last Notable Activity_Page Visited on Website</th>\n",
              "      <th>Last Notable Activity_SMS Sent</th>\n",
              "    </tr>\n",
              "  </thead>\n",
              "  <tbody>\n",
              "    <tr>\n",
              "      <th>5423</th>\n",
              "      <td>-0.043456</td>\n",
              "      <td>1.746462</td>\n",
              "      <td>-0.667244</td>\n",
              "      <td>0</td>\n",
              "      <td>1</td>\n",
              "      <td>0</td>\n",
              "      <td>0</td>\n",
              "      <td>0</td>\n",
              "      <td>0</td>\n",
              "      <td>1</td>\n",
              "      <td>0</td>\n",
              "      <td>0</td>\n",
              "      <td>0</td>\n",
              "      <td>0</td>\n",
              "      <td>0</td>\n",
              "      <td>0</td>\n",
              "      <td>0</td>\n",
              "      <td>0</td>\n",
              "      <td>0</td>\n",
              "      <td>0</td>\n",
              "      <td>1</td>\n",
              "      <td>...</td>\n",
              "      <td>0</td>\n",
              "      <td>0</td>\n",
              "      <td>0</td>\n",
              "      <td>0</td>\n",
              "      <td>0</td>\n",
              "      <td>1</td>\n",
              "      <td>0</td>\n",
              "      <td>0</td>\n",
              "      <td>0</td>\n",
              "      <td>0</td>\n",
              "      <td>0</td>\n",
              "      <td>0</td>\n",
              "      <td>0</td>\n",
              "      <td>0</td>\n",
              "      <td>0</td>\n",
              "      <td>0</td>\n",
              "      <td>0</td>\n",
              "      <td>0</td>\n",
              "      <td>0</td>\n",
              "      <td>1</td>\n",
              "      <td>0</td>\n",
              "    </tr>\n",
              "    <tr>\n",
              "      <th>8220</th>\n",
              "      <td>0.645441</td>\n",
              "      <td>1.667493</td>\n",
              "      <td>1.465942</td>\n",
              "      <td>1</td>\n",
              "      <td>0</td>\n",
              "      <td>0</td>\n",
              "      <td>0</td>\n",
              "      <td>0</td>\n",
              "      <td>0</td>\n",
              "      <td>1</td>\n",
              "      <td>0</td>\n",
              "      <td>0</td>\n",
              "      <td>0</td>\n",
              "      <td>1</td>\n",
              "      <td>0</td>\n",
              "      <td>0</td>\n",
              "      <td>0</td>\n",
              "      <td>1</td>\n",
              "      <td>0</td>\n",
              "      <td>0</td>\n",
              "      <td>0</td>\n",
              "      <td>...</td>\n",
              "      <td>1</td>\n",
              "      <td>0</td>\n",
              "      <td>0</td>\n",
              "      <td>0</td>\n",
              "      <td>0</td>\n",
              "      <td>0</td>\n",
              "      <td>0</td>\n",
              "      <td>0</td>\n",
              "      <td>0</td>\n",
              "      <td>0</td>\n",
              "      <td>0</td>\n",
              "      <td>0</td>\n",
              "      <td>1</td>\n",
              "      <td>0</td>\n",
              "      <td>0</td>\n",
              "      <td>0</td>\n",
              "      <td>0</td>\n",
              "      <td>0</td>\n",
              "      <td>0</td>\n",
              "      <td>0</td>\n",
              "      <td>1</td>\n",
              "    </tr>\n",
              "    <tr>\n",
              "      <th>7643</th>\n",
              "      <td>-0.732353</td>\n",
              "      <td>-0.461019</td>\n",
              "      <td>-0.667244</td>\n",
              "      <td>1</td>\n",
              "      <td>0</td>\n",
              "      <td>0</td>\n",
              "      <td>0</td>\n",
              "      <td>0</td>\n",
              "      <td>0</td>\n",
              "      <td>1</td>\n",
              "      <td>0</td>\n",
              "      <td>0</td>\n",
              "      <td>0</td>\n",
              "      <td>1</td>\n",
              "      <td>0</td>\n",
              "      <td>0</td>\n",
              "      <td>0</td>\n",
              "      <td>0</td>\n",
              "      <td>0</td>\n",
              "      <td>0</td>\n",
              "      <td>1</td>\n",
              "      <td>...</td>\n",
              "      <td>0</td>\n",
              "      <td>0</td>\n",
              "      <td>0</td>\n",
              "      <td>0</td>\n",
              "      <td>0</td>\n",
              "      <td>0</td>\n",
              "      <td>0</td>\n",
              "      <td>0</td>\n",
              "      <td>0</td>\n",
              "      <td>0</td>\n",
              "      <td>1</td>\n",
              "      <td>0</td>\n",
              "      <td>0</td>\n",
              "      <td>0</td>\n",
              "      <td>0</td>\n",
              "      <td>0</td>\n",
              "      <td>0</td>\n",
              "      <td>0</td>\n",
              "      <td>0</td>\n",
              "      <td>0</td>\n",
              "      <td>0</td>\n",
              "    </tr>\n",
              "    <tr>\n",
              "      <th>1313</th>\n",
              "      <td>0.989889</td>\n",
              "      <td>1.177145</td>\n",
              "      <td>-0.133947</td>\n",
              "      <td>1</td>\n",
              "      <td>0</td>\n",
              "      <td>0</td>\n",
              "      <td>0</td>\n",
              "      <td>0</td>\n",
              "      <td>0</td>\n",
              "      <td>1</td>\n",
              "      <td>0</td>\n",
              "      <td>1</td>\n",
              "      <td>0</td>\n",
              "      <td>0</td>\n",
              "      <td>0</td>\n",
              "      <td>0</td>\n",
              "      <td>0</td>\n",
              "      <td>0</td>\n",
              "      <td>0</td>\n",
              "      <td>0</td>\n",
              "      <td>0</td>\n",
              "      <td>...</td>\n",
              "      <td>0</td>\n",
              "      <td>0</td>\n",
              "      <td>0</td>\n",
              "      <td>0</td>\n",
              "      <td>0</td>\n",
              "      <td>0</td>\n",
              "      <td>0</td>\n",
              "      <td>0</td>\n",
              "      <td>0</td>\n",
              "      <td>0</td>\n",
              "      <td>0</td>\n",
              "      <td>0</td>\n",
              "      <td>1</td>\n",
              "      <td>0</td>\n",
              "      <td>0</td>\n",
              "      <td>1</td>\n",
              "      <td>0</td>\n",
              "      <td>0</td>\n",
              "      <td>0</td>\n",
              "      <td>0</td>\n",
              "      <td>0</td>\n",
              "    </tr>\n",
              "    <tr>\n",
              "      <th>3840</th>\n",
              "      <td>0.300993</td>\n",
              "      <td>1.439766</td>\n",
              "      <td>-0.133947</td>\n",
              "      <td>1</td>\n",
              "      <td>0</td>\n",
              "      <td>0</td>\n",
              "      <td>0</td>\n",
              "      <td>0</td>\n",
              "      <td>0</td>\n",
              "      <td>1</td>\n",
              "      <td>0</td>\n",
              "      <td>0</td>\n",
              "      <td>0</td>\n",
              "      <td>0</td>\n",
              "      <td>0</td>\n",
              "      <td>1</td>\n",
              "      <td>0</td>\n",
              "      <td>0</td>\n",
              "      <td>0</td>\n",
              "      <td>1</td>\n",
              "      <td>0</td>\n",
              "      <td>...</td>\n",
              "      <td>1</td>\n",
              "      <td>0</td>\n",
              "      <td>0</td>\n",
              "      <td>0</td>\n",
              "      <td>0</td>\n",
              "      <td>0</td>\n",
              "      <td>0</td>\n",
              "      <td>0</td>\n",
              "      <td>0</td>\n",
              "      <td>0</td>\n",
              "      <td>0</td>\n",
              "      <td>0</td>\n",
              "      <td>1</td>\n",
              "      <td>0</td>\n",
              "      <td>0</td>\n",
              "      <td>0</td>\n",
              "      <td>0</td>\n",
              "      <td>0</td>\n",
              "      <td>0</td>\n",
              "      <td>0</td>\n",
              "      <td>1</td>\n",
              "    </tr>\n",
              "  </tbody>\n",
              "</table>\n",
              "<p>5 rows × 61 columns</p>\n",
              "</div>\n",
              "      <button class=\"colab-df-convert\" onclick=\"convertToInteractive('df-b6ed0297-f47f-4233-ae74-d4aa655c0110')\"\n",
              "              title=\"Convert this dataframe to an interactive table.\"\n",
              "              style=\"display:none;\">\n",
              "        \n",
              "  <svg xmlns=\"http://www.w3.org/2000/svg\" height=\"24px\"viewBox=\"0 0 24 24\"\n",
              "       width=\"24px\">\n",
              "    <path d=\"M0 0h24v24H0V0z\" fill=\"none\"/>\n",
              "    <path d=\"M18.56 5.44l.94 2.06.94-2.06 2.06-.94-2.06-.94-.94-2.06-.94 2.06-2.06.94zm-11 1L8.5 8.5l.94-2.06 2.06-.94-2.06-.94L8.5 2.5l-.94 2.06-2.06.94zm10 10l.94 2.06.94-2.06 2.06-.94-2.06-.94-.94-2.06-.94 2.06-2.06.94z\"/><path d=\"M17.41 7.96l-1.37-1.37c-.4-.4-.92-.59-1.43-.59-.52 0-1.04.2-1.43.59L10.3 9.45l-7.72 7.72c-.78.78-.78 2.05 0 2.83L4 21.41c.39.39.9.59 1.41.59.51 0 1.02-.2 1.41-.59l7.78-7.78 2.81-2.81c.8-.78.8-2.07 0-2.86zM5.41 20L4 18.59l7.72-7.72 1.47 1.35L5.41 20z\"/>\n",
              "  </svg>\n",
              "      </button>\n",
              "      \n",
              "  <style>\n",
              "    .colab-df-container {\n",
              "      display:flex;\n",
              "      flex-wrap:wrap;\n",
              "      gap: 12px;\n",
              "    }\n",
              "\n",
              "    .colab-df-convert {\n",
              "      background-color: #E8F0FE;\n",
              "      border: none;\n",
              "      border-radius: 50%;\n",
              "      cursor: pointer;\n",
              "      display: none;\n",
              "      fill: #1967D2;\n",
              "      height: 32px;\n",
              "      padding: 0 0 0 0;\n",
              "      width: 32px;\n",
              "    }\n",
              "\n",
              "    .colab-df-convert:hover {\n",
              "      background-color: #E2EBFA;\n",
              "      box-shadow: 0px 1px 2px rgba(60, 64, 67, 0.3), 0px 1px 3px 1px rgba(60, 64, 67, 0.15);\n",
              "      fill: #174EA6;\n",
              "    }\n",
              "\n",
              "    [theme=dark] .colab-df-convert {\n",
              "      background-color: #3B4455;\n",
              "      fill: #D2E3FC;\n",
              "    }\n",
              "\n",
              "    [theme=dark] .colab-df-convert:hover {\n",
              "      background-color: #434B5C;\n",
              "      box-shadow: 0px 1px 3px 1px rgba(0, 0, 0, 0.15);\n",
              "      filter: drop-shadow(0px 1px 2px rgba(0, 0, 0, 0.3));\n",
              "      fill: #FFFFFF;\n",
              "    }\n",
              "  </style>\n",
              "\n",
              "      <script>\n",
              "        const buttonEl =\n",
              "          document.querySelector('#df-b6ed0297-f47f-4233-ae74-d4aa655c0110 button.colab-df-convert');\n",
              "        buttonEl.style.display =\n",
              "          google.colab.kernel.accessAllowed ? 'block' : 'none';\n",
              "\n",
              "        async function convertToInteractive(key) {\n",
              "          const element = document.querySelector('#df-b6ed0297-f47f-4233-ae74-d4aa655c0110');\n",
              "          const dataTable =\n",
              "            await google.colab.kernel.invokeFunction('convertToInteractive',\n",
              "                                                     [key], {});\n",
              "          if (!dataTable) return;\n",
              "\n",
              "          const docLinkHtml = 'Like what you see? Visit the ' +\n",
              "            '<a target=\"_blank\" href=https://colab.research.google.com/notebooks/data_table.ipynb>data table notebook</a>'\n",
              "            + ' to learn more about interactive tables.';\n",
              "          element.innerHTML = '';\n",
              "          dataTable['output_type'] = 'display_data';\n",
              "          await google.colab.output.renderOutput(dataTable, element);\n",
              "          const docLink = document.createElement('div');\n",
              "          docLink.innerHTML = docLinkHtml;\n",
              "          element.appendChild(docLink);\n",
              "        }\n",
              "      </script>\n",
              "    </div>\n",
              "  </div>\n",
              "  "
            ]
          },
          "metadata": {},
          "execution_count": 327
        }
      ],
      "source": [
        "from sklearn.preprocessing import StandardScaler\n",
        "\n",
        "scaler = StandardScaler()\n",
        "\n",
        "num_cols=X_train.select_dtypes(include=['float64', 'int64']).columns\n",
        "\n",
        "X_train[num_cols] = scaler.fit_transform(X_train[num_cols])\n",
        "\n",
        "X_train.head()"
      ]
    },
    {
      "cell_type": "markdown",
      "id": "fb5ab69f",
      "metadata": {
        "id": "fb5ab69f"
      },
      "source": [
        "## Model Building using Stats Model & RFE\n",
        "<hr/>"
      ]
    },
    {
      "cell_type": "code",
      "execution_count": 328,
      "id": "d3459343",
      "metadata": {
        "id": "d3459343"
      },
      "outputs": [],
      "source": [
        "import statsmodels.api as sm"
      ]
    },
    {
      "cell_type": "code",
      "execution_count": 329,
      "id": "fe91d5e8",
      "metadata": {
        "id": "fe91d5e8"
      },
      "outputs": [],
      "source": [
        "from sklearn.linear_model import LogisticRegression\n",
        "logreg=LogisticRegression()\n",
        "\n",
        "from sklearn.feature_selection import RFE\n",
        "rfe = RFE(logreg,n_features_to_select=15)             # running RFE with 15 variables as output\n",
        "rfe = rfe.fit(X_train, y_train)"
      ]
    },
    {
      "cell_type": "code",
      "execution_count": 330,
      "id": "975e5914",
      "metadata": {
        "colab": {
          "base_uri": "https://localhost:8080/"
        },
        "id": "975e5914",
        "outputId": "47479694-c434-4d6e-ee68-50680c621cfa"
      },
      "outputs": [
        {
          "output_type": "execute_result",
          "data": {
            "text/plain": [
              "array([False,  True, False, False,  True, False, False, False, False,\n",
              "        True,  True, False, False, False, False, False, False, False,\n",
              "       False, False, False, False, False, False, False, False, False,\n",
              "       False, False, False, False, False, False, False,  True, False,\n",
              "       False, False,  True, False, False, False, False,  True,  True,\n",
              "        True, False, False, False,  True,  True,  True,  True,  True,\n",
              "       False, False, False, False, False, False,  True])"
            ]
          },
          "metadata": {},
          "execution_count": 330
        }
      ],
      "source": [
        "rfe.support_"
      ]
    },
    {
      "cell_type": "code",
      "execution_count": 331,
      "id": "6b839190",
      "metadata": {
        "colab": {
          "base_uri": "https://localhost:8080/"
        },
        "id": "6b839190",
        "outputId": "e0420212-d9c1-4754-8a9f-7368ea300a6f"
      },
      "outputs": [
        {
          "output_type": "execute_result",
          "data": {
            "text/plain": [
              "[('TotalVisits', False, 37),\n",
              " ('Total Time Spent on Website', True, 1),\n",
              " ('Page Views Per Visit', False, 38),\n",
              " ('Lead Origin_Landing Page Submission', False, 7),\n",
              " ('Lead Origin_Lead Add Form', True, 1),\n",
              " ('Lead Origin_Lead Import', False, 26),\n",
              " ('What is your current occupation_Housewife', False, 27),\n",
              " ('What is your current occupation_Other', False, 41),\n",
              " ('What is your current occupation_Student', False, 44),\n",
              " ('What is your current occupation_Unemployed', True, 1),\n",
              " ('What is your current occupation_Working Professional', True, 1),\n",
              " ('City_Other Cities', False, 43),\n",
              " ('City_Other Cities of Maharashtra', False, 31),\n",
              " ('City_Other Metro Cities', False, 45),\n",
              " ('City_Thane & Outskirts', False, 39),\n",
              " ('City_Tier II Cities', False, 15),\n",
              " ('Specialization_Banking, Investment And Insurance', False, 5),\n",
              " ('Specialization_Business Administration', False, 8),\n",
              " ('Specialization_E_Commerce', False, 12),\n",
              " ('Specialization_International Business', False, 22),\n",
              " ('Specialization_Management', False, 10),\n",
              " ('Specialization_Media and Advertising', False, 9),\n",
              " ('Specialization_Rural and Agribusiness', False, 6),\n",
              " ('Specialization_Services Excellence', False, 40),\n",
              " ('Specialization_Travel and Tourism', False, 21),\n",
              " ('Lead Source_Direct Traffic', False, 32),\n",
              " ('Lead Source_Google', False, 34),\n",
              " ('Lead Source_Olark Chat', False, 14),\n",
              " ('Lead Source_Organic Search', False, 35),\n",
              " ('Lead Source_Reference', False, 13),\n",
              " ('Lead Source_Referral Sites', False, 33),\n",
              " ('Lead Source_Social Media', False, 25),\n",
              " ('Lead Source_Welingak Website', False, 4),\n",
              " ('Last Activity_Converted to Lead', False, 23),\n",
              " ('Last Activity_Email Bounced', True, 1),\n",
              " ('Last Activity_Email Link Clicked', False, 46),\n",
              " ('Last Activity_Email Opened', False, 42),\n",
              " ('Last Activity_Form Submitted on Website', False, 36),\n",
              " ('Last Activity_Olark Chat Conversation', True, 1),\n",
              " ('Last Activity_Page Visited on Website', False, 11),\n",
              " ('Last Activity_SMS Sent', False, 19),\n",
              " ('Last Activity_Unreachable', False, 20),\n",
              " ('Last Activity_Unsubscribed', False, 28),\n",
              " ('Tags_Already a student', True, 1),\n",
              " ('Tags_Busy', True, 1),\n",
              " ('Tags_Closed by Horizzon', True, 1),\n",
              " ('Tags_Graduation in progress', False, 24),\n",
              " ('Tags_Interested  in full time MBA', False, 2),\n",
              " ('Tags_Interested in other courses', False, 3),\n",
              " ('Tags_Lost to EINS', True, 1),\n",
              " ('Tags_Not doing further education', True, 1),\n",
              " ('Tags_Ringing', True, 1),\n",
              " ('Tags_Will revert after reading the email', True, 1),\n",
              " ('Tags_switched off', True, 1),\n",
              " ('Last Notable Activity_Email Link Clicked', False, 16),\n",
              " ('Last Notable Activity_Email Opened', False, 30),\n",
              " ('Last Notable Activity_Email Received', False, 47),\n",
              " ('Last Notable Activity_Modified', False, 17),\n",
              " ('Last Notable Activity_Olark Chat Conversation', False, 18),\n",
              " ('Last Notable Activity_Page Visited on Website', False, 29),\n",
              " ('Last Notable Activity_SMS Sent', True, 1)]"
            ]
          },
          "metadata": {},
          "execution_count": 331
        }
      ],
      "source": [
        "list(zip(X_train.columns,rfe.support_,rfe.ranking_))"
      ]
    },
    {
      "cell_type": "code",
      "execution_count": 332,
      "id": "6ad66809",
      "metadata": {
        "id": "6ad66809"
      },
      "outputs": [],
      "source": [
        "#list of RFE supported columns\n",
        "col = X_train.columns[rfe.support_]"
      ]
    },
    {
      "cell_type": "code",
      "execution_count": 333,
      "id": "989d7ddf",
      "metadata": {
        "colab": {
          "base_uri": "https://localhost:8080/"
        },
        "id": "989d7ddf",
        "outputId": "386a8198-e0df-443e-d323-cfb4ba7910b8"
      },
      "outputs": [
        {
          "output_type": "execute_result",
          "data": {
            "text/plain": [
              "Index(['TotalVisits', 'Page Views Per Visit',\n",
              "       'Lead Origin_Landing Page Submission', 'Lead Origin_Lead Import',\n",
              "       'What is your current occupation_Housewife',\n",
              "       'What is your current occupation_Other',\n",
              "       'What is your current occupation_Student', 'City_Other Cities',\n",
              "       'City_Other Cities of Maharashtra', 'City_Other Metro Cities',\n",
              "       'City_Thane & Outskirts', 'City_Tier II Cities',\n",
              "       'Specialization_Banking, Investment And Insurance',\n",
              "       'Specialization_Business Administration', 'Specialization_E_Commerce',\n",
              "       'Specialization_International Business', 'Specialization_Management',\n",
              "       'Specialization_Media and Advertising',\n",
              "       'Specialization_Rural and Agribusiness',\n",
              "       'Specialization_Services Excellence',\n",
              "       'Specialization_Travel and Tourism', 'Lead Source_Direct Traffic',\n",
              "       'Lead Source_Google', 'Lead Source_Olark Chat',\n",
              "       'Lead Source_Organic Search', 'Lead Source_Reference',\n",
              "       'Lead Source_Referral Sites', 'Lead Source_Social Media',\n",
              "       'Lead Source_Welingak Website', 'Last Activity_Converted to Lead',\n",
              "       'Last Activity_Email Link Clicked', 'Last Activity_Email Opened',\n",
              "       'Last Activity_Form Submitted on Website',\n",
              "       'Last Activity_Page Visited on Website', 'Last Activity_SMS Sent',\n",
              "       'Last Activity_Unreachable', 'Last Activity_Unsubscribed',\n",
              "       'Tags_Graduation in progress', 'Tags_Interested  in full time MBA',\n",
              "       'Tags_Interested in other courses',\n",
              "       'Last Notable Activity_Email Link Clicked',\n",
              "       'Last Notable Activity_Email Opened',\n",
              "       'Last Notable Activity_Email Received',\n",
              "       'Last Notable Activity_Modified',\n",
              "       'Last Notable Activity_Olark Chat Conversation',\n",
              "       'Last Notable Activity_Page Visited on Website'],\n",
              "      dtype='object')"
            ]
          },
          "metadata": {},
          "execution_count": 333
        }
      ],
      "source": [
        "# Columns dropped during rfe\n",
        "X_train.columns[~rfe.support_]"
      ]
    },
    {
      "cell_type": "code",
      "execution_count": 334,
      "id": "0c05a5af",
      "metadata": {
        "colab": {
          "base_uri": "https://localhost:8080/",
          "height": 573
        },
        "id": "0c05a5af",
        "outputId": "9aa11254-e3ab-44c6-f515-36a2e7652f50"
      },
      "outputs": [
        {
          "output_type": "execute_result",
          "data": {
            "text/plain": [
              "<class 'statsmodels.iolib.summary.Summary'>\n",
              "\"\"\"\n",
              "                 Generalized Linear Model Regression Results                  \n",
              "==============================================================================\n",
              "Dep. Variable:              Converted   No. Observations:                 6246\n",
              "Model:                            GLM   Df Residuals:                     6230\n",
              "Model Family:                Gaussian   Df Model:                           15\n",
              "Link Function:               identity   Scale:                         0.10338\n",
              "Method:                          IRLS   Log-Likelihood:                -1767.5\n",
              "Date:                Tue, 24 Jan 2023   Deviance:                       644.05\n",
              "Time:                        07:53:01   Pearson chi2:                     644.\n",
              "No. Iterations:                     3                                         \n",
              "Covariance Type:            nonrobust                                         \n",
              "========================================================================================================================\n",
              "                                                           coef    std err          z      P>|z|      [0.025      0.975]\n",
              "------------------------------------------------------------------------------------------------------------------------\n",
              "const                                                    0.2014      0.028      7.192      0.000       0.147       0.256\n",
              "Total Time Spent on Website                              0.1262      0.004     28.676      0.000       0.118       0.135\n",
              "Lead Origin_Lead Add Form                                0.3598      0.019     19.443      0.000       0.324       0.396\n",
              "What is your current occupation_Unemployed              -0.1381      0.026     -5.376      0.000      -0.188      -0.088\n",
              "What is your current occupation_Working Professional     0.0973      0.030      3.268      0.001       0.039       0.156\n",
              "Last Activity_Email Bounced                             -0.1740      0.023     -7.681      0.000      -0.218      -0.130\n",
              "Last Activity_Olark Chat Conversation                   -0.1366      0.014     -9.829      0.000      -0.164      -0.109\n",
              "Tags_Already a student                                  -0.0123      0.022     -0.554      0.580      -0.056       0.031\n",
              "Tags_Busy                                                0.3521      0.032     10.974      0.000       0.289       0.415\n",
              "Tags_Closed by Horizzon                                  0.6901      0.027     25.304      0.000       0.637       0.744\n",
              "Tags_Lost to EINS                                        0.7965      0.032     24.918      0.000       0.734       0.859\n",
              "Tags_Not doing further education                        -0.0009      0.036     -0.026      0.979      -0.071       0.069\n",
              "Tags_Ringing                                            -0.1078      0.017     -6.421      0.000      -0.141      -0.075\n",
              "Tags_Will revert after reading the email                 0.3306      0.014     24.311      0.000       0.304       0.357\n",
              "Tags_switched off                                       -0.1435      0.029     -4.935      0.000      -0.200      -0.087\n",
              "Last Notable Activity_SMS Sent                           0.3075      0.010     29.538      0.000       0.287       0.328\n",
              "========================================================================================================================\n",
              "\"\"\""
            ],
            "text/html": [
              "<table class=\"simpletable\">\n",
              "<caption>Generalized Linear Model Regression Results</caption>\n",
              "<tr>\n",
              "  <th>Dep. Variable:</th>       <td>Converted</td>    <th>  No. Observations:  </th>  <td>  6246</td> \n",
              "</tr>\n",
              "<tr>\n",
              "  <th>Model:</th>                  <td>GLM</td>       <th>  Df Residuals:      </th>  <td>  6230</td> \n",
              "</tr>\n",
              "<tr>\n",
              "  <th>Model Family:</th>        <td>Gaussian</td>     <th>  Df Model:          </th>  <td>    15</td> \n",
              "</tr>\n",
              "<tr>\n",
              "  <th>Link Function:</th>       <td>identity</td>     <th>  Scale:             </th> <td> 0.10338</td>\n",
              "</tr>\n",
              "<tr>\n",
              "  <th>Method:</th>                <td>IRLS</td>       <th>  Log-Likelihood:    </th> <td> -1767.5</td>\n",
              "</tr>\n",
              "<tr>\n",
              "  <th>Date:</th>            <td>Tue, 24 Jan 2023</td> <th>  Deviance:          </th> <td>  644.05</td>\n",
              "</tr>\n",
              "<tr>\n",
              "  <th>Time:</th>                <td>07:53:01</td>     <th>  Pearson chi2:      </th>  <td>  644.</td> \n",
              "</tr>\n",
              "<tr>\n",
              "  <th>No. Iterations:</th>          <td>3</td>        <th>                     </th>     <td> </td>   \n",
              "</tr>\n",
              "<tr>\n",
              "  <th>Covariance Type:</th>     <td>nonrobust</td>    <th>                     </th>     <td> </td>   \n",
              "</tr>\n",
              "</table>\n",
              "<table class=\"simpletable\">\n",
              "<tr>\n",
              "                            <td></td>                              <th>coef</th>     <th>std err</th>      <th>z</th>      <th>P>|z|</th>  <th>[0.025</th>    <th>0.975]</th>  \n",
              "</tr>\n",
              "<tr>\n",
              "  <th>const</th>                                                <td>    0.2014</td> <td>    0.028</td> <td>    7.192</td> <td> 0.000</td> <td>    0.147</td> <td>    0.256</td>\n",
              "</tr>\n",
              "<tr>\n",
              "  <th>Total Time Spent on Website</th>                          <td>    0.1262</td> <td>    0.004</td> <td>   28.676</td> <td> 0.000</td> <td>    0.118</td> <td>    0.135</td>\n",
              "</tr>\n",
              "<tr>\n",
              "  <th>Lead Origin_Lead Add Form</th>                            <td>    0.3598</td> <td>    0.019</td> <td>   19.443</td> <td> 0.000</td> <td>    0.324</td> <td>    0.396</td>\n",
              "</tr>\n",
              "<tr>\n",
              "  <th>What is your current occupation_Unemployed</th>           <td>   -0.1381</td> <td>    0.026</td> <td>   -5.376</td> <td> 0.000</td> <td>   -0.188</td> <td>   -0.088</td>\n",
              "</tr>\n",
              "<tr>\n",
              "  <th>What is your current occupation_Working Professional</th> <td>    0.0973</td> <td>    0.030</td> <td>    3.268</td> <td> 0.001</td> <td>    0.039</td> <td>    0.156</td>\n",
              "</tr>\n",
              "<tr>\n",
              "  <th>Last Activity_Email Bounced</th>                          <td>   -0.1740</td> <td>    0.023</td> <td>   -7.681</td> <td> 0.000</td> <td>   -0.218</td> <td>   -0.130</td>\n",
              "</tr>\n",
              "<tr>\n",
              "  <th>Last Activity_Olark Chat Conversation</th>                <td>   -0.1366</td> <td>    0.014</td> <td>   -9.829</td> <td> 0.000</td> <td>   -0.164</td> <td>   -0.109</td>\n",
              "</tr>\n",
              "<tr>\n",
              "  <th>Tags_Already a student</th>                               <td>   -0.0123</td> <td>    0.022</td> <td>   -0.554</td> <td> 0.580</td> <td>   -0.056</td> <td>    0.031</td>\n",
              "</tr>\n",
              "<tr>\n",
              "  <th>Tags_Busy</th>                                            <td>    0.3521</td> <td>    0.032</td> <td>   10.974</td> <td> 0.000</td> <td>    0.289</td> <td>    0.415</td>\n",
              "</tr>\n",
              "<tr>\n",
              "  <th>Tags_Closed by Horizzon</th>                              <td>    0.6901</td> <td>    0.027</td> <td>   25.304</td> <td> 0.000</td> <td>    0.637</td> <td>    0.744</td>\n",
              "</tr>\n",
              "<tr>\n",
              "  <th>Tags_Lost to EINS</th>                                    <td>    0.7965</td> <td>    0.032</td> <td>   24.918</td> <td> 0.000</td> <td>    0.734</td> <td>    0.859</td>\n",
              "</tr>\n",
              "<tr>\n",
              "  <th>Tags_Not doing further education</th>                     <td>   -0.0009</td> <td>    0.036</td> <td>   -0.026</td> <td> 0.979</td> <td>   -0.071</td> <td>    0.069</td>\n",
              "</tr>\n",
              "<tr>\n",
              "  <th>Tags_Ringing</th>                                         <td>   -0.1078</td> <td>    0.017</td> <td>   -6.421</td> <td> 0.000</td> <td>   -0.141</td> <td>   -0.075</td>\n",
              "</tr>\n",
              "<tr>\n",
              "  <th>Tags_Will revert after reading the email</th>             <td>    0.3306</td> <td>    0.014</td> <td>   24.311</td> <td> 0.000</td> <td>    0.304</td> <td>    0.357</td>\n",
              "</tr>\n",
              "<tr>\n",
              "  <th>Tags_switched off</th>                                    <td>   -0.1435</td> <td>    0.029</td> <td>   -4.935</td> <td> 0.000</td> <td>   -0.200</td> <td>   -0.087</td>\n",
              "</tr>\n",
              "<tr>\n",
              "  <th>Last Notable Activity_SMS Sent</th>                       <td>    0.3075</td> <td>    0.010</td> <td>   29.538</td> <td> 0.000</td> <td>    0.287</td> <td>    0.328</td>\n",
              "</tr>\n",
              "</table>"
            ]
          },
          "metadata": {},
          "execution_count": 334
        }
      ],
      "source": [
        "# Lets build first model\n",
        "X_train_sm=sm.add_constant(X_train[col])\n",
        "log1=sm.GLM(y_train,X_train_sm,familiy=sm.families.Binomial())\n",
        "res=log1.fit()\n",
        "res.summary()"
      ]
    },
    {
      "cell_type": "code",
      "execution_count": 335,
      "id": "4e3d5b8e",
      "metadata": {
        "id": "4e3d5b8e"
      },
      "outputs": [],
      "source": [
        "# P Value of Tags_Not doing further Education is high. So we can dropp this\n",
        "\n",
        "col=col.drop('Tags_Not doing further education',1)"
      ]
    },
    {
      "cell_type": "code",
      "execution_count": 336,
      "id": "6255598b",
      "metadata": {
        "colab": {
          "base_uri": "https://localhost:8080/",
          "height": 552
        },
        "id": "6255598b",
        "outputId": "6cad450b-4ca8-40ed-d51c-704a55606969"
      },
      "outputs": [
        {
          "output_type": "execute_result",
          "data": {
            "text/plain": [
              "<class 'statsmodels.iolib.summary.Summary'>\n",
              "\"\"\"\n",
              "                 Generalized Linear Model Regression Results                  \n",
              "==============================================================================\n",
              "Dep. Variable:              Converted   No. Observations:                 6246\n",
              "Model:                            GLM   Df Residuals:                     6231\n",
              "Model Family:                Gaussian   Df Model:                           14\n",
              "Link Function:               identity   Scale:                         0.10336\n",
              "Method:                          IRLS   Log-Likelihood:                -1767.5\n",
              "Date:                Tue, 24 Jan 2023   Deviance:                       644.05\n",
              "Time:                        07:53:01   Pearson chi2:                     644.\n",
              "No. Iterations:                     3                                         \n",
              "Covariance Type:            nonrobust                                         \n",
              "========================================================================================================================\n",
              "                                                           coef    std err          z      P>|z|      [0.025      0.975]\n",
              "------------------------------------------------------------------------------------------------------------------------\n",
              "const                                                    0.2013      0.028      7.288      0.000       0.147       0.255\n",
              "Total Time Spent on Website                              0.1262      0.004     28.679      0.000       0.118       0.135\n",
              "Lead Origin_Lead Add Form                                0.3598      0.019     19.444      0.000       0.324       0.396\n",
              "What is your current occupation_Unemployed              -0.1381      0.026     -5.376      0.000      -0.188      -0.088\n",
              "What is your current occupation_Working Professional     0.0974      0.030      3.269      0.001       0.039       0.156\n",
              "Last Activity_Email Bounced                             -0.1741      0.022     -7.770      0.000      -0.218      -0.130\n",
              "Last Activity_Olark Chat Conversation                   -0.1366      0.014     -9.832      0.000      -0.164      -0.109\n",
              "Tags_Already a student                                  -0.0122      0.022     -0.560      0.576      -0.055       0.030\n",
              "Tags_Busy                                                0.3522      0.032     11.069      0.000       0.290       0.415\n",
              "Tags_Closed by Horizzon                                  0.6902      0.027     25.607      0.000       0.637       0.743\n",
              "Tags_Lost to EINS                                        0.7966      0.032     25.138      0.000       0.734       0.859\n",
              "Tags_Ringing                                            -0.1077      0.016     -6.617      0.000      -0.140      -0.076\n",
              "Tags_Will revert after reading the email                 0.3307      0.013     25.546      0.000       0.305       0.356\n",
              "Tags_switched off                                       -0.1434      0.029     -4.984      0.000      -0.200      -0.087\n",
              "Last Notable Activity_SMS Sent                           0.3075      0.010     29.541      0.000       0.287       0.328\n",
              "========================================================================================================================\n",
              "\"\"\""
            ],
            "text/html": [
              "<table class=\"simpletable\">\n",
              "<caption>Generalized Linear Model Regression Results</caption>\n",
              "<tr>\n",
              "  <th>Dep. Variable:</th>       <td>Converted</td>    <th>  No. Observations:  </th>  <td>  6246</td> \n",
              "</tr>\n",
              "<tr>\n",
              "  <th>Model:</th>                  <td>GLM</td>       <th>  Df Residuals:      </th>  <td>  6231</td> \n",
              "</tr>\n",
              "<tr>\n",
              "  <th>Model Family:</th>        <td>Gaussian</td>     <th>  Df Model:          </th>  <td>    14</td> \n",
              "</tr>\n",
              "<tr>\n",
              "  <th>Link Function:</th>       <td>identity</td>     <th>  Scale:             </th> <td> 0.10336</td>\n",
              "</tr>\n",
              "<tr>\n",
              "  <th>Method:</th>                <td>IRLS</td>       <th>  Log-Likelihood:    </th> <td> -1767.5</td>\n",
              "</tr>\n",
              "<tr>\n",
              "  <th>Date:</th>            <td>Tue, 24 Jan 2023</td> <th>  Deviance:          </th> <td>  644.05</td>\n",
              "</tr>\n",
              "<tr>\n",
              "  <th>Time:</th>                <td>07:53:01</td>     <th>  Pearson chi2:      </th>  <td>  644.</td> \n",
              "</tr>\n",
              "<tr>\n",
              "  <th>No. Iterations:</th>          <td>3</td>        <th>                     </th>     <td> </td>   \n",
              "</tr>\n",
              "<tr>\n",
              "  <th>Covariance Type:</th>     <td>nonrobust</td>    <th>                     </th>     <td> </td>   \n",
              "</tr>\n",
              "</table>\n",
              "<table class=\"simpletable\">\n",
              "<tr>\n",
              "                            <td></td>                              <th>coef</th>     <th>std err</th>      <th>z</th>      <th>P>|z|</th>  <th>[0.025</th>    <th>0.975]</th>  \n",
              "</tr>\n",
              "<tr>\n",
              "  <th>const</th>                                                <td>    0.2013</td> <td>    0.028</td> <td>    7.288</td> <td> 0.000</td> <td>    0.147</td> <td>    0.255</td>\n",
              "</tr>\n",
              "<tr>\n",
              "  <th>Total Time Spent on Website</th>                          <td>    0.1262</td> <td>    0.004</td> <td>   28.679</td> <td> 0.000</td> <td>    0.118</td> <td>    0.135</td>\n",
              "</tr>\n",
              "<tr>\n",
              "  <th>Lead Origin_Lead Add Form</th>                            <td>    0.3598</td> <td>    0.019</td> <td>   19.444</td> <td> 0.000</td> <td>    0.324</td> <td>    0.396</td>\n",
              "</tr>\n",
              "<tr>\n",
              "  <th>What is your current occupation_Unemployed</th>           <td>   -0.1381</td> <td>    0.026</td> <td>   -5.376</td> <td> 0.000</td> <td>   -0.188</td> <td>   -0.088</td>\n",
              "</tr>\n",
              "<tr>\n",
              "  <th>What is your current occupation_Working Professional</th> <td>    0.0974</td> <td>    0.030</td> <td>    3.269</td> <td> 0.001</td> <td>    0.039</td> <td>    0.156</td>\n",
              "</tr>\n",
              "<tr>\n",
              "  <th>Last Activity_Email Bounced</th>                          <td>   -0.1741</td> <td>    0.022</td> <td>   -7.770</td> <td> 0.000</td> <td>   -0.218</td> <td>   -0.130</td>\n",
              "</tr>\n",
              "<tr>\n",
              "  <th>Last Activity_Olark Chat Conversation</th>                <td>   -0.1366</td> <td>    0.014</td> <td>   -9.832</td> <td> 0.000</td> <td>   -0.164</td> <td>   -0.109</td>\n",
              "</tr>\n",
              "<tr>\n",
              "  <th>Tags_Already a student</th>                               <td>   -0.0122</td> <td>    0.022</td> <td>   -0.560</td> <td> 0.576</td> <td>   -0.055</td> <td>    0.030</td>\n",
              "</tr>\n",
              "<tr>\n",
              "  <th>Tags_Busy</th>                                            <td>    0.3522</td> <td>    0.032</td> <td>   11.069</td> <td> 0.000</td> <td>    0.290</td> <td>    0.415</td>\n",
              "</tr>\n",
              "<tr>\n",
              "  <th>Tags_Closed by Horizzon</th>                              <td>    0.6902</td> <td>    0.027</td> <td>   25.607</td> <td> 0.000</td> <td>    0.637</td> <td>    0.743</td>\n",
              "</tr>\n",
              "<tr>\n",
              "  <th>Tags_Lost to EINS</th>                                    <td>    0.7966</td> <td>    0.032</td> <td>   25.138</td> <td> 0.000</td> <td>    0.734</td> <td>    0.859</td>\n",
              "</tr>\n",
              "<tr>\n",
              "  <th>Tags_Ringing</th>                                         <td>   -0.1077</td> <td>    0.016</td> <td>   -6.617</td> <td> 0.000</td> <td>   -0.140</td> <td>   -0.076</td>\n",
              "</tr>\n",
              "<tr>\n",
              "  <th>Tags_Will revert after reading the email</th>             <td>    0.3307</td> <td>    0.013</td> <td>   25.546</td> <td> 0.000</td> <td>    0.305</td> <td>    0.356</td>\n",
              "</tr>\n",
              "<tr>\n",
              "  <th>Tags_switched off</th>                                    <td>   -0.1434</td> <td>    0.029</td> <td>   -4.984</td> <td> 0.000</td> <td>   -0.200</td> <td>   -0.087</td>\n",
              "</tr>\n",
              "<tr>\n",
              "  <th>Last Notable Activity_SMS Sent</th>                       <td>    0.3075</td> <td>    0.010</td> <td>   29.541</td> <td> 0.000</td> <td>    0.287</td> <td>    0.328</td>\n",
              "</tr>\n",
              "</table>"
            ]
          },
          "metadata": {},
          "execution_count": 336
        }
      ],
      "source": [
        "#Building IInd Model\n",
        "\n",
        "X_train_sm=sm.add_constant(X_train[col])\n",
        "log2=sm.GLM(y_train,X_train_sm,familiy=sm.families.Binomial())\n",
        "res=log2.fit()\n",
        "res.summary()"
      ]
    },
    {
      "cell_type": "code",
      "execution_count": 337,
      "id": "59c5c5da",
      "metadata": {
        "id": "59c5c5da"
      },
      "outputs": [],
      "source": [
        "# Tags_Already a Student has high p value , lets dropp it also\n",
        "col=col.drop(\"Tags_Already a student\",1)"
      ]
    },
    {
      "cell_type": "code",
      "execution_count": 338,
      "id": "a5c492e8",
      "metadata": {
        "colab": {
          "base_uri": "https://localhost:8080/",
          "height": 531
        },
        "id": "a5c492e8",
        "outputId": "e1fd6e49-b0fb-4fb9-ce10-c5e004e30b14"
      },
      "outputs": [
        {
          "output_type": "execute_result",
          "data": {
            "text/plain": [
              "<class 'statsmodels.iolib.summary.Summary'>\n",
              "\"\"\"\n",
              "                 Generalized Linear Model Regression Results                  \n",
              "==============================================================================\n",
              "Dep. Variable:              Converted   No. Observations:                 6246\n",
              "Model:                            GLM   Df Residuals:                     6232\n",
              "Model Family:                Binomial   Df Model:                           13\n",
              "Link Function:                  logit   Scale:                          1.0000\n",
              "Method:                          IRLS   Log-Likelihood:                -1754.3\n",
              "Date:                Tue, 24 Jan 2023   Deviance:                       3508.7\n",
              "Time:                        07:53:01   Pearson chi2:                 9.39e+03\n",
              "No. Iterations:                    24                                         \n",
              "Covariance Type:            nonrobust                                         \n",
              "========================================================================================================================\n",
              "                                                           coef    std err          z      P>|z|      [0.025      0.975]\n",
              "------------------------------------------------------------------------------------------------------------------------\n",
              "const                                                   -3.0640      0.335     -9.137      0.000      -3.721      -2.407\n",
              "Total Time Spent on Website                              0.9973      0.045     21.930      0.000       0.908       1.086\n",
              "Lead Origin_Lead Add Form                                3.5063      0.275     12.764      0.000       2.968       4.045\n",
              "What is your current occupation_Unemployed              -1.3621      0.310     -4.399      0.000      -1.969      -0.755\n",
              "What is your current occupation_Working Professional     1.4388      0.393      3.658      0.000       0.668       2.210\n",
              "Last Activity_Email Bounced                             -2.2767      0.392     -5.810      0.000      -3.045      -1.509\n",
              "Last Activity_Olark Chat Conversation                   -1.0809      0.173     -6.258      0.000      -1.419      -0.742\n",
              "Tags_Busy                                                3.5853      0.313     11.441      0.000       2.971       4.200\n",
              "Tags_Closed by Horizzon                                 28.7594   1.26e+04      0.002      0.998   -2.46e+04    2.47e+04\n",
              "Tags_Lost to EINS                                        7.8161      0.579     13.510      0.000       6.682       8.950\n",
              "Tags_Ringing                                            -0.8778      0.309     -2.843      0.004      -1.483      -0.273\n",
              "Tags_Will revert after reading the email                 3.7358      0.216     17.322      0.000       3.313       4.159\n",
              "Tags_switched off                                       -1.3995      0.642     -2.181      0.029      -2.657      -0.142\n",
              "Last Notable Activity_SMS Sent                           2.4504      0.116     21.148      0.000       2.223       2.678\n",
              "========================================================================================================================\n",
              "\"\"\""
            ],
            "text/html": [
              "<table class=\"simpletable\">\n",
              "<caption>Generalized Linear Model Regression Results</caption>\n",
              "<tr>\n",
              "  <th>Dep. Variable:</th>       <td>Converted</td>    <th>  No. Observations:  </th>  <td>  6246</td> \n",
              "</tr>\n",
              "<tr>\n",
              "  <th>Model:</th>                  <td>GLM</td>       <th>  Df Residuals:      </th>  <td>  6232</td> \n",
              "</tr>\n",
              "<tr>\n",
              "  <th>Model Family:</th>        <td>Binomial</td>     <th>  Df Model:          </th>  <td>    13</td> \n",
              "</tr>\n",
              "<tr>\n",
              "  <th>Link Function:</th>         <td>logit</td>      <th>  Scale:             </th> <td>  1.0000</td>\n",
              "</tr>\n",
              "<tr>\n",
              "  <th>Method:</th>                <td>IRLS</td>       <th>  Log-Likelihood:    </th> <td> -1754.3</td>\n",
              "</tr>\n",
              "<tr>\n",
              "  <th>Date:</th>            <td>Tue, 24 Jan 2023</td> <th>  Deviance:          </th> <td>  3508.7</td>\n",
              "</tr>\n",
              "<tr>\n",
              "  <th>Time:</th>                <td>07:53:01</td>     <th>  Pearson chi2:      </th> <td>9.39e+03</td>\n",
              "</tr>\n",
              "<tr>\n",
              "  <th>No. Iterations:</th>         <td>24</td>        <th>                     </th>     <td> </td>   \n",
              "</tr>\n",
              "<tr>\n",
              "  <th>Covariance Type:</th>     <td>nonrobust</td>    <th>                     </th>     <td> </td>   \n",
              "</tr>\n",
              "</table>\n",
              "<table class=\"simpletable\">\n",
              "<tr>\n",
              "                            <td></td>                              <th>coef</th>     <th>std err</th>      <th>z</th>      <th>P>|z|</th>  <th>[0.025</th>    <th>0.975]</th>  \n",
              "</tr>\n",
              "<tr>\n",
              "  <th>const</th>                                                <td>   -3.0640</td> <td>    0.335</td> <td>   -9.137</td> <td> 0.000</td> <td>   -3.721</td> <td>   -2.407</td>\n",
              "</tr>\n",
              "<tr>\n",
              "  <th>Total Time Spent on Website</th>                          <td>    0.9973</td> <td>    0.045</td> <td>   21.930</td> <td> 0.000</td> <td>    0.908</td> <td>    1.086</td>\n",
              "</tr>\n",
              "<tr>\n",
              "  <th>Lead Origin_Lead Add Form</th>                            <td>    3.5063</td> <td>    0.275</td> <td>   12.764</td> <td> 0.000</td> <td>    2.968</td> <td>    4.045</td>\n",
              "</tr>\n",
              "<tr>\n",
              "  <th>What is your current occupation_Unemployed</th>           <td>   -1.3621</td> <td>    0.310</td> <td>   -4.399</td> <td> 0.000</td> <td>   -1.969</td> <td>   -0.755</td>\n",
              "</tr>\n",
              "<tr>\n",
              "  <th>What is your current occupation_Working Professional</th> <td>    1.4388</td> <td>    0.393</td> <td>    3.658</td> <td> 0.000</td> <td>    0.668</td> <td>    2.210</td>\n",
              "</tr>\n",
              "<tr>\n",
              "  <th>Last Activity_Email Bounced</th>                          <td>   -2.2767</td> <td>    0.392</td> <td>   -5.810</td> <td> 0.000</td> <td>   -3.045</td> <td>   -1.509</td>\n",
              "</tr>\n",
              "<tr>\n",
              "  <th>Last Activity_Olark Chat Conversation</th>                <td>   -1.0809</td> <td>    0.173</td> <td>   -6.258</td> <td> 0.000</td> <td>   -1.419</td> <td>   -0.742</td>\n",
              "</tr>\n",
              "<tr>\n",
              "  <th>Tags_Busy</th>                                            <td>    3.5853</td> <td>    0.313</td> <td>   11.441</td> <td> 0.000</td> <td>    2.971</td> <td>    4.200</td>\n",
              "</tr>\n",
              "<tr>\n",
              "  <th>Tags_Closed by Horizzon</th>                              <td>   28.7594</td> <td> 1.26e+04</td> <td>    0.002</td> <td> 0.998</td> <td>-2.46e+04</td> <td> 2.47e+04</td>\n",
              "</tr>\n",
              "<tr>\n",
              "  <th>Tags_Lost to EINS</th>                                    <td>    7.8161</td> <td>    0.579</td> <td>   13.510</td> <td> 0.000</td> <td>    6.682</td> <td>    8.950</td>\n",
              "</tr>\n",
              "<tr>\n",
              "  <th>Tags_Ringing</th>                                         <td>   -0.8778</td> <td>    0.309</td> <td>   -2.843</td> <td> 0.004</td> <td>   -1.483</td> <td>   -0.273</td>\n",
              "</tr>\n",
              "<tr>\n",
              "  <th>Tags_Will revert after reading the email</th>             <td>    3.7358</td> <td>    0.216</td> <td>   17.322</td> <td> 0.000</td> <td>    3.313</td> <td>    4.159</td>\n",
              "</tr>\n",
              "<tr>\n",
              "  <th>Tags_switched off</th>                                    <td>   -1.3995</td> <td>    0.642</td> <td>   -2.181</td> <td> 0.029</td> <td>   -2.657</td> <td>   -0.142</td>\n",
              "</tr>\n",
              "<tr>\n",
              "  <th>Last Notable Activity_SMS Sent</th>                       <td>    2.4504</td> <td>    0.116</td> <td>   21.148</td> <td> 0.000</td> <td>    2.223</td> <td>    2.678</td>\n",
              "</tr>\n",
              "</table>"
            ]
          },
          "metadata": {},
          "execution_count": 338
        }
      ],
      "source": [
        "# Building IIIrd Model\n",
        "X_train_sm=sm.add_constant(X_train[col])\n",
        "log3=sm.GLM(y_train,X_train_sm,family=sm.families.Binomial())\n",
        "res=log3.fit()\n",
        "res.summary()"
      ]
    },
    {
      "cell_type": "code",
      "execution_count": 339,
      "id": "7c41ee01",
      "metadata": {
        "id": "7c41ee01"
      },
      "outputs": [],
      "source": [
        "# Tags_Closed by Horizzon has high p value , lets dropp it also\n",
        "col=col.drop(\"Tags_Closed by Horizzon\",1)"
      ]
    },
    {
      "cell_type": "code",
      "execution_count": 340,
      "id": "ba72ba28",
      "metadata": {
        "colab": {
          "base_uri": "https://localhost:8080/",
          "height": 511
        },
        "id": "ba72ba28",
        "outputId": "e96ef6d7-80c1-46d2-d66d-5bd8e4ccdb86"
      },
      "outputs": [
        {
          "output_type": "execute_result",
          "data": {
            "text/plain": [
              "<class 'statsmodels.iolib.summary.Summary'>\n",
              "\"\"\"\n",
              "                 Generalized Linear Model Regression Results                  \n",
              "==============================================================================\n",
              "Dep. Variable:              Converted   No. Observations:                 6246\n",
              "Model:                            GLM   Df Residuals:                     6233\n",
              "Model Family:                Binomial   Df Model:                           12\n",
              "Link Function:                  logit   Scale:                          1.0000\n",
              "Method:                          IRLS   Log-Likelihood:                -2029.7\n",
              "Date:                Tue, 24 Jan 2023   Deviance:                       4059.4\n",
              "Time:                        07:53:01   Pearson chi2:                 1.04e+04\n",
              "No. Iterations:                     7                                         \n",
              "Covariance Type:            nonrobust                                         \n",
              "========================================================================================================================\n",
              "                                                           coef    std err          z      P>|z|      [0.025      0.975]\n",
              "------------------------------------------------------------------------------------------------------------------------\n",
              "const                                                   -1.7833      0.246     -7.253      0.000      -2.265      -1.301\n",
              "Total Time Spent on Website                              0.9927      0.042     23.815      0.000       0.911       1.074\n",
              "Lead Origin_Lead Add Form                                4.6063      0.254     18.155      0.000       4.109       5.104\n",
              "What is your current occupation_Unemployed              -0.6677      0.244     -2.739      0.006      -1.146      -0.190\n",
              "What is your current occupation_Working Professional     1.9868      0.316      6.285      0.000       1.367       2.606\n",
              "Last Activity_Email Bounced                             -2.3535      0.384     -6.132      0.000      -3.106      -1.601\n",
              "Last Activity_Olark Chat Conversation                   -1.0967      0.161     -6.805      0.000      -1.413      -0.781\n",
              "Tags_Busy                                                1.6882      0.252      6.706      0.000       1.195       2.182\n",
              "Tags_Lost to EINS                                        5.8570      0.548     10.691      0.000       4.783       6.931\n",
              "Tags_Ringing                                            -2.8102      0.258    -10.881      0.000      -3.316      -2.304\n",
              "Tags_Will revert after reading the email                 1.7978      0.114     15.827      0.000       1.575       2.020\n",
              "Tags_switched off                                       -3.1845      0.616     -5.167      0.000      -4.392      -1.976\n",
              "Last Notable Activity_SMS Sent                           2.2437      0.109     20.633      0.000       2.031       2.457\n",
              "========================================================================================================================\n",
              "\"\"\""
            ],
            "text/html": [
              "<table class=\"simpletable\">\n",
              "<caption>Generalized Linear Model Regression Results</caption>\n",
              "<tr>\n",
              "  <th>Dep. Variable:</th>       <td>Converted</td>    <th>  No. Observations:  </th>  <td>  6246</td> \n",
              "</tr>\n",
              "<tr>\n",
              "  <th>Model:</th>                  <td>GLM</td>       <th>  Df Residuals:      </th>  <td>  6233</td> \n",
              "</tr>\n",
              "<tr>\n",
              "  <th>Model Family:</th>        <td>Binomial</td>     <th>  Df Model:          </th>  <td>    12</td> \n",
              "</tr>\n",
              "<tr>\n",
              "  <th>Link Function:</th>         <td>logit</td>      <th>  Scale:             </th> <td>  1.0000</td>\n",
              "</tr>\n",
              "<tr>\n",
              "  <th>Method:</th>                <td>IRLS</td>       <th>  Log-Likelihood:    </th> <td> -2029.7</td>\n",
              "</tr>\n",
              "<tr>\n",
              "  <th>Date:</th>            <td>Tue, 24 Jan 2023</td> <th>  Deviance:          </th> <td>  4059.4</td>\n",
              "</tr>\n",
              "<tr>\n",
              "  <th>Time:</th>                <td>07:53:01</td>     <th>  Pearson chi2:      </th> <td>1.04e+04</td>\n",
              "</tr>\n",
              "<tr>\n",
              "  <th>No. Iterations:</th>          <td>7</td>        <th>                     </th>     <td> </td>   \n",
              "</tr>\n",
              "<tr>\n",
              "  <th>Covariance Type:</th>     <td>nonrobust</td>    <th>                     </th>     <td> </td>   \n",
              "</tr>\n",
              "</table>\n",
              "<table class=\"simpletable\">\n",
              "<tr>\n",
              "                            <td></td>                              <th>coef</th>     <th>std err</th>      <th>z</th>      <th>P>|z|</th>  <th>[0.025</th>    <th>0.975]</th>  \n",
              "</tr>\n",
              "<tr>\n",
              "  <th>const</th>                                                <td>   -1.7833</td> <td>    0.246</td> <td>   -7.253</td> <td> 0.000</td> <td>   -2.265</td> <td>   -1.301</td>\n",
              "</tr>\n",
              "<tr>\n",
              "  <th>Total Time Spent on Website</th>                          <td>    0.9927</td> <td>    0.042</td> <td>   23.815</td> <td> 0.000</td> <td>    0.911</td> <td>    1.074</td>\n",
              "</tr>\n",
              "<tr>\n",
              "  <th>Lead Origin_Lead Add Form</th>                            <td>    4.6063</td> <td>    0.254</td> <td>   18.155</td> <td> 0.000</td> <td>    4.109</td> <td>    5.104</td>\n",
              "</tr>\n",
              "<tr>\n",
              "  <th>What is your current occupation_Unemployed</th>           <td>   -0.6677</td> <td>    0.244</td> <td>   -2.739</td> <td> 0.006</td> <td>   -1.146</td> <td>   -0.190</td>\n",
              "</tr>\n",
              "<tr>\n",
              "  <th>What is your current occupation_Working Professional</th> <td>    1.9868</td> <td>    0.316</td> <td>    6.285</td> <td> 0.000</td> <td>    1.367</td> <td>    2.606</td>\n",
              "</tr>\n",
              "<tr>\n",
              "  <th>Last Activity_Email Bounced</th>                          <td>   -2.3535</td> <td>    0.384</td> <td>   -6.132</td> <td> 0.000</td> <td>   -3.106</td> <td>   -1.601</td>\n",
              "</tr>\n",
              "<tr>\n",
              "  <th>Last Activity_Olark Chat Conversation</th>                <td>   -1.0967</td> <td>    0.161</td> <td>   -6.805</td> <td> 0.000</td> <td>   -1.413</td> <td>   -0.781</td>\n",
              "</tr>\n",
              "<tr>\n",
              "  <th>Tags_Busy</th>                                            <td>    1.6882</td> <td>    0.252</td> <td>    6.706</td> <td> 0.000</td> <td>    1.195</td> <td>    2.182</td>\n",
              "</tr>\n",
              "<tr>\n",
              "  <th>Tags_Lost to EINS</th>                                    <td>    5.8570</td> <td>    0.548</td> <td>   10.691</td> <td> 0.000</td> <td>    4.783</td> <td>    6.931</td>\n",
              "</tr>\n",
              "<tr>\n",
              "  <th>Tags_Ringing</th>                                         <td>   -2.8102</td> <td>    0.258</td> <td>  -10.881</td> <td> 0.000</td> <td>   -3.316</td> <td>   -2.304</td>\n",
              "</tr>\n",
              "<tr>\n",
              "  <th>Tags_Will revert after reading the email</th>             <td>    1.7978</td> <td>    0.114</td> <td>   15.827</td> <td> 0.000</td> <td>    1.575</td> <td>    2.020</td>\n",
              "</tr>\n",
              "<tr>\n",
              "  <th>Tags_switched off</th>                                    <td>   -3.1845</td> <td>    0.616</td> <td>   -5.167</td> <td> 0.000</td> <td>   -4.392</td> <td>   -1.976</td>\n",
              "</tr>\n",
              "<tr>\n",
              "  <th>Last Notable Activity_SMS Sent</th>                       <td>    2.2437</td> <td>    0.109</td> <td>   20.633</td> <td> 0.000</td> <td>    2.031</td> <td>    2.457</td>\n",
              "</tr>\n",
              "</table>"
            ]
          },
          "metadata": {},
          "execution_count": 340
        }
      ],
      "source": [
        "# Building IVth Model\n",
        "X_train_sm=sm.add_constant(X_train[col])\n",
        "log4=sm.GLM(y_train,X_train_sm,family=sm.families.Binomial())\n",
        "res=log4.fit()\n",
        "res.summary()"
      ]
    },
    {
      "cell_type": "code",
      "execution_count": 341,
      "id": "26317b5a",
      "metadata": {
        "id": "26317b5a"
      },
      "outputs": [],
      "source": [
        "# Check for the VIF values of the feature variables. \n",
        "from statsmodels.stats.outliers_influence import variance_inflation_factor"
      ]
    },
    {
      "cell_type": "code",
      "execution_count": 342,
      "id": "c4dfdb33",
      "metadata": {
        "colab": {
          "base_uri": "https://localhost:8080/",
          "height": 426
        },
        "id": "c4dfdb33",
        "outputId": "9aa6d1e4-0156-4b5b-c1c7-97e6f8fe3cba"
      },
      "outputs": [
        {
          "output_type": "execute_result",
          "data": {
            "text/plain": [
              "                                             Features   VIF\n",
              "2          What is your current occupation_Unemployed  4.86\n",
              "9            Tags_Will revert after reading the email  3.99\n",
              "8                                        Tags_Ringing  1.75\n",
              "11                     Last Notable Activity_SMS Sent  1.53\n",
              "3   What is your current occupation_Working Profes...  1.45\n",
              "5               Last Activity_Olark Chat Conversation  1.25\n",
              "1                           Lead Origin_Lead Add Form  1.21\n",
              "0                         Total Time Spent on Website  1.15\n",
              "10                                  Tags_switched off  1.14\n",
              "6                                           Tags_Busy  1.13\n",
              "7                                   Tags_Lost to EINS  1.10\n",
              "4                         Last Activity_Email Bounced  1.07"
            ],
            "text/html": [
              "\n",
              "  <div id=\"df-9a3c0af7-2cd3-4199-a445-587100f683d6\">\n",
              "    <div class=\"colab-df-container\">\n",
              "      <div>\n",
              "<style scoped>\n",
              "    .dataframe tbody tr th:only-of-type {\n",
              "        vertical-align: middle;\n",
              "    }\n",
              "\n",
              "    .dataframe tbody tr th {\n",
              "        vertical-align: top;\n",
              "    }\n",
              "\n",
              "    .dataframe thead th {\n",
              "        text-align: right;\n",
              "    }\n",
              "</style>\n",
              "<table border=\"1\" class=\"dataframe\">\n",
              "  <thead>\n",
              "    <tr style=\"text-align: right;\">\n",
              "      <th></th>\n",
              "      <th>Features</th>\n",
              "      <th>VIF</th>\n",
              "    </tr>\n",
              "  </thead>\n",
              "  <tbody>\n",
              "    <tr>\n",
              "      <th>2</th>\n",
              "      <td>What is your current occupation_Unemployed</td>\n",
              "      <td>4.86</td>\n",
              "    </tr>\n",
              "    <tr>\n",
              "      <th>9</th>\n",
              "      <td>Tags_Will revert after reading the email</td>\n",
              "      <td>3.99</td>\n",
              "    </tr>\n",
              "    <tr>\n",
              "      <th>8</th>\n",
              "      <td>Tags_Ringing</td>\n",
              "      <td>1.75</td>\n",
              "    </tr>\n",
              "    <tr>\n",
              "      <th>11</th>\n",
              "      <td>Last Notable Activity_SMS Sent</td>\n",
              "      <td>1.53</td>\n",
              "    </tr>\n",
              "    <tr>\n",
              "      <th>3</th>\n",
              "      <td>What is your current occupation_Working Profes...</td>\n",
              "      <td>1.45</td>\n",
              "    </tr>\n",
              "    <tr>\n",
              "      <th>5</th>\n",
              "      <td>Last Activity_Olark Chat Conversation</td>\n",
              "      <td>1.25</td>\n",
              "    </tr>\n",
              "    <tr>\n",
              "      <th>1</th>\n",
              "      <td>Lead Origin_Lead Add Form</td>\n",
              "      <td>1.21</td>\n",
              "    </tr>\n",
              "    <tr>\n",
              "      <th>0</th>\n",
              "      <td>Total Time Spent on Website</td>\n",
              "      <td>1.15</td>\n",
              "    </tr>\n",
              "    <tr>\n",
              "      <th>10</th>\n",
              "      <td>Tags_switched off</td>\n",
              "      <td>1.14</td>\n",
              "    </tr>\n",
              "    <tr>\n",
              "      <th>6</th>\n",
              "      <td>Tags_Busy</td>\n",
              "      <td>1.13</td>\n",
              "    </tr>\n",
              "    <tr>\n",
              "      <th>7</th>\n",
              "      <td>Tags_Lost to EINS</td>\n",
              "      <td>1.10</td>\n",
              "    </tr>\n",
              "    <tr>\n",
              "      <th>4</th>\n",
              "      <td>Last Activity_Email Bounced</td>\n",
              "      <td>1.07</td>\n",
              "    </tr>\n",
              "  </tbody>\n",
              "</table>\n",
              "</div>\n",
              "      <button class=\"colab-df-convert\" onclick=\"convertToInteractive('df-9a3c0af7-2cd3-4199-a445-587100f683d6')\"\n",
              "              title=\"Convert this dataframe to an interactive table.\"\n",
              "              style=\"display:none;\">\n",
              "        \n",
              "  <svg xmlns=\"http://www.w3.org/2000/svg\" height=\"24px\"viewBox=\"0 0 24 24\"\n",
              "       width=\"24px\">\n",
              "    <path d=\"M0 0h24v24H0V0z\" fill=\"none\"/>\n",
              "    <path d=\"M18.56 5.44l.94 2.06.94-2.06 2.06-.94-2.06-.94-.94-2.06-.94 2.06-2.06.94zm-11 1L8.5 8.5l.94-2.06 2.06-.94-2.06-.94L8.5 2.5l-.94 2.06-2.06.94zm10 10l.94 2.06.94-2.06 2.06-.94-2.06-.94-.94-2.06-.94 2.06-2.06.94z\"/><path d=\"M17.41 7.96l-1.37-1.37c-.4-.4-.92-.59-1.43-.59-.52 0-1.04.2-1.43.59L10.3 9.45l-7.72 7.72c-.78.78-.78 2.05 0 2.83L4 21.41c.39.39.9.59 1.41.59.51 0 1.02-.2 1.41-.59l7.78-7.78 2.81-2.81c.8-.78.8-2.07 0-2.86zM5.41 20L4 18.59l7.72-7.72 1.47 1.35L5.41 20z\"/>\n",
              "  </svg>\n",
              "      </button>\n",
              "      \n",
              "  <style>\n",
              "    .colab-df-container {\n",
              "      display:flex;\n",
              "      flex-wrap:wrap;\n",
              "      gap: 12px;\n",
              "    }\n",
              "\n",
              "    .colab-df-convert {\n",
              "      background-color: #E8F0FE;\n",
              "      border: none;\n",
              "      border-radius: 50%;\n",
              "      cursor: pointer;\n",
              "      display: none;\n",
              "      fill: #1967D2;\n",
              "      height: 32px;\n",
              "      padding: 0 0 0 0;\n",
              "      width: 32px;\n",
              "    }\n",
              "\n",
              "    .colab-df-convert:hover {\n",
              "      background-color: #E2EBFA;\n",
              "      box-shadow: 0px 1px 2px rgba(60, 64, 67, 0.3), 0px 1px 3px 1px rgba(60, 64, 67, 0.15);\n",
              "      fill: #174EA6;\n",
              "    }\n",
              "\n",
              "    [theme=dark] .colab-df-convert {\n",
              "      background-color: #3B4455;\n",
              "      fill: #D2E3FC;\n",
              "    }\n",
              "\n",
              "    [theme=dark] .colab-df-convert:hover {\n",
              "      background-color: #434B5C;\n",
              "      box-shadow: 0px 1px 3px 1px rgba(0, 0, 0, 0.15);\n",
              "      filter: drop-shadow(0px 1px 2px rgba(0, 0, 0, 0.3));\n",
              "      fill: #FFFFFF;\n",
              "    }\n",
              "  </style>\n",
              "\n",
              "      <script>\n",
              "        const buttonEl =\n",
              "          document.querySelector('#df-9a3c0af7-2cd3-4199-a445-587100f683d6 button.colab-df-convert');\n",
              "        buttonEl.style.display =\n",
              "          google.colab.kernel.accessAllowed ? 'block' : 'none';\n",
              "\n",
              "        async function convertToInteractive(key) {\n",
              "          const element = document.querySelector('#df-9a3c0af7-2cd3-4199-a445-587100f683d6');\n",
              "          const dataTable =\n",
              "            await google.colab.kernel.invokeFunction('convertToInteractive',\n",
              "                                                     [key], {});\n",
              "          if (!dataTable) return;\n",
              "\n",
              "          const docLinkHtml = 'Like what you see? Visit the ' +\n",
              "            '<a target=\"_blank\" href=https://colab.research.google.com/notebooks/data_table.ipynb>data table notebook</a>'\n",
              "            + ' to learn more about interactive tables.';\n",
              "          element.innerHTML = '';\n",
              "          dataTable['output_type'] = 'display_data';\n",
              "          await google.colab.output.renderOutput(dataTable, element);\n",
              "          const docLink = document.createElement('div');\n",
              "          docLink.innerHTML = docLinkHtml;\n",
              "          element.appendChild(docLink);\n",
              "        }\n",
              "      </script>\n",
              "    </div>\n",
              "  </div>\n",
              "  "
            ]
          },
          "metadata": {},
          "execution_count": 342
        }
      ],
      "source": [
        "# Create a dataframe that will contain the names of all the feature variables and their respective VIFs\n",
        "vif = pd.DataFrame()\n",
        "vif['Features'] = X_train[col].columns\n",
        "vif['VIF'] = [variance_inflation_factor(X_train[col].values, i) for i in range(X_train[col].shape[1])]\n",
        "vif['VIF'] = round(vif['VIF'], 2)\n",
        "vif = vif.sort_values(by = \"VIF\", ascending = False)\n",
        "vif"
      ]
    },
    {
      "cell_type": "markdown",
      "id": "cb00835f",
      "metadata": {
        "id": "cb00835f"
      },
      "source": [
        "So the Values all seem to be in order so now, Moving on to derive the Probabilities, Lead Score, Predictions on Train Data:"
      ]
    },
    {
      "cell_type": "code",
      "execution_count": 343,
      "id": "b55a4823",
      "metadata": {
        "colab": {
          "base_uri": "https://localhost:8080/"
        },
        "id": "b55a4823",
        "outputId": "6185bf01-22d4-495c-8310-c221aefa8783"
      },
      "outputs": [
        {
          "output_type": "execute_result",
          "data": {
            "text/plain": [
              "5423    0.979946\n",
              "8220    0.962527\n",
              "7643    0.005158\n",
              "1313    0.626078\n",
              "3840    0.953463\n",
              "5384    0.067547\n",
              "6281    0.389108\n",
              "8376    0.306727\n",
              "1930    0.712410\n",
              "4107    0.040547\n",
              "dtype: float64"
            ]
          },
          "metadata": {},
          "execution_count": 343
        }
      ],
      "source": [
        "# Getting the Predicted values on the train set\n",
        "y_train_pred=res.predict(X_train_sm)\n",
        "y_train_pred[:10]"
      ]
    },
    {
      "cell_type": "code",
      "execution_count": 344,
      "id": "673a4abd",
      "metadata": {
        "colab": {
          "base_uri": "https://localhost:8080/"
        },
        "id": "673a4abd",
        "outputId": "5ef15cbf-e1cc-4953-c574-a5fd04e32ce3"
      },
      "outputs": [
        {
          "output_type": "execute_result",
          "data": {
            "text/plain": [
              "array([0.979946  , 0.96252669, 0.00515752, ..., 0.64507724, 0.93675138,\n",
              "       0.01371506])"
            ]
          },
          "metadata": {},
          "execution_count": 344
        }
      ],
      "source": [
        "y_train_pred=y_train_pred.values.reshape(-1)\n",
        "y_train_pred"
      ]
    },
    {
      "cell_type": "code",
      "execution_count": 345,
      "id": "3a86b775",
      "metadata": {
        "id": "3a86b775"
      },
      "outputs": [],
      "source": [
        "y_train_pred_Final=pd.DataFrame({'Converted':y_train.values,\"Converted_Prob\":y_train_pred})\n",
        "y_train_pred_Final[\"Prospect ID\"]=y_train.index"
      ]
    },
    {
      "cell_type": "code",
      "execution_count": 346,
      "id": "a3e246c2",
      "metadata": {
        "colab": {
          "base_uri": "https://localhost:8080/",
          "height": 206
        },
        "id": "a3e246c2",
        "outputId": "b2830886-b1bd-46fe-8764-5c2619758063"
      },
      "outputs": [
        {
          "output_type": "execute_result",
          "data": {
            "text/plain": [
              "   Converted  Converted_Prob  Prospect ID\n",
              "0          1        0.979946         5423\n",
              "1          1        0.962527         8220\n",
              "2          0        0.005158         7643\n",
              "3          1        0.626078         1313\n",
              "4          1        0.953463         3840"
            ],
            "text/html": [
              "\n",
              "  <div id=\"df-e7d398c1-8fc2-4378-80a5-a604ea3e158a\">\n",
              "    <div class=\"colab-df-container\">\n",
              "      <div>\n",
              "<style scoped>\n",
              "    .dataframe tbody tr th:only-of-type {\n",
              "        vertical-align: middle;\n",
              "    }\n",
              "\n",
              "    .dataframe tbody tr th {\n",
              "        vertical-align: top;\n",
              "    }\n",
              "\n",
              "    .dataframe thead th {\n",
              "        text-align: right;\n",
              "    }\n",
              "</style>\n",
              "<table border=\"1\" class=\"dataframe\">\n",
              "  <thead>\n",
              "    <tr style=\"text-align: right;\">\n",
              "      <th></th>\n",
              "      <th>Converted</th>\n",
              "      <th>Converted_Prob</th>\n",
              "      <th>Prospect ID</th>\n",
              "    </tr>\n",
              "  </thead>\n",
              "  <tbody>\n",
              "    <tr>\n",
              "      <th>0</th>\n",
              "      <td>1</td>\n",
              "      <td>0.979946</td>\n",
              "      <td>5423</td>\n",
              "    </tr>\n",
              "    <tr>\n",
              "      <th>1</th>\n",
              "      <td>1</td>\n",
              "      <td>0.962527</td>\n",
              "      <td>8220</td>\n",
              "    </tr>\n",
              "    <tr>\n",
              "      <th>2</th>\n",
              "      <td>0</td>\n",
              "      <td>0.005158</td>\n",
              "      <td>7643</td>\n",
              "    </tr>\n",
              "    <tr>\n",
              "      <th>3</th>\n",
              "      <td>1</td>\n",
              "      <td>0.626078</td>\n",
              "      <td>1313</td>\n",
              "    </tr>\n",
              "    <tr>\n",
              "      <th>4</th>\n",
              "      <td>1</td>\n",
              "      <td>0.953463</td>\n",
              "      <td>3840</td>\n",
              "    </tr>\n",
              "  </tbody>\n",
              "</table>\n",
              "</div>\n",
              "      <button class=\"colab-df-convert\" onclick=\"convertToInteractive('df-e7d398c1-8fc2-4378-80a5-a604ea3e158a')\"\n",
              "              title=\"Convert this dataframe to an interactive table.\"\n",
              "              style=\"display:none;\">\n",
              "        \n",
              "  <svg xmlns=\"http://www.w3.org/2000/svg\" height=\"24px\"viewBox=\"0 0 24 24\"\n",
              "       width=\"24px\">\n",
              "    <path d=\"M0 0h24v24H0V0z\" fill=\"none\"/>\n",
              "    <path d=\"M18.56 5.44l.94 2.06.94-2.06 2.06-.94-2.06-.94-.94-2.06-.94 2.06-2.06.94zm-11 1L8.5 8.5l.94-2.06 2.06-.94-2.06-.94L8.5 2.5l-.94 2.06-2.06.94zm10 10l.94 2.06.94-2.06 2.06-.94-2.06-.94-.94-2.06-.94 2.06-2.06.94z\"/><path d=\"M17.41 7.96l-1.37-1.37c-.4-.4-.92-.59-1.43-.59-.52 0-1.04.2-1.43.59L10.3 9.45l-7.72 7.72c-.78.78-.78 2.05 0 2.83L4 21.41c.39.39.9.59 1.41.59.51 0 1.02-.2 1.41-.59l7.78-7.78 2.81-2.81c.8-.78.8-2.07 0-2.86zM5.41 20L4 18.59l7.72-7.72 1.47 1.35L5.41 20z\"/>\n",
              "  </svg>\n",
              "      </button>\n",
              "      \n",
              "  <style>\n",
              "    .colab-df-container {\n",
              "      display:flex;\n",
              "      flex-wrap:wrap;\n",
              "      gap: 12px;\n",
              "    }\n",
              "\n",
              "    .colab-df-convert {\n",
              "      background-color: #E8F0FE;\n",
              "      border: none;\n",
              "      border-radius: 50%;\n",
              "      cursor: pointer;\n",
              "      display: none;\n",
              "      fill: #1967D2;\n",
              "      height: 32px;\n",
              "      padding: 0 0 0 0;\n",
              "      width: 32px;\n",
              "    }\n",
              "\n",
              "    .colab-df-convert:hover {\n",
              "      background-color: #E2EBFA;\n",
              "      box-shadow: 0px 1px 2px rgba(60, 64, 67, 0.3), 0px 1px 3px 1px rgba(60, 64, 67, 0.15);\n",
              "      fill: #174EA6;\n",
              "    }\n",
              "\n",
              "    [theme=dark] .colab-df-convert {\n",
              "      background-color: #3B4455;\n",
              "      fill: #D2E3FC;\n",
              "    }\n",
              "\n",
              "    [theme=dark] .colab-df-convert:hover {\n",
              "      background-color: #434B5C;\n",
              "      box-shadow: 0px 1px 3px 1px rgba(0, 0, 0, 0.15);\n",
              "      filter: drop-shadow(0px 1px 2px rgba(0, 0, 0, 0.3));\n",
              "      fill: #FFFFFF;\n",
              "    }\n",
              "  </style>\n",
              "\n",
              "      <script>\n",
              "        const buttonEl =\n",
              "          document.querySelector('#df-e7d398c1-8fc2-4378-80a5-a604ea3e158a button.colab-df-convert');\n",
              "        buttonEl.style.display =\n",
              "          google.colab.kernel.accessAllowed ? 'block' : 'none';\n",
              "\n",
              "        async function convertToInteractive(key) {\n",
              "          const element = document.querySelector('#df-e7d398c1-8fc2-4378-80a5-a604ea3e158a');\n",
              "          const dataTable =\n",
              "            await google.colab.kernel.invokeFunction('convertToInteractive',\n",
              "                                                     [key], {});\n",
              "          if (!dataTable) return;\n",
              "\n",
              "          const docLinkHtml = 'Like what you see? Visit the ' +\n",
              "            '<a target=\"_blank\" href=https://colab.research.google.com/notebooks/data_table.ipynb>data table notebook</a>'\n",
              "            + ' to learn more about interactive tables.';\n",
              "          element.innerHTML = '';\n",
              "          dataTable['output_type'] = 'display_data';\n",
              "          await google.colab.output.renderOutput(dataTable, element);\n",
              "          const docLink = document.createElement('div');\n",
              "          docLink.innerHTML = docLinkHtml;\n",
              "          element.appendChild(docLink);\n",
              "        }\n",
              "      </script>\n",
              "    </div>\n",
              "  </div>\n",
              "  "
            ]
          },
          "metadata": {},
          "execution_count": 346
        }
      ],
      "source": [
        "y_train_pred_Final.head()"
      ]
    },
    {
      "cell_type": "code",
      "execution_count": 347,
      "id": "8c3f4230",
      "metadata": {
        "id": "8c3f4230"
      },
      "outputs": [],
      "source": [
        "y_train_pred_Final[\"Predicted\"]=y_train_pred_Final[\"Converted_Prob\"].map(lambda x: 1 if x>0.5 else 0)"
      ]
    },
    {
      "cell_type": "code",
      "execution_count": 348,
      "id": "4d09dca9",
      "metadata": {
        "colab": {
          "base_uri": "https://localhost:8080/",
          "height": 206
        },
        "id": "4d09dca9",
        "outputId": "8aeda05c-e2f0-4797-962b-33379f7af7b3"
      },
      "outputs": [
        {
          "output_type": "execute_result",
          "data": {
            "text/plain": [
              "   Converted  Converted_Prob  Prospect ID  Predicted\n",
              "0          1        0.979946         5423          1\n",
              "1          1        0.962527         8220          1\n",
              "2          0        0.005158         7643          0\n",
              "3          1        0.626078         1313          1\n",
              "4          1        0.953463         3840          1"
            ],
            "text/html": [
              "\n",
              "  <div id=\"df-cdad259d-9ee5-4d64-9f82-b19f58190068\">\n",
              "    <div class=\"colab-df-container\">\n",
              "      <div>\n",
              "<style scoped>\n",
              "    .dataframe tbody tr th:only-of-type {\n",
              "        vertical-align: middle;\n",
              "    }\n",
              "\n",
              "    .dataframe tbody tr th {\n",
              "        vertical-align: top;\n",
              "    }\n",
              "\n",
              "    .dataframe thead th {\n",
              "        text-align: right;\n",
              "    }\n",
              "</style>\n",
              "<table border=\"1\" class=\"dataframe\">\n",
              "  <thead>\n",
              "    <tr style=\"text-align: right;\">\n",
              "      <th></th>\n",
              "      <th>Converted</th>\n",
              "      <th>Converted_Prob</th>\n",
              "      <th>Prospect ID</th>\n",
              "      <th>Predicted</th>\n",
              "    </tr>\n",
              "  </thead>\n",
              "  <tbody>\n",
              "    <tr>\n",
              "      <th>0</th>\n",
              "      <td>1</td>\n",
              "      <td>0.979946</td>\n",
              "      <td>5423</td>\n",
              "      <td>1</td>\n",
              "    </tr>\n",
              "    <tr>\n",
              "      <th>1</th>\n",
              "      <td>1</td>\n",
              "      <td>0.962527</td>\n",
              "      <td>8220</td>\n",
              "      <td>1</td>\n",
              "    </tr>\n",
              "    <tr>\n",
              "      <th>2</th>\n",
              "      <td>0</td>\n",
              "      <td>0.005158</td>\n",
              "      <td>7643</td>\n",
              "      <td>0</td>\n",
              "    </tr>\n",
              "    <tr>\n",
              "      <th>3</th>\n",
              "      <td>1</td>\n",
              "      <td>0.626078</td>\n",
              "      <td>1313</td>\n",
              "      <td>1</td>\n",
              "    </tr>\n",
              "    <tr>\n",
              "      <th>4</th>\n",
              "      <td>1</td>\n",
              "      <td>0.953463</td>\n",
              "      <td>3840</td>\n",
              "      <td>1</td>\n",
              "    </tr>\n",
              "  </tbody>\n",
              "</table>\n",
              "</div>\n",
              "      <button class=\"colab-df-convert\" onclick=\"convertToInteractive('df-cdad259d-9ee5-4d64-9f82-b19f58190068')\"\n",
              "              title=\"Convert this dataframe to an interactive table.\"\n",
              "              style=\"display:none;\">\n",
              "        \n",
              "  <svg xmlns=\"http://www.w3.org/2000/svg\" height=\"24px\"viewBox=\"0 0 24 24\"\n",
              "       width=\"24px\">\n",
              "    <path d=\"M0 0h24v24H0V0z\" fill=\"none\"/>\n",
              "    <path d=\"M18.56 5.44l.94 2.06.94-2.06 2.06-.94-2.06-.94-.94-2.06-.94 2.06-2.06.94zm-11 1L8.5 8.5l.94-2.06 2.06-.94-2.06-.94L8.5 2.5l-.94 2.06-2.06.94zm10 10l.94 2.06.94-2.06 2.06-.94-2.06-.94-.94-2.06-.94 2.06-2.06.94z\"/><path d=\"M17.41 7.96l-1.37-1.37c-.4-.4-.92-.59-1.43-.59-.52 0-1.04.2-1.43.59L10.3 9.45l-7.72 7.72c-.78.78-.78 2.05 0 2.83L4 21.41c.39.39.9.59 1.41.59.51 0 1.02-.2 1.41-.59l7.78-7.78 2.81-2.81c.8-.78.8-2.07 0-2.86zM5.41 20L4 18.59l7.72-7.72 1.47 1.35L5.41 20z\"/>\n",
              "  </svg>\n",
              "      </button>\n",
              "      \n",
              "  <style>\n",
              "    .colab-df-container {\n",
              "      display:flex;\n",
              "      flex-wrap:wrap;\n",
              "      gap: 12px;\n",
              "    }\n",
              "\n",
              "    .colab-df-convert {\n",
              "      background-color: #E8F0FE;\n",
              "      border: none;\n",
              "      border-radius: 50%;\n",
              "      cursor: pointer;\n",
              "      display: none;\n",
              "      fill: #1967D2;\n",
              "      height: 32px;\n",
              "      padding: 0 0 0 0;\n",
              "      width: 32px;\n",
              "    }\n",
              "\n",
              "    .colab-df-convert:hover {\n",
              "      background-color: #E2EBFA;\n",
              "      box-shadow: 0px 1px 2px rgba(60, 64, 67, 0.3), 0px 1px 3px 1px rgba(60, 64, 67, 0.15);\n",
              "      fill: #174EA6;\n",
              "    }\n",
              "\n",
              "    [theme=dark] .colab-df-convert {\n",
              "      background-color: #3B4455;\n",
              "      fill: #D2E3FC;\n",
              "    }\n",
              "\n",
              "    [theme=dark] .colab-df-convert:hover {\n",
              "      background-color: #434B5C;\n",
              "      box-shadow: 0px 1px 3px 1px rgba(0, 0, 0, 0.15);\n",
              "      filter: drop-shadow(0px 1px 2px rgba(0, 0, 0, 0.3));\n",
              "      fill: #FFFFFF;\n",
              "    }\n",
              "  </style>\n",
              "\n",
              "      <script>\n",
              "        const buttonEl =\n",
              "          document.querySelector('#df-cdad259d-9ee5-4d64-9f82-b19f58190068 button.colab-df-convert');\n",
              "        buttonEl.style.display =\n",
              "          google.colab.kernel.accessAllowed ? 'block' : 'none';\n",
              "\n",
              "        async function convertToInteractive(key) {\n",
              "          const element = document.querySelector('#df-cdad259d-9ee5-4d64-9f82-b19f58190068');\n",
              "          const dataTable =\n",
              "            await google.colab.kernel.invokeFunction('convertToInteractive',\n",
              "                                                     [key], {});\n",
              "          if (!dataTable) return;\n",
              "\n",
              "          const docLinkHtml = 'Like what you see? Visit the ' +\n",
              "            '<a target=\"_blank\" href=https://colab.research.google.com/notebooks/data_table.ipynb>data table notebook</a>'\n",
              "            + ' to learn more about interactive tables.';\n",
              "          element.innerHTML = '';\n",
              "          dataTable['output_type'] = 'display_data';\n",
              "          await google.colab.output.renderOutput(dataTable, element);\n",
              "          const docLink = document.createElement('div');\n",
              "          docLink.innerHTML = docLinkHtml;\n",
              "          element.appendChild(docLink);\n",
              "        }\n",
              "      </script>\n",
              "    </div>\n",
              "  </div>\n",
              "  "
            ]
          },
          "metadata": {},
          "execution_count": 348
        }
      ],
      "source": [
        "y_train_pred_Final.head()"
      ]
    },
    {
      "cell_type": "code",
      "execution_count": 349,
      "id": "35a40938",
      "metadata": {
        "colab": {
          "base_uri": "https://localhost:8080/"
        },
        "id": "35a40938",
        "outputId": "93537049-81ab-424e-d0eb-cae15f8a58dc"
      },
      "outputs": [
        {
          "output_type": "execute_result",
          "data": {
            "text/plain": [
              "array([[3550,  310],\n",
              "       [ 465, 1921]])"
            ]
          },
          "metadata": {},
          "execution_count": 349
        }
      ],
      "source": [
        "from sklearn.metrics import confusion_matrix\n",
        "from sklearn.metrics import accuracy_score\n",
        "from sklearn.metrics import precision_score\n",
        "from sklearn.metrics import recall_score\n",
        "from sklearn.metrics import roc_curve\n",
        "from sklearn.metrics import roc_auc_score\n",
        "\n",
        "# Checking confusion metrix\n",
        "\n",
        "confusion_matrix=confusion_matrix(y_train_pred_Final.Converted,y_train_pred_Final.Predicted)\n",
        "confusion_matrix"
      ]
    },
    {
      "cell_type": "code",
      "execution_count": 350,
      "id": "d85a655e",
      "metadata": {
        "id": "d85a655e"
      },
      "outputs": [],
      "source": [
        "TP = confusion_matrix[1,1] # true positive \n",
        "TN = confusion_matrix[0,0] # true negatives\n",
        "FP = confusion_matrix[0,1] # false positives\n",
        "FN = confusion_matrix[1,0] # false negatives"
      ]
    },
    {
      "cell_type": "code",
      "execution_count": 351,
      "id": "fd793da6",
      "metadata": {
        "colab": {
          "base_uri": "https://localhost:8080/"
        },
        "id": "fd793da6",
        "outputId": "8cbef860-a383-4597-d75a-88ff9829675e"
      },
      "outputs": [
        {
          "output_type": "stream",
          "name": "stdout",
          "text": [
            "0.8759205891770733\n"
          ]
        }
      ],
      "source": [
        "# Let's check the overall accuracy.\n",
        "print(accuracy_score(y_train_pred_Final.Converted, y_train_pred_Final.Predicted))"
      ]
    },
    {
      "cell_type": "code",
      "execution_count": 352,
      "id": "00fb2ad1",
      "metadata": {
        "colab": {
          "base_uri": "https://localhost:8080/"
        },
        "id": "00fb2ad1",
        "outputId": "9ac5acd9-c76f-47c6-ec48-5d5f40feff9c"
      },
      "outputs": [
        {
          "output_type": "execute_result",
          "data": {
            "text/plain": [
              "0.8051131601005868"
            ]
          },
          "metadata": {},
          "execution_count": 352
        }
      ],
      "source": [
        "# Let's see the sensitivity of our logistic regression model\n",
        "TP / float(TP+FN)"
      ]
    },
    {
      "cell_type": "code",
      "execution_count": 353,
      "id": "3bee42e3",
      "metadata": {
        "colab": {
          "base_uri": "https://localhost:8080/"
        },
        "id": "3bee42e3",
        "outputId": "fd243b3c-e40c-495d-d451-fc461c79c276"
      },
      "outputs": [
        {
          "output_type": "execute_result",
          "data": {
            "text/plain": [
              "0.9196891191709845"
            ]
          },
          "metadata": {},
          "execution_count": 353
        }
      ],
      "source": [
        "# Let us calculate specificity\n",
        "TN / float(TN+FP)"
      ]
    },
    {
      "cell_type": "code",
      "execution_count": 354,
      "id": "04ff150a",
      "metadata": {
        "colab": {
          "base_uri": "https://localhost:8080/"
        },
        "id": "04ff150a",
        "outputId": "f95bbe63-0107-4d5e-98ac-a5087d200864"
      },
      "outputs": [
        {
          "output_type": "stream",
          "name": "stdout",
          "text": [
            "0.08031088082901554\n"
          ]
        }
      ],
      "source": [
        "# Calculate False Postive Rate - predicting conversion when customer does not have convert\n",
        "print(FP/ float(TN+FP))"
      ]
    },
    {
      "cell_type": "code",
      "execution_count": 355,
      "id": "f3b6cf2f",
      "metadata": {
        "colab": {
          "base_uri": "https://localhost:8080/"
        },
        "id": "f3b6cf2f",
        "outputId": "c34e9beb-cc06-42d9-f17a-3c763a583ca7"
      },
      "outputs": [
        {
          "output_type": "stream",
          "name": "stdout",
          "text": [
            "0.8610488570147916\n"
          ]
        }
      ],
      "source": [
        "# positive predictive value \n",
        "print (TP / float(TP+FP))"
      ]
    },
    {
      "cell_type": "code",
      "execution_count": 356,
      "id": "103f7b0c",
      "metadata": {
        "colab": {
          "base_uri": "https://localhost:8080/"
        },
        "id": "103f7b0c",
        "outputId": "ba1d8d63-e14f-413a-f5b0-a4e5becffc5c"
      },
      "outputs": [
        {
          "output_type": "stream",
          "name": "stdout",
          "text": [
            "0.8841843088418431\n"
          ]
        }
      ],
      "source": [
        "# Negative predictive value\n",
        "print (TN / float(TN+ FN))"
      ]
    },
    {
      "cell_type": "markdown",
      "id": "15543880",
      "metadata": {
        "id": "15543880"
      },
      "source": [
        "### PLOTTING ROC CURVE\n",
        "<hr/>\n",
        "An ROC curve demonstrates several things:\n",
        "\n",
        "- It shows the tradeoff between sensitivity and specificity (any increase in sensitivity will be accompanied by a decrease in specificity).\n",
        "- The closer the curve follows the left-hand border and then the top border of the ROC space, the more accurate the test.\n",
        "- The closer the curve comes to the 45-degree diagonal of the ROC space, the less accurate the test."
      ]
    },
    {
      "cell_type": "code",
      "execution_count": 357,
      "id": "a5851932",
      "metadata": {
        "id": "a5851932"
      },
      "outputs": [],
      "source": [
        "def draw_roc( actual, probs ):\n",
        "    fpr, tpr, thresholds = roc_curve( actual, probs,\n",
        "                                              drop_intermediate = False )\n",
        "    auc_score = roc_auc_score( actual, probs )\n",
        "    plt.figure(figsize=(5, 5))\n",
        "    plt.plot( fpr, tpr, label='ROC curve (area = %0.2f)' % auc_score )\n",
        "    plt.plot([0, 1], [0, 1], 'k--')\n",
        "    plt.xlim([0.0, 1.0])\n",
        "    plt.ylim([0.0, 1.05])\n",
        "    plt.xlabel('False Positive Rate or [1 - True Negative Rate]')\n",
        "    plt.ylabel('True Positive Rate')\n",
        "    plt.title('Receiver operating characteristic example')\n",
        "    plt.legend(loc=\"lower right\")\n",
        "    plt.show()\n",
        "\n",
        "    return None"
      ]
    },
    {
      "cell_type": "code",
      "execution_count": 358,
      "id": "f483d4db",
      "metadata": {
        "id": "f483d4db"
      },
      "outputs": [],
      "source": [
        "fpr, tpr, thresholds = roc_curve( y_train_pred_Final.Converted,\n",
        "                                         y_train_pred_Final.Converted_Prob, drop_intermediate = False )"
      ]
    },
    {
      "cell_type": "code",
      "execution_count": 359,
      "id": "6aca787c",
      "metadata": {
        "colab": {
          "base_uri": "https://localhost:8080/",
          "height": 350
        },
        "id": "6aca787c",
        "outputId": "82cdf108-a41f-4915-b799-195bfba8da70"
      },
      "outputs": [
        {
          "output_type": "display_data",
          "data": {
            "text/plain": [
              "<Figure size 360x360 with 1 Axes>"
            ],
            "image/png": "[encoded data removed]"
          },
          "metadata": {
            "needs_background": "light"
          }
        }
      ],
      "source": [
        "draw_roc(y_train_pred_Final.Converted, y_train_pred_Final.Converted_Prob)"
      ]
    },
    {
      "cell_type": "markdown",
      "id": "dd085c3f",
      "metadata": {
        "id": "dd085c3f"
      },
      "source": [
        "- The ROC Curve should be a value close to 1. \n",
        "- We are getting a good value of 0.93 indicating a good predictive model."
      ]
    },
    {
      "cell_type": "markdown",
      "id": "8c2d9653",
      "metadata": {
        "id": "8c2d9653"
      },
      "source": [
        "### Finding Optimal Cutoff Point"
      ]
    },
    {
      "cell_type": "markdown",
      "id": "a9be38b8",
      "metadata": {
        "id": "a9be38b8"
      },
      "source": [
        "Above we had chosen an arbitrary cut-off value of 0.5. \n",
        "We need to determine the best cut-off value and the below section deals with that."
      ]
    },
    {
      "cell_type": "code",
      "execution_count": 360,
      "id": "71a79a35",
      "metadata": {
        "colab": {
          "base_uri": "https://localhost:8080/",
          "height": 206
        },
        "id": "71a79a35",
        "outputId": "415834a9-9a85-4c0c-91a1-2fdaf3dd5d49"
      },
      "outputs": [
        {
          "output_type": "execute_result",
          "data": {
            "text/plain": [
              "   Converted  Converted_Prob  Prospect ID  Predicted  0.0  0.1  0.2  0.3  0.4  \\\n",
              "0          1        0.979946         5423          1    1    1    1    1    1   \n",
              "1          1        0.962527         8220          1    1    1    1    1    1   \n",
              "2          0        0.005158         7643          0    1    0    0    0    0   \n",
              "3          1        0.626078         1313          1    1    1    1    1    1   \n",
              "4          1        0.953463         3840          1    1    1    1    1    1   \n",
              "\n",
              "   0.5  0.6  0.7  0.8  0.9  \n",
              "0    1    1    1    1    1  \n",
              "1    1    1    1    1    1  \n",
              "2    0    0    0    0    0  \n",
              "3    1    1    0    0    0  \n",
              "4    1    1    1    1    1  "
            ],
            "text/html": [
              "\n",
              "  <div id=\"df-78a85d1b-50a0-4f77-9013-b2a34de8ed19\">\n",
              "    <div class=\"colab-df-container\">\n",
              "      <div>\n",
              "<style scoped>\n",
              "    .dataframe tbody tr th:only-of-type {\n",
              "        vertical-align: middle;\n",
              "    }\n",
              "\n",
              "    .dataframe tbody tr th {\n",
              "        vertical-align: top;\n",
              "    }\n",
              "\n",
              "    .dataframe thead th {\n",
              "        text-align: right;\n",
              "    }\n",
              "</style>\n",
              "<table border=\"1\" class=\"dataframe\">\n",
              "  <thead>\n",
              "    <tr style=\"text-align: right;\">\n",
              "      <th></th>\n",
              "      <th>Converted</th>\n",
              "      <th>Converted_Prob</th>\n",
              "      <th>Prospect ID</th>\n",
              "      <th>Predicted</th>\n",
              "      <th>0.0</th>\n",
              "      <th>0.1</th>\n",
              "      <th>0.2</th>\n",
              "      <th>0.3</th>\n",
              "      <th>0.4</th>\n",
              "      <th>0.5</th>\n",
              "      <th>0.6</th>\n",
              "      <th>0.7</th>\n",
              "      <th>0.8</th>\n",
              "      <th>0.9</th>\n",
              "    </tr>\n",
              "  </thead>\n",
              "  <tbody>\n",
              "    <tr>\n",
              "      <th>0</th>\n",
              "      <td>1</td>\n",
              "      <td>0.979946</td>\n",
              "      <td>5423</td>\n",
              "      <td>1</td>\n",
              "      <td>1</td>\n",
              "      <td>1</td>\n",
              "      <td>1</td>\n",
              "      <td>1</td>\n",
              "      <td>1</td>\n",
              "      <td>1</td>\n",
              "      <td>1</td>\n",
              "      <td>1</td>\n",
              "      <td>1</td>\n",
              "      <td>1</td>\n",
              "    </tr>\n",
              "    <tr>\n",
              "      <th>1</th>\n",
              "      <td>1</td>\n",
              "      <td>0.962527</td>\n",
              "      <td>8220</td>\n",
              "      <td>1</td>\n",
              "      <td>1</td>\n",
              "      <td>1</td>\n",
              "      <td>1</td>\n",
              "      <td>1</td>\n",
              "      <td>1</td>\n",
              "      <td>1</td>\n",
              "      <td>1</td>\n",
              "      <td>1</td>\n",
              "      <td>1</td>\n",
              "      <td>1</td>\n",
              "    </tr>\n",
              "    <tr>\n",
              "      <th>2</th>\n",
              "      <td>0</td>\n",
              "      <td>0.005158</td>\n",
              "      <td>7643</td>\n",
              "      <td>0</td>\n",
              "      <td>1</td>\n",
              "      <td>0</td>\n",
              "      <td>0</td>\n",
              "      <td>0</td>\n",
              "      <td>0</td>\n",
              "      <td>0</td>\n",
              "      <td>0</td>\n",
              "      <td>0</td>\n",
              "      <td>0</td>\n",
              "      <td>0</td>\n",
              "    </tr>\n",
              "    <tr>\n",
              "      <th>3</th>\n",
              "      <td>1</td>\n",
              "      <td>0.626078</td>\n",
              "      <td>1313</td>\n",
              "      <td>1</td>\n",
              "      <td>1</td>\n",
              "      <td>1</td>\n",
              "      <td>1</td>\n",
              "      <td>1</td>\n",
              "      <td>1</td>\n",
              "      <td>1</td>\n",
              "      <td>1</td>\n",
              "      <td>0</td>\n",
              "      <td>0</td>\n",
              "      <td>0</td>\n",
              "    </tr>\n",
              "    <tr>\n",
              "      <th>4</th>\n",
              "      <td>1</td>\n",
              "      <td>0.953463</td>\n",
              "      <td>3840</td>\n",
              "      <td>1</td>\n",
              "      <td>1</td>\n",
              "      <td>1</td>\n",
              "      <td>1</td>\n",
              "      <td>1</td>\n",
              "      <td>1</td>\n",
              "      <td>1</td>\n",
              "      <td>1</td>\n",
              "      <td>1</td>\n",
              "      <td>1</td>\n",
              "      <td>1</td>\n",
              "    </tr>\n",
              "  </tbody>\n",
              "</table>\n",
              "</div>\n",
              "      <button class=\"colab-df-convert\" onclick=\"convertToInteractive('df-78a85d1b-50a0-4f77-9013-b2a34de8ed19')\"\n",
              "              title=\"Convert this dataframe to an interactive table.\"\n",
              "              style=\"display:none;\">\n",
              "        \n",
              "  <svg xmlns=\"http://www.w3.org/2000/svg\" height=\"24px\"viewBox=\"0 0 24 24\"\n",
              "       width=\"24px\">\n",
              "    <path d=\"M0 0h24v24H0V0z\" fill=\"none\"/>\n",
              "    <path d=\"M18.56 5.44l.94 2.06.94-2.06 2.06-.94-2.06-.94-.94-2.06-.94 2.06-2.06.94zm-11 1L8.5 8.5l.94-2.06 2.06-.94-2.06-.94L8.5 2.5l-.94 2.06-2.06.94zm10 10l.94 2.06.94-2.06 2.06-.94-2.06-.94-.94-2.06-.94 2.06-2.06.94z\"/><path d=\"M17.41 7.96l-1.37-1.37c-.4-.4-.92-.59-1.43-.59-.52 0-1.04.2-1.43.59L10.3 9.45l-7.72 7.72c-.78.78-.78 2.05 0 2.83L4 21.41c.39.39.9.59 1.41.59.51 0 1.02-.2 1.41-.59l7.78-7.78 2.81-2.81c.8-.78.8-2.07 0-2.86zM5.41 20L4 18.59l7.72-7.72 1.47 1.35L5.41 20z\"/>\n",
              "  </svg>\n",
              "      </button>\n",
              "      \n",
              "  <style>\n",
              "    .colab-df-container {\n",
              "      display:flex;\n",
              "      flex-wrap:wrap;\n",
              "      gap: 12px;\n",
              "    }\n",
              "\n",
              "    .colab-df-convert {\n",
              "      background-color: #E8F0FE;\n",
              "      border: none;\n",
              "      border-radius: 50%;\n",
              "      cursor: pointer;\n",
              "      display: none;\n",
              "      fill: #1967D2;\n",
              "      height: 32px;\n",
              "      padding: 0 0 0 0;\n",
              "      width: 32px;\n",
              "    }\n",
              "\n",
              "    .colab-df-convert:hover {\n",
              "      background-color: #E2EBFA;\n",
              "      box-shadow: 0px 1px 2px rgba(60, 64, 67, 0.3), 0px 1px 3px 1px rgba(60, 64, 67, 0.15);\n",
              "      fill: #174EA6;\n",
              "    }\n",
              "\n",
              "    [theme=dark] .colab-df-convert {\n",
              "      background-color: #3B4455;\n",
              "      fill: #D2E3FC;\n",
              "    }\n",
              "\n",
              "    [theme=dark] .colab-df-convert:hover {\n",
              "      background-color: #434B5C;\n",
              "      box-shadow: 0px 1px 3px 1px rgba(0, 0, 0, 0.15);\n",
              "      filter: drop-shadow(0px 1px 2px rgba(0, 0, 0, 0.3));\n",
              "      fill: #FFFFFF;\n",
              "    }\n",
              "  </style>\n",
              "\n",
              "      <script>\n",
              "        const buttonEl =\n",
              "          document.querySelector('#df-78a85d1b-50a0-4f77-9013-b2a34de8ed19 button.colab-df-convert');\n",
              "        buttonEl.style.display =\n",
              "          google.colab.kernel.accessAllowed ? 'block' : 'none';\n",
              "\n",
              "        async function convertToInteractive(key) {\n",
              "          const element = document.querySelector('#df-78a85d1b-50a0-4f77-9013-b2a34de8ed19');\n",
              "          const dataTable =\n",
              "            await google.colab.kernel.invokeFunction('convertToInteractive',\n",
              "                                                     [key], {});\n",
              "          if (!dataTable) return;\n",
              "\n",
              "          const docLinkHtml = 'Like what you see? Visit the ' +\n",
              "            '<a target=\"_blank\" href=https://colab.research.google.com/notebooks/data_table.ipynb>data table notebook</a>'\n",
              "            + ' to learn more about interactive tables.';\n",
              "          element.innerHTML = '';\n",
              "          dataTable['output_type'] = 'display_data';\n",
              "          await google.colab.output.renderOutput(dataTable, element);\n",
              "          const docLink = document.createElement('div');\n",
              "          docLink.innerHTML = docLinkHtml;\n",
              "          element.appendChild(docLink);\n",
              "        }\n",
              "      </script>\n",
              "    </div>\n",
              "  </div>\n",
              "  "
            ]
          },
          "metadata": {},
          "execution_count": 360
        }
      ],
      "source": [
        "# Let's create columns with different probability cutoffs \n",
        "numbers = [float(x)/10 for x in range(10)]\n",
        "for i in numbers:\n",
        "    y_train_pred_Final[i]= y_train_pred_Final.Converted_Prob.map(lambda x: 1 if x > i else 0)\n",
        "y_train_pred_Final.head()"
      ]
    },
    {
      "cell_type": "code",
      "execution_count": 361,
      "id": "6f83b4ce",
      "metadata": {
        "colab": {
          "base_uri": "https://localhost:8080/"
        },
        "id": "6f83b4ce",
        "outputId": "e00af997-1a26-4a1d-c0ba-f9d2ae496f7b"
      },
      "outputs": [
        {
          "output_type": "stream",
          "name": "stdout",
          "text": [
            "     prob  accuracy     sensi     speci\n",
            "0.0   0.0  0.382004  1.000000  0.000000\n",
            "0.1   0.1  0.722703  0.967309  0.571503\n",
            "0.2   0.2  0.779859  0.900251  0.705440\n",
            "0.3   0.3  0.850464  0.856664  0.846632\n",
            "0.4   0.4  0.873679  0.832775  0.898964\n",
            "0.5   0.5  0.875921  0.805113  0.919689\n",
            "0.6   0.6  0.868716  0.764878  0.932902\n",
            "0.7   0.7  0.840378  0.648785  0.958808\n",
            "0.8   0.8  0.808678  0.529757  0.981088\n",
            "0.9   0.9  0.784822  0.451802  0.990674\n"
          ]
        }
      ],
      "source": [
        "# Now let's calculate accuracy sensitivity and specificity for various probability cutoffs.\n",
        "cutoff_df = pd.DataFrame( columns = ['prob','accuracy','sensi','speci'])\n",
        "from sklearn.metrics import confusion_matrix\n",
        "from sklearn import metrics\n",
        "\n",
        "# TP = confusion[1,1] # true positive \n",
        "# TN = confusion[0,0] # true negatives\n",
        "# FP = confusion[0,1] # false positives\n",
        "# FN = confusion[1,0] # false negatives\n",
        "\n",
        "num = [0.0,0.1,0.2,0.3,0.4,0.5,0.6,0.7,0.8,0.9]\n",
        "for i in num:\n",
        "    cm1 = metrics.confusion_matrix(y_train_pred_Final.Converted, y_train_pred_Final[i] )\n",
        "    total1=sum(sum(cm1))\n",
        "    accuracy = (cm1[0,0]+cm1[1,1])/total1\n",
        "    \n",
        "    speci = cm1[0,0]/(cm1[0,0]+cm1[0,1])\n",
        "    sensi = cm1[1,1]/(cm1[1,0]+cm1[1,1])\n",
        "    cutoff_df.loc[i] =[ i ,accuracy,sensi,speci]\n",
        "print(cutoff_df)"
      ]
    },
    {
      "cell_type": "code",
      "execution_count": 362,
      "id": "0bd16795",
      "metadata": {
        "colab": {
          "base_uri": "https://localhost:8080/",
          "height": 279
        },
        "id": "0bd16795",
        "outputId": "c1d1922a-9015-4b14-916a-82a2ee318a9c"
      },
      "outputs": [
        {
          "output_type": "display_data",
          "data": {
            "text/plain": [
              "<Figure size 432x288 with 1 Axes>"
            ],
            "image/png": "[encoded data removed]"
          },
          "metadata": {
            "needs_background": "light"
          }
        }
      ],
      "source": [
        "# Let's plot accuracy sensitivity and specificity for various probabilities.\n",
        "cutoff_df.plot.line(x='prob', y=['accuracy','sensi','speci'])\n",
        "plt.show()"
      ]
    },
    {
      "cell_type": "code",
      "execution_count": 363,
      "id": "181fc1b7",
      "metadata": {
        "colab": {
          "base_uri": "https://localhost:8080/",
          "height": 206
        },
        "id": "181fc1b7",
        "outputId": "8bebb2e3-2cc6-415d-8d34-1ac4dab320ef"
      },
      "outputs": [
        {
          "output_type": "execute_result",
          "data": {
            "text/plain": [
              "   Converted  Converted_Prob  Prospect ID  Predicted  0.0  0.1  0.2  0.3  0.4  \\\n",
              "0          1        0.979946         5423          1    1    1    1    1    1   \n",
              "1          1        0.962527         8220          1    1    1    1    1    1   \n",
              "2          0        0.005158         7643          0    1    0    0    0    0   \n",
              "3          1        0.626078         1313          1    1    1    1    1    1   \n",
              "4          1        0.953463         3840          1    1    1    1    1    1   \n",
              "\n",
              "   0.5  0.6  0.7  0.8  0.9  Final_Predicted  \n",
              "0    1    1    1    1    1                1  \n",
              "1    1    1    1    1    1                1  \n",
              "2    0    0    0    0    0                0  \n",
              "3    1    1    0    0    0                1  \n",
              "4    1    1    1    1    1                1  "
            ],
            "text/html": [
              "\n",
              "  <div id=\"df-2132c38e-cc81-42a1-aaa8-2784b261d84c\">\n",
              "    <div class=\"colab-df-container\">\n",
              "      <div>\n",
              "<style scoped>\n",
              "    .dataframe tbody tr th:only-of-type {\n",
              "        vertical-align: middle;\n",
              "    }\n",
              "\n",
              "    .dataframe tbody tr th {\n",
              "        vertical-align: top;\n",
              "    }\n",
              "\n",
              "    .dataframe thead th {\n",
              "        text-align: right;\n",
              "    }\n",
              "</style>\n",
              "<table border=\"1\" class=\"dataframe\">\n",
              "  <thead>\n",
              "    <tr style=\"text-align: right;\">\n",
              "      <th></th>\n",
              "      <th>Converted</th>\n",
              "      <th>Converted_Prob</th>\n",
              "      <th>Prospect ID</th>\n",
              "      <th>Predicted</th>\n",
              "      <th>0.0</th>\n",
              "      <th>0.1</th>\n",
              "      <th>0.2</th>\n",
              "      <th>0.3</th>\n",
              "      <th>0.4</th>\n",
              "      <th>0.5</th>\n",
              "      <th>0.6</th>\n",
              "      <th>0.7</th>\n",
              "      <th>0.8</th>\n",
              "      <th>0.9</th>\n",
              "      <th>Final_Predicted</th>\n",
              "    </tr>\n",
              "  </thead>\n",
              "  <tbody>\n",
              "    <tr>\n",
              "      <th>0</th>\n",
              "      <td>1</td>\n",
              "      <td>0.979946</td>\n",
              "      <td>5423</td>\n",
              "      <td>1</td>\n",
              "      <td>1</td>\n",
              "      <td>1</td>\n",
              "      <td>1</td>\n",
              "      <td>1</td>\n",
              "      <td>1</td>\n",
              "      <td>1</td>\n",
              "      <td>1</td>\n",
              "      <td>1</td>\n",
              "      <td>1</td>\n",
              "      <td>1</td>\n",
              "      <td>1</td>\n",
              "    </tr>\n",
              "    <tr>\n",
              "      <th>1</th>\n",
              "      <td>1</td>\n",
              "      <td>0.962527</td>\n",
              "      <td>8220</td>\n",
              "      <td>1</td>\n",
              "      <td>1</td>\n",
              "      <td>1</td>\n",
              "      <td>1</td>\n",
              "      <td>1</td>\n",
              "      <td>1</td>\n",
              "      <td>1</td>\n",
              "      <td>1</td>\n",
              "      <td>1</td>\n",
              "      <td>1</td>\n",
              "      <td>1</td>\n",
              "      <td>1</td>\n",
              "    </tr>\n",
              "    <tr>\n",
              "      <th>2</th>\n",
              "      <td>0</td>\n",
              "      <td>0.005158</td>\n",
              "      <td>7643</td>\n",
              "      <td>0</td>\n",
              "      <td>1</td>\n",
              "      <td>0</td>\n",
              "      <td>0</td>\n",
              "      <td>0</td>\n",
              "      <td>0</td>\n",
              "      <td>0</td>\n",
              "      <td>0</td>\n",
              "      <td>0</td>\n",
              "      <td>0</td>\n",
              "      <td>0</td>\n",
              "      <td>0</td>\n",
              "    </tr>\n",
              "    <tr>\n",
              "      <th>3</th>\n",
              "      <td>1</td>\n",
              "      <td>0.626078</td>\n",
              "      <td>1313</td>\n",
              "      <td>1</td>\n",
              "      <td>1</td>\n",
              "      <td>1</td>\n",
              "      <td>1</td>\n",
              "      <td>1</td>\n",
              "      <td>1</td>\n",
              "      <td>1</td>\n",
              "      <td>1</td>\n",
              "      <td>0</td>\n",
              "      <td>0</td>\n",
              "      <td>0</td>\n",
              "      <td>1</td>\n",
              "    </tr>\n",
              "    <tr>\n",
              "      <th>4</th>\n",
              "      <td>1</td>\n",
              "      <td>0.953463</td>\n",
              "      <td>3840</td>\n",
              "      <td>1</td>\n",
              "      <td>1</td>\n",
              "      <td>1</td>\n",
              "      <td>1</td>\n",
              "      <td>1</td>\n",
              "      <td>1</td>\n",
              "      <td>1</td>\n",
              "      <td>1</td>\n",
              "      <td>1</td>\n",
              "      <td>1</td>\n",
              "      <td>1</td>\n",
              "      <td>1</td>\n",
              "    </tr>\n",
              "  </tbody>\n",
              "</table>\n",
              "</div>\n",
              "      <button class=\"colab-df-convert\" onclick=\"convertToInteractive('df-2132c38e-cc81-42a1-aaa8-2784b261d84c')\"\n",
              "              title=\"Convert this dataframe to an interactive table.\"\n",
              "              style=\"display:none;\">\n",
              "        \n",
              "  <svg xmlns=\"http://www.w3.org/2000/svg\" height=\"24px\"viewBox=\"0 0 24 24\"\n",
              "       width=\"24px\">\n",
              "    <path d=\"M0 0h24v24H0V0z\" fill=\"none\"/>\n",
              "    <path d=\"M18.56 5.44l.94 2.06.94-2.06 2.06-.94-2.06-.94-.94-2.06-.94 2.06-2.06.94zm-11 1L8.5 8.5l.94-2.06 2.06-.94-2.06-.94L8.5 2.5l-.94 2.06-2.06.94zm10 10l.94 2.06.94-2.06 2.06-.94-2.06-.94-.94-2.06-.94 2.06-2.06.94z\"/><path d=\"M17.41 7.96l-1.37-1.37c-.4-.4-.92-.59-1.43-.59-.52 0-1.04.2-1.43.59L10.3 9.45l-7.72 7.72c-.78.78-.78 2.05 0 2.83L4 21.41c.39.39.9.59 1.41.59.51 0 1.02-.2 1.41-.59l7.78-7.78 2.81-2.81c.8-.78.8-2.07 0-2.86zM5.41 20L4 18.59l7.72-7.72 1.47 1.35L5.41 20z\"/>\n",
              "  </svg>\n",
              "      </button>\n",
              "      \n",
              "  <style>\n",
              "    .colab-df-container {\n",
              "      display:flex;\n",
              "      flex-wrap:wrap;\n",
              "      gap: 12px;\n",
              "    }\n",
              "\n",
              "    .colab-df-convert {\n",
              "      background-color: #E8F0FE;\n",
              "      border: none;\n",
              "      border-radius: 50%;\n",
              "      cursor: pointer;\n",
              "      display: none;\n",
              "      fill: #1967D2;\n",
              "      height: 32px;\n",
              "      padding: 0 0 0 0;\n",
              "      width: 32px;\n",
              "    }\n",
              "\n",
              "    .colab-df-convert:hover {\n",
              "      background-color: #E2EBFA;\n",
              "      box-shadow: 0px 1px 2px rgba(60, 64, 67, 0.3), 0px 1px 3px 1px rgba(60, 64, 67, 0.15);\n",
              "      fill: #174EA6;\n",
              "    }\n",
              "\n",
              "    [theme=dark] .colab-df-convert {\n",
              "      background-color: #3B4455;\n",
              "      fill: #D2E3FC;\n",
              "    }\n",
              "\n",
              "    [theme=dark] .colab-df-convert:hover {\n",
              "      background-color: #434B5C;\n",
              "      box-shadow: 0px 1px 3px 1px rgba(0, 0, 0, 0.15);\n",
              "      filter: drop-shadow(0px 1px 2px rgba(0, 0, 0, 0.3));\n",
              "      fill: #FFFFFF;\n",
              "    }\n",
              "  </style>\n",
              "\n",
              "      <script>\n",
              "        const buttonEl =\n",
              "          document.querySelector('#df-2132c38e-cc81-42a1-aaa8-2784b261d84c button.colab-df-convert');\n",
              "        buttonEl.style.display =\n",
              "          google.colab.kernel.accessAllowed ? 'block' : 'none';\n",
              "\n",
              "        async function convertToInteractive(key) {\n",
              "          const element = document.querySelector('#df-2132c38e-cc81-42a1-aaa8-2784b261d84c');\n",
              "          const dataTable =\n",
              "            await google.colab.kernel.invokeFunction('convertToInteractive',\n",
              "                                                     [key], {});\n",
              "          if (!dataTable) return;\n",
              "\n",
              "          const docLinkHtml = 'Like what you see? Visit the ' +\n",
              "            '<a target=\"_blank\" href=https://colab.research.google.com/notebooks/data_table.ipynb>data table notebook</a>'\n",
              "            + ' to learn more about interactive tables.';\n",
              "          element.innerHTML = '';\n",
              "          dataTable['output_type'] = 'display_data';\n",
              "          await google.colab.output.renderOutput(dataTable, element);\n",
              "          const docLink = document.createElement('div');\n",
              "          docLink.innerHTML = docLinkHtml;\n",
              "          element.appendChild(docLink);\n",
              "        }\n",
              "      </script>\n",
              "    </div>\n",
              "  </div>\n",
              "  "
            ]
          },
          "metadata": {},
          "execution_count": 363
        }
      ],
      "source": [
        "#### From the curve above, 0.3 is the optimum point to take it as a cutoff probability.\n",
        "\n",
        "y_train_pred_Final['Final_Predicted'] = y_train_pred_Final.Converted_Prob.map( lambda x: 1 if x > 0.3 else 0)\n",
        "\n",
        "y_train_pred_Final.head()"
      ]
    },
    {
      "cell_type": "code",
      "execution_count": 364,
      "id": "27b92068",
      "metadata": {
        "colab": {
          "base_uri": "https://localhost:8080/",
          "height": 206
        },
        "id": "27b92068",
        "outputId": "417089d6-6225-45d4-97fe-f3f128cedf65"
      },
      "outputs": [
        {
          "output_type": "execute_result",
          "data": {
            "text/plain": [
              "   Converted  Converted_Prob  Prospect ID  Final_Predicted  Lead_Score\n",
              "0          1        0.979946         5423                1          98\n",
              "1          1        0.962527         8220                1          96\n",
              "2          0        0.005158         7643                0           1\n",
              "3          1        0.626078         1313                1          63\n",
              "4          1        0.953463         3840                1          95"
            ],
            "text/html": [
              "\n",
              "  <div id=\"df-6a65b174-d14e-4928-949d-751d17895936\">\n",
              "    <div class=\"colab-df-container\">\n",
              "      <div>\n",
              "<style scoped>\n",
              "    .dataframe tbody tr th:only-of-type {\n",
              "        vertical-align: middle;\n",
              "    }\n",
              "\n",
              "    .dataframe tbody tr th {\n",
              "        vertical-align: top;\n",
              "    }\n",
              "\n",
              "    .dataframe thead th {\n",
              "        text-align: right;\n",
              "    }\n",
              "</style>\n",
              "<table border=\"1\" class=\"dataframe\">\n",
              "  <thead>\n",
              "    <tr style=\"text-align: right;\">\n",
              "      <th></th>\n",
              "      <th>Converted</th>\n",
              "      <th>Converted_Prob</th>\n",
              "      <th>Prospect ID</th>\n",
              "      <th>Final_Predicted</th>\n",
              "      <th>Lead_Score</th>\n",
              "    </tr>\n",
              "  </thead>\n",
              "  <tbody>\n",
              "    <tr>\n",
              "      <th>0</th>\n",
              "      <td>1</td>\n",
              "      <td>0.979946</td>\n",
              "      <td>5423</td>\n",
              "      <td>1</td>\n",
              "      <td>98</td>\n",
              "    </tr>\n",
              "    <tr>\n",
              "      <th>1</th>\n",
              "      <td>1</td>\n",
              "      <td>0.962527</td>\n",
              "      <td>8220</td>\n",
              "      <td>1</td>\n",
              "      <td>96</td>\n",
              "    </tr>\n",
              "    <tr>\n",
              "      <th>2</th>\n",
              "      <td>0</td>\n",
              "      <td>0.005158</td>\n",
              "      <td>7643</td>\n",
              "      <td>0</td>\n",
              "      <td>1</td>\n",
              "    </tr>\n",
              "    <tr>\n",
              "      <th>3</th>\n",
              "      <td>1</td>\n",
              "      <td>0.626078</td>\n",
              "      <td>1313</td>\n",
              "      <td>1</td>\n",
              "      <td>63</td>\n",
              "    </tr>\n",
              "    <tr>\n",
              "      <th>4</th>\n",
              "      <td>1</td>\n",
              "      <td>0.953463</td>\n",
              "      <td>3840</td>\n",
              "      <td>1</td>\n",
              "      <td>95</td>\n",
              "    </tr>\n",
              "  </tbody>\n",
              "</table>\n",
              "</div>\n",
              "      <button class=\"colab-df-convert\" onclick=\"convertToInteractive('df-6a65b174-d14e-4928-949d-751d17895936')\"\n",
              "              title=\"Convert this dataframe to an interactive table.\"\n",
              "              style=\"display:none;\">\n",
              "        \n",
              "  <svg xmlns=\"http://www.w3.org/2000/svg\" height=\"24px\"viewBox=\"0 0 24 24\"\n",
              "       width=\"24px\">\n",
              "    <path d=\"M0 0h24v24H0V0z\" fill=\"none\"/>\n",
              "    <path d=\"M18.56 5.44l.94 2.06.94-2.06 2.06-.94-2.06-.94-.94-2.06-.94 2.06-2.06.94zm-11 1L8.5 8.5l.94-2.06 2.06-.94-2.06-.94L8.5 2.5l-.94 2.06-2.06.94zm10 10l.94 2.06.94-2.06 2.06-.94-2.06-.94-.94-2.06-.94 2.06-2.06.94z\"/><path d=\"M17.41 7.96l-1.37-1.37c-.4-.4-.92-.59-1.43-.59-.52 0-1.04.2-1.43.59L10.3 9.45l-7.72 7.72c-.78.78-.78 2.05 0 2.83L4 21.41c.39.39.9.59 1.41.59.51 0 1.02-.2 1.41-.59l7.78-7.78 2.81-2.81c.8-.78.8-2.07 0-2.86zM5.41 20L4 18.59l7.72-7.72 1.47 1.35L5.41 20z\"/>\n",
              "  </svg>\n",
              "      </button>\n",
              "      \n",
              "  <style>\n",
              "    .colab-df-container {\n",
              "      display:flex;\n",
              "      flex-wrap:wrap;\n",
              "      gap: 12px;\n",
              "    }\n",
              "\n",
              "    .colab-df-convert {\n",
              "      background-color: #E8F0FE;\n",
              "      border: none;\n",
              "      border-radius: 50%;\n",
              "      cursor: pointer;\n",
              "      display: none;\n",
              "      fill: #1967D2;\n",
              "      height: 32px;\n",
              "      padding: 0 0 0 0;\n",
              "      width: 32px;\n",
              "    }\n",
              "\n",
              "    .colab-df-convert:hover {\n",
              "      background-color: #E2EBFA;\n",
              "      box-shadow: 0px 1px 2px rgba(60, 64, 67, 0.3), 0px 1px 3px 1px rgba(60, 64, 67, 0.15);\n",
              "      fill: #174EA6;\n",
              "    }\n",
              "\n",
              "    [theme=dark] .colab-df-convert {\n",
              "      background-color: #3B4455;\n",
              "      fill: #D2E3FC;\n",
              "    }\n",
              "\n",
              "    [theme=dark] .colab-df-convert:hover {\n",
              "      background-color: #434B5C;\n",
              "      box-shadow: 0px 1px 3px 1px rgba(0, 0, 0, 0.15);\n",
              "      filter: drop-shadow(0px 1px 2px rgba(0, 0, 0, 0.3));\n",
              "      fill: #FFFFFF;\n",
              "    }\n",
              "  </style>\n",
              "\n",
              "      <script>\n",
              "        const buttonEl =\n",
              "          document.querySelector('#df-6a65b174-d14e-4928-949d-751d17895936 button.colab-df-convert');\n",
              "        buttonEl.style.display =\n",
              "          google.colab.kernel.accessAllowed ? 'block' : 'none';\n",
              "\n",
              "        async function convertToInteractive(key) {\n",
              "          const element = document.querySelector('#df-6a65b174-d14e-4928-949d-751d17895936');\n",
              "          const dataTable =\n",
              "            await google.colab.kernel.invokeFunction('convertToInteractive',\n",
              "                                                     [key], {});\n",
              "          if (!dataTable) return;\n",
              "\n",
              "          const docLinkHtml = 'Like what you see? Visit the ' +\n",
              "            '<a target=\"_blank\" href=https://colab.research.google.com/notebooks/data_table.ipynb>data table notebook</a>'\n",
              "            + ' to learn more about interactive tables.';\n",
              "          element.innerHTML = '';\n",
              "          dataTable['output_type'] = 'display_data';\n",
              "          await google.colab.output.renderOutput(dataTable, element);\n",
              "          const docLink = document.createElement('div');\n",
              "          docLink.innerHTML = docLinkHtml;\n",
              "          element.appendChild(docLink);\n",
              "        }\n",
              "      </script>\n",
              "    </div>\n",
              "  </div>\n",
              "  "
            ]
          },
          "metadata": {},
          "execution_count": 364
        }
      ],
      "source": [
        "y_train_pred_Final['Lead_Score'] = y_train_pred_Final.Converted_Prob.map(lambda x: round(x*100))\n",
        "\n",
        "y_train_pred_Final[['Converted','Converted_Prob','Prospect ID','Final_Predicted','Lead_Score']].head()"
      ]
    },
    {
      "cell_type": "code",
      "execution_count": 365,
      "id": "e5c07d9a",
      "metadata": {
        "colab": {
          "base_uri": "https://localhost:8080/"
        },
        "id": "e5c07d9a",
        "outputId": "a592f0a1-855b-42ed-fd85-c2dd88fe73fe"
      },
      "outputs": [
        {
          "output_type": "execute_result",
          "data": {
            "text/plain": [
              "0.8504642971501761"
            ]
          },
          "metadata": {},
          "execution_count": 365
        }
      ],
      "source": [
        "# Let's check the overall accuracy.\n",
        "metrics.accuracy_score(y_train_pred_Final.Converted, y_train_pred_Final.Final_Predicted)"
      ]
    },
    {
      "cell_type": "code",
      "execution_count": 366,
      "id": "f1a6409e",
      "metadata": {
        "colab": {
          "base_uri": "https://localhost:8080/"
        },
        "id": "f1a6409e",
        "outputId": "d11f75df-38fd-479a-9bde-4d5c4daec82b"
      },
      "outputs": [
        {
          "output_type": "execute_result",
          "data": {
            "text/plain": [
              "array([[3268,  592],\n",
              "       [ 342, 2044]])"
            ]
          },
          "metadata": {},
          "execution_count": 366
        }
      ],
      "source": [
        "confusion2 = metrics.confusion_matrix(y_train_pred_Final.Converted, y_train_pred_Final.Final_Predicted )\n",
        "confusion2"
      ]
    },
    {
      "cell_type": "code",
      "execution_count": 367,
      "id": "7ab3140a",
      "metadata": {
        "id": "7ab3140a"
      },
      "outputs": [],
      "source": [
        "TP = confusion2[1,1] # true positive \n",
        "TN = confusion2[0,0] # true negatives\n",
        "FP = confusion2[0,1] # false positives\n",
        "FN = confusion2[1,0] # false negatives"
      ]
    },
    {
      "cell_type": "code",
      "execution_count": 368,
      "id": "bdcf5818",
      "metadata": {
        "colab": {
          "base_uri": "https://localhost:8080/"
        },
        "id": "bdcf5818",
        "outputId": "64a63831-eb55-4bf2-9926-3f36e06472e4"
      },
      "outputs": [
        {
          "output_type": "execute_result",
          "data": {
            "text/plain": [
              "0.856663872590109"
            ]
          },
          "metadata": {},
          "execution_count": 368
        }
      ],
      "source": [
        "# Let's see the sensitivity of our logistic regression model\n",
        "TP / float(TP+FN)"
      ]
    },
    {
      "cell_type": "code",
      "execution_count": 369,
      "id": "72c4940b",
      "metadata": {
        "colab": {
          "base_uri": "https://localhost:8080/"
        },
        "id": "72c4940b",
        "outputId": "83c888aa-e165-4f2f-a9b0-17053d85bd63"
      },
      "outputs": [
        {
          "output_type": "execute_result",
          "data": {
            "text/plain": [
              "0.8466321243523316"
            ]
          },
          "metadata": {},
          "execution_count": 369
        }
      ],
      "source": [
        "# Let us calculate specificity\n",
        "TN / float(TN+FP)"
      ]
    },
    {
      "cell_type": "markdown",
      "id": "a31da9f9",
      "metadata": {
        "id": "a31da9f9"
      },
      "source": [
        "### Observation:\n",
        "    - So as we can see above the model seems to be performing well.\n",
        "    - The ROC curve has a value of 0.93, which is very good. We have the following values for the Train Data:\n",
        "\n",
        "         Accuracy : 85.04%\n",
        "         Sensitivity : 85.66%\n",
        "         Specificity : 84.66%"
      ]
    },
    {
      "cell_type": "markdown",
      "id": "00e0cc79",
      "metadata": {
        "id": "00e0cc79"
      },
      "source": [
        "Some of the other Stats are derived below, indicating the False Positive Rate, Positive Predictive Value,Negative Predictive Values, Precision & Recall."
      ]
    },
    {
      "cell_type": "code",
      "execution_count": 370,
      "id": "35e6d8f1",
      "metadata": {
        "colab": {
          "base_uri": "https://localhost:8080/"
        },
        "id": "35e6d8f1",
        "outputId": "7ca38a6b-003f-4dc8-9a92-872f51fbddb0"
      },
      "outputs": [
        {
          "output_type": "stream",
          "name": "stdout",
          "text": [
            "0.1533678756476684\n"
          ]
        }
      ],
      "source": [
        "# Calculate False Postive Rate - predicting conversion when customer does not have convert\n",
        "print(FP/ float(TN+FP))"
      ]
    },
    {
      "cell_type": "code",
      "execution_count": 371,
      "id": "a60d62ce",
      "metadata": {
        "colab": {
          "base_uri": "https://localhost:8080/"
        },
        "id": "a60d62ce",
        "outputId": "ffa55109-eaca-41c7-e134-080f58bc7c26"
      },
      "outputs": [
        {
          "output_type": "stream",
          "name": "stdout",
          "text": [
            "0.7754172989377845\n"
          ]
        }
      ],
      "source": [
        "# Positive predictive value \n",
        "print (TP / float(TP+FP))"
      ]
    },
    {
      "cell_type": "code",
      "execution_count": 372,
      "id": "93765f1f",
      "metadata": {
        "colab": {
          "base_uri": "https://localhost:8080/"
        },
        "id": "93765f1f",
        "outputId": "8c48d7e9-75a3-4b27-fb82-88c292626e18"
      },
      "outputs": [
        {
          "output_type": "stream",
          "name": "stdout",
          "text": [
            "0.9052631578947369\n"
          ]
        }
      ],
      "source": [
        "# Negative predictive value\n",
        "print (TN / float(TN+ FN))"
      ]
    },
    {
      "cell_type": "code",
      "execution_count": 373,
      "id": "1908059a",
      "metadata": {
        "colab": {
          "base_uri": "https://localhost:8080/"
        },
        "id": "1908059a",
        "outputId": "d9ffd926-abf3-490f-af1a-3388dc166a49"
      },
      "outputs": [
        {
          "output_type": "execute_result",
          "data": {
            "text/plain": [
              "array([[3268,  592],\n",
              "       [ 342, 2044]])"
            ]
          },
          "metadata": {},
          "execution_count": 373
        }
      ],
      "source": [
        "#Looking at the confusion matrix again\n",
        "\n",
        "confusion = metrics.confusion_matrix(y_train_pred_Final.Converted, y_train_pred_Final.Final_Predicted )\n",
        "confusion"
      ]
    },
    {
      "cell_type": "code",
      "execution_count": 374,
      "id": "15b44bec",
      "metadata": {
        "colab": {
          "base_uri": "https://localhost:8080/"
        },
        "id": "15b44bec",
        "outputId": "daa2948e-4803-4d43-c99f-1af972b8d1df"
      },
      "outputs": [
        {
          "output_type": "execute_result",
          "data": {
            "text/plain": [
              "0.7754172989377845"
            ]
          },
          "metadata": {},
          "execution_count": 374
        }
      ],
      "source": [
        "##### Precision\n",
        "TP / TP + FP\n",
        "\n",
        "confusion[1,1]/(confusion[0,1]+confusion[1,1])"
      ]
    },
    {
      "cell_type": "code",
      "execution_count": 375,
      "id": "f2fdeaa5",
      "metadata": {
        "colab": {
          "base_uri": "https://localhost:8080/"
        },
        "id": "f2fdeaa5",
        "outputId": "aea4f472-5973-4cf4-8e42-c1888c842319"
      },
      "outputs": [
        {
          "output_type": "execute_result",
          "data": {
            "text/plain": [
              "0.856663872590109"
            ]
          },
          "metadata": {},
          "execution_count": 375
        }
      ],
      "source": [
        "##### Recall\n",
        "TP / TP + FN\n",
        "\n",
        "confusion[1,1]/(confusion[1,0]+confusion[1,1])"
      ]
    },
    {
      "cell_type": "code",
      "execution_count": 376,
      "id": "df2813ce",
      "metadata": {
        "id": "df2813ce"
      },
      "outputs": [],
      "source": [
        "from sklearn.metrics import precision_score, recall_score"
      ]
    },
    {
      "cell_type": "code",
      "execution_count": 377,
      "id": "f64dcac1",
      "metadata": {
        "colab": {
          "base_uri": "https://localhost:8080/"
        },
        "id": "f64dcac1",
        "outputId": "9e6502ee-dde2-438f-dcf4-3d6d42a1beff"
      },
      "outputs": [
        {
          "output_type": "execute_result",
          "data": {
            "text/plain": [
              "0.7754172989377845"
            ]
          },
          "metadata": {},
          "execution_count": 377
        }
      ],
      "source": [
        "precision_score(y_train_pred_Final.Converted , y_train_pred_Final.Final_Predicted)"
      ]
    },
    {
      "cell_type": "code",
      "execution_count": 378,
      "id": "7781e957",
      "metadata": {
        "colab": {
          "base_uri": "https://localhost:8080/"
        },
        "id": "7781e957",
        "outputId": "c9042e8e-5983-48e4-9482-bb93d7dd6a40"
      },
      "outputs": [
        {
          "output_type": "execute_result",
          "data": {
            "text/plain": [
              "0.856663872590109"
            ]
          },
          "metadata": {},
          "execution_count": 378
        }
      ],
      "source": [
        "recall_score(y_train_pred_Final.Converted, y_train_pred_Final.Final_Predicted)"
      ]
    },
    {
      "cell_type": "code",
      "execution_count": 379,
      "id": "b4963022",
      "metadata": {
        "id": "b4963022"
      },
      "outputs": [],
      "source": [
        "from sklearn.metrics import precision_recall_curve"
      ]
    },
    {
      "cell_type": "code",
      "execution_count": 380,
      "id": "833a0ed4",
      "metadata": {
        "id": "833a0ed4"
      },
      "outputs": [],
      "source": [
        "y_train_pred_Final.Converted, y_train_pred_Final.Final_Predicted\n",
        "p, r, thresholds = precision_recall_curve(y_train_pred_Final.Converted, y_train_pred_Final.Converted_Prob)"
      ]
    },
    {
      "cell_type": "code",
      "execution_count": 450,
      "id": "49739e0d",
      "metadata": {
        "colab": {
          "base_uri": "https://localhost:8080/",
          "height": 282
        },
        "id": "49739e0d",
        "outputId": "da1d0d30-5786-4a9d-dc4f-f0a0925e8099"
      },
      "outputs": [
        {
          "output_type": "stream",
          "name": "stderr",
          "text": [
            "WARNING:matplotlib.legend:No handles with labels found to put in legend.\n"
          ]
        },
        {
          "output_type": "display_data",
          "data": {
            "text/plain": [
              "<Figure size 432x288 with 1 Axes>"
            ],
            "image/png": "[encoded data removed]"
          },
          "metadata": {
            "needs_background": "light"
          }
        }
      ],
      "source": [
        "plt.plot(thresholds, p[:-1], \"g-\")\n",
        "plt.plot(thresholds, r[:-1], \"r-\")\n",
        "plt.show()"
      ]
    },
    {
      "cell_type": "code",
      "execution_count": 382,
      "id": "f181fa75",
      "metadata": {
        "colab": {
          "base_uri": "https://localhost:8080/",
          "height": 369
        },
        "id": "f181fa75",
        "outputId": "2c6d1448-63a6-4f77-fff0-3d4591d06797"
      },
      "outputs": [
        {
          "output_type": "execute_result",
          "data": {
            "text/plain": [
              "      TotalVisits  Total Time Spent on Website  Page Views Per Visit  \\\n",
              "6215    -0.419036                     1.776642             -0.169035   \n",
              "2086    -1.108335                    -0.877905             -1.202090   \n",
              "3257    -0.074387                    -0.646276             -0.427298   \n",
              "1809     1.648861                     1.309706             -0.169035   \n",
              "3712    -0.419036                    -0.127867             -0.169035   \n",
              "\n",
              "      Lead Origin_Landing Page Submission  Lead Origin_Lead Add Form  \\\n",
              "6215                                    1                          0   \n",
              "2086                                    0                          0   \n",
              "3257                                    1                          0   \n",
              "1809                                    1                          0   \n",
              "3712                                    1                          0   \n",
              "\n",
              "      Lead Origin_Lead Import  What is your current occupation_Housewife  \\\n",
              "6215                        0                                          0   \n",
              "2086                        0                                          0   \n",
              "3257                        0                                          0   \n",
              "1809                        0                                          0   \n",
              "3712                        0                                          0   \n",
              "\n",
              "      What is your current occupation_Other  \\\n",
              "6215                                      0   \n",
              "2086                                      0   \n",
              "3257                                      0   \n",
              "1809                                      0   \n",
              "3712                                      0   \n",
              "\n",
              "      What is your current occupation_Student  \\\n",
              "6215                                        0   \n",
              "2086                                        0   \n",
              "3257                                        0   \n",
              "1809                                        0   \n",
              "3712                                        0   \n",
              "\n",
              "      What is your current occupation_Unemployed  \\\n",
              "6215                                           1   \n",
              "2086                                           1   \n",
              "3257                                           1   \n",
              "1809                                           1   \n",
              "3712                                           1   \n",
              "\n",
              "      What is your current occupation_Working Professional  City_Other Cities  \\\n",
              "6215                                                  0                     0   \n",
              "2086                                                  0                     0   \n",
              "3257                                                  0                     0   \n",
              "1809                                                  0                     1   \n",
              "3712                                                  0                     0   \n",
              "\n",
              "      City_Other Cities of Maharashtra  City_Other Metro Cities  \\\n",
              "6215                                 0                        0   \n",
              "2086                                 0                        0   \n",
              "3257                                 1                        0   \n",
              "1809                                 0                        0   \n",
              "3712                                 0                        0   \n",
              "\n",
              "      City_Thane & Outskirts  City_Tier II Cities  \\\n",
              "6215                       0                    0   \n",
              "2086                       0                    0   \n",
              "3257                       0                    0   \n",
              "1809                       0                    0   \n",
              "3712                       0                    0   \n",
              "\n",
              "      Specialization_Banking, Investment And Insurance  \\\n",
              "6215                                                 0   \n",
              "2086                                                 0   \n",
              "3257                                                 0   \n",
              "1809                                                 0   \n",
              "3712                                                 0   \n",
              "\n",
              "      Specialization_Business Administration  Specialization_E_Commerce  \\\n",
              "6215                                       0                          0   \n",
              "2086                                       0                          0   \n",
              "3257                                       0                          0   \n",
              "1809                                       0                          0   \n",
              "3712                                       0                          0   \n",
              "\n",
              "      Specialization_International Business  Specialization_Management  ...  \\\n",
              "6215                                      0                          1  ...   \n",
              "2086                                      0                          0  ...   \n",
              "3257                                      0                          1  ...   \n",
              "1809                                      0                          1  ...   \n",
              "3712                                      0                          1  ...   \n",
              "\n",
              "      Last Activity_SMS Sent  Last Activity_Unreachable  \\\n",
              "6215                       0                          0   \n",
              "2086                       1                          0   \n",
              "3257                       0                          0   \n",
              "1809                       0                          0   \n",
              "3712                       0                          0   \n",
              "\n",
              "      Last Activity_Unsubscribed  Tags_Already a student  Tags_Busy  \\\n",
              "6215                           0                       0          0   \n",
              "2086                           0                       0          0   \n",
              "3257                           0                       0          0   \n",
              "1809                           0                       0          0   \n",
              "3712                           0                       0          0   \n",
              "\n",
              "      Tags_Closed by Horizzon  Tags_Graduation in progress  \\\n",
              "6215                        0                            0   \n",
              "2086                        0                            0   \n",
              "3257                        0                            0   \n",
              "1809                        1                            0   \n",
              "3712                        0                            0   \n",
              "\n",
              "      Tags_Interested  in full time MBA  Tags_Interested in other courses  \\\n",
              "6215                                  0                                 0   \n",
              "2086                                  0                                 0   \n",
              "3257                                  0                                 0   \n",
              "1809                                  0                                 0   \n",
              "3712                                  0                                 0   \n",
              "\n",
              "      Tags_Lost to EINS  Tags_Not doing further education  Tags_Ringing  \\\n",
              "6215                  0                                 0             0   \n",
              "2086                  0                                 0             0   \n",
              "3257                  0                                 0             0   \n",
              "1809                  0                                 0             0   \n",
              "3712                  0                                 0             0   \n",
              "\n",
              "      Tags_Will revert after reading the email  Tags_switched off  \\\n",
              "6215                                         1                  0   \n",
              "2086                                         1                  0   \n",
              "3257                                         1                  0   \n",
              "1809                                         0                  0   \n",
              "3712                                         1                  0   \n",
              "\n",
              "      Last Notable Activity_Email Link Clicked  \\\n",
              "6215                                         0   \n",
              "2086                                         0   \n",
              "3257                                         0   \n",
              "1809                                         0   \n",
              "3712                                         0   \n",
              "\n",
              "      Last Notable Activity_Email Opened  \\\n",
              "6215                                   0   \n",
              "2086                                   0   \n",
              "3257                                   1   \n",
              "1809                                   0   \n",
              "3712                                   0   \n",
              "\n",
              "      Last Notable Activity_Email Received  Last Notable Activity_Modified  \\\n",
              "6215                                     0                               1   \n",
              "2086                                     0                               0   \n",
              "3257                                     0                               0   \n",
              "1809                                     0                               0   \n",
              "3712                                     0                               0   \n",
              "\n",
              "      Last Notable Activity_Olark Chat Conversation  \\\n",
              "6215                                              0   \n",
              "2086                                              0   \n",
              "3257                                              0   \n",
              "1809                                              0   \n",
              "3712                                              0   \n",
              "\n",
              "      Last Notable Activity_Page Visited on Website  \\\n",
              "6215                                              0   \n",
              "2086                                              0   \n",
              "3257                                              0   \n",
              "1809                                              1   \n",
              "3712                                              1   \n",
              "\n",
              "      Last Notable Activity_SMS Sent  \n",
              "6215                               0  \n",
              "2086                               1  \n",
              "3257                               0  \n",
              "1809                               0  \n",
              "3712                               0  \n",
              "\n",
              "[5 rows x 61 columns]"
            ],
            "text/html": [
              "\n",
              "  <div id=\"df-6efa8e3f-88d0-43ca-a878-c469bc5e9f3e\">\n",
              "    <div class=\"colab-df-container\">\n",
              "      <div>\n",
              "<style scoped>\n",
              "    .dataframe tbody tr th:only-of-type {\n",
              "        vertical-align: middle;\n",
              "    }\n",
              "\n",
              "    .dataframe tbody tr th {\n",
              "        vertical-align: top;\n",
              "    }\n",
              "\n",
              "    .dataframe thead th {\n",
              "        text-align: right;\n",
              "    }\n",
              "</style>\n",
              "<table border=\"1\" class=\"dataframe\">\n",
              "  <thead>\n",
              "    <tr style=\"text-align: right;\">\n",
              "      <th></th>\n",
              "      <th>TotalVisits</th>\n",
              "      <th>Total Time Spent on Website</th>\n",
              "      <th>Page Views Per Visit</th>\n",
              "      <th>Lead Origin_Landing Page Submission</th>\n",
              "      <th>Lead Origin_Lead Add Form</th>\n",
              "      <th>Lead Origin_Lead Import</th>\n",
              "      <th>What is your current occupation_Housewife</th>\n",
              "      <th>What is your current occupation_Other</th>\n",
              "      <th>What is your current occupation_Student</th>\n",
              "      <th>What is your current occupation_Unemployed</th>\n",
              "      <th>What is your current occupation_Working Professional</th>\n",
              "      <th>City_Other Cities</th>\n",
              "      <th>City_Other Cities of Maharashtra</th>\n",
              "      <th>City_Other Metro Cities</th>\n",
              "      <th>City_Thane &amp; Outskirts</th>\n",
              "      <th>City_Tier II Cities</th>\n",
              "      <th>Specialization_Banking, Investment And Insurance</th>\n",
              "      <th>Specialization_Business Administration</th>\n",
              "      <th>Specialization_E_Commerce</th>\n",
              "      <th>Specialization_International Business</th>\n",
              "      <th>Specialization_Management</th>\n",
              "      <th>...</th>\n",
              "      <th>Last Activity_SMS Sent</th>\n",
              "      <th>Last Activity_Unreachable</th>\n",
              "      <th>Last Activity_Unsubscribed</th>\n",
              "      <th>Tags_Already a student</th>\n",
              "      <th>Tags_Busy</th>\n",
              "      <th>Tags_Closed by Horizzon</th>\n",
              "      <th>Tags_Graduation in progress</th>\n",
              "      <th>Tags_Interested  in full time MBA</th>\n",
              "      <th>Tags_Interested in other courses</th>\n",
              "      <th>Tags_Lost to EINS</th>\n",
              "      <th>Tags_Not doing further education</th>\n",
              "      <th>Tags_Ringing</th>\n",
              "      <th>Tags_Will revert after reading the email</th>\n",
              "      <th>Tags_switched off</th>\n",
              "      <th>Last Notable Activity_Email Link Clicked</th>\n",
              "      <th>Last Notable Activity_Email Opened</th>\n",
              "      <th>Last Notable Activity_Email Received</th>\n",
              "      <th>Last Notable Activity_Modified</th>\n",
              "      <th>Last Notable Activity_Olark Chat Conversation</th>\n",
              "      <th>Last Notable Activity_Page Visited on Website</th>\n",
              "      <th>Last Notable Activity_SMS Sent</th>\n",
              "    </tr>\n",
              "  </thead>\n",
              "  <tbody>\n",
              "    <tr>\n",
              "      <th>6215</th>\n",
              "      <td>-0.419036</td>\n",
              "      <td>1.776642</td>\n",
              "      <td>-0.169035</td>\n",
              "      <td>1</td>\n",
              "      <td>0</td>\n",
              "      <td>0</td>\n",
              "      <td>0</td>\n",
              "      <td>0</td>\n",
              "      <td>0</td>\n",
              "      <td>1</td>\n",
              "      <td>0</td>\n",
              "      <td>0</td>\n",
              "      <td>0</td>\n",
              "      <td>0</td>\n",
              "      <td>0</td>\n",
              "      <td>0</td>\n",
              "      <td>0</td>\n",
              "      <td>0</td>\n",
              "      <td>0</td>\n",
              "      <td>0</td>\n",
              "      <td>1</td>\n",
              "      <td>...</td>\n",
              "      <td>0</td>\n",
              "      <td>0</td>\n",
              "      <td>0</td>\n",
              "      <td>0</td>\n",
              "      <td>0</td>\n",
              "      <td>0</td>\n",
              "      <td>0</td>\n",
              "      <td>0</td>\n",
              "      <td>0</td>\n",
              "      <td>0</td>\n",
              "      <td>0</td>\n",
              "      <td>0</td>\n",
              "      <td>1</td>\n",
              "      <td>0</td>\n",
              "      <td>0</td>\n",
              "      <td>0</td>\n",
              "      <td>0</td>\n",
              "      <td>1</td>\n",
              "      <td>0</td>\n",
              "      <td>0</td>\n",
              "      <td>0</td>\n",
              "    </tr>\n",
              "    <tr>\n",
              "      <th>2086</th>\n",
              "      <td>-1.108335</td>\n",
              "      <td>-0.877905</td>\n",
              "      <td>-1.202090</td>\n",
              "      <td>0</td>\n",
              "      <td>0</td>\n",
              "      <td>0</td>\n",
              "      <td>0</td>\n",
              "      <td>0</td>\n",
              "      <td>0</td>\n",
              "      <td>1</td>\n",
              "      <td>0</td>\n",
              "      <td>0</td>\n",
              "      <td>0</td>\n",
              "      <td>0</td>\n",
              "      <td>0</td>\n",
              "      <td>0</td>\n",
              "      <td>0</td>\n",
              "      <td>0</td>\n",
              "      <td>0</td>\n",
              "      <td>0</td>\n",
              "      <td>0</td>\n",
              "      <td>...</td>\n",
              "      <td>1</td>\n",
              "      <td>0</td>\n",
              "      <td>0</td>\n",
              "      <td>0</td>\n",
              "      <td>0</td>\n",
              "      <td>0</td>\n",
              "      <td>0</td>\n",
              "      <td>0</td>\n",
              "      <td>0</td>\n",
              "      <td>0</td>\n",
              "      <td>0</td>\n",
              "      <td>0</td>\n",
              "      <td>1</td>\n",
              "      <td>0</td>\n",
              "      <td>0</td>\n",
              "      <td>0</td>\n",
              "      <td>0</td>\n",
              "      <td>0</td>\n",
              "      <td>0</td>\n",
              "      <td>0</td>\n",
              "      <td>1</td>\n",
              "    </tr>\n",
              "    <tr>\n",
              "      <th>3257</th>\n",
              "      <td>-0.074387</td>\n",
              "      <td>-0.646276</td>\n",
              "      <td>-0.427298</td>\n",
              "      <td>1</td>\n",
              "      <td>0</td>\n",
              "      <td>0</td>\n",
              "      <td>0</td>\n",
              "      <td>0</td>\n",
              "      <td>0</td>\n",
              "      <td>1</td>\n",
              "      <td>0</td>\n",
              "      <td>0</td>\n",
              "      <td>1</td>\n",
              "      <td>0</td>\n",
              "      <td>0</td>\n",
              "      <td>0</td>\n",
              "      <td>0</td>\n",
              "      <td>0</td>\n",
              "      <td>0</td>\n",
              "      <td>0</td>\n",
              "      <td>1</td>\n",
              "      <td>...</td>\n",
              "      <td>0</td>\n",
              "      <td>0</td>\n",
              "      <td>0</td>\n",
              "      <td>0</td>\n",
              "      <td>0</td>\n",
              "      <td>0</td>\n",
              "      <td>0</td>\n",
              "      <td>0</td>\n",
              "      <td>0</td>\n",
              "      <td>0</td>\n",
              "      <td>0</td>\n",
              "      <td>0</td>\n",
              "      <td>1</td>\n",
              "      <td>0</td>\n",
              "      <td>0</td>\n",
              "      <td>1</td>\n",
              "      <td>0</td>\n",
              "      <td>0</td>\n",
              "      <td>0</td>\n",
              "      <td>0</td>\n",
              "      <td>0</td>\n",
              "    </tr>\n",
              "    <tr>\n",
              "      <th>1809</th>\n",
              "      <td>1.648861</td>\n",
              "      <td>1.309706</td>\n",
              "      <td>-0.169035</td>\n",
              "      <td>1</td>\n",
              "      <td>0</td>\n",
              "      <td>0</td>\n",
              "      <td>0</td>\n",
              "      <td>0</td>\n",
              "      <td>0</td>\n",
              "      <td>1</td>\n",
              "      <td>0</td>\n",
              "      <td>1</td>\n",
              "      <td>0</td>\n",
              "      <td>0</td>\n",
              "      <td>0</td>\n",
              "      <td>0</td>\n",
              "      <td>0</td>\n",
              "      <td>0</td>\n",
              "      <td>0</td>\n",
              "      <td>0</td>\n",
              "      <td>1</td>\n",
              "      <td>...</td>\n",
              "      <td>0</td>\n",
              "      <td>0</td>\n",
              "      <td>0</td>\n",
              "      <td>0</td>\n",
              "      <td>0</td>\n",
              "      <td>1</td>\n",
              "      <td>0</td>\n",
              "      <td>0</td>\n",
              "      <td>0</td>\n",
              "      <td>0</td>\n",
              "      <td>0</td>\n",
              "      <td>0</td>\n",
              "      <td>0</td>\n",
              "      <td>0</td>\n",
              "      <td>0</td>\n",
              "      <td>0</td>\n",
              "      <td>0</td>\n",
              "      <td>0</td>\n",
              "      <td>0</td>\n",
              "      <td>1</td>\n",
              "      <td>0</td>\n",
              "    </tr>\n",
              "    <tr>\n",
              "      <th>3712</th>\n",
              "      <td>-0.419036</td>\n",
              "      <td>-0.127867</td>\n",
              "      <td>-0.169035</td>\n",
              "      <td>1</td>\n",
              "      <td>0</td>\n",
              "      <td>0</td>\n",
              "      <td>0</td>\n",
              "      <td>0</td>\n",
              "      <td>0</td>\n",
              "      <td>1</td>\n",
              "      <td>0</td>\n",
              "      <td>0</td>\n",
              "      <td>0</td>\n",
              "      <td>0</td>\n",
              "      <td>0</td>\n",
              "      <td>0</td>\n",
              "      <td>0</td>\n",
              "      <td>0</td>\n",
              "      <td>0</td>\n",
              "      <td>0</td>\n",
              "      <td>1</td>\n",
              "      <td>...</td>\n",
              "      <td>0</td>\n",
              "      <td>0</td>\n",
              "      <td>0</td>\n",
              "      <td>0</td>\n",
              "      <td>0</td>\n",
              "      <td>0</td>\n",
              "      <td>0</td>\n",
              "      <td>0</td>\n",
              "      <td>0</td>\n",
              "      <td>0</td>\n",
              "      <td>0</td>\n",
              "      <td>0</td>\n",
              "      <td>1</td>\n",
              "      <td>0</td>\n",
              "      <td>0</td>\n",
              "      <td>0</td>\n",
              "      <td>0</td>\n",
              "      <td>0</td>\n",
              "      <td>0</td>\n",
              "      <td>1</td>\n",
              "      <td>0</td>\n",
              "    </tr>\n",
              "  </tbody>\n",
              "</table>\n",
              "<p>5 rows × 61 columns</p>\n",
              "</div>\n",
              "      <button class=\"colab-df-convert\" onclick=\"convertToInteractive('df-6efa8e3f-88d0-43ca-a878-c469bc5e9f3e')\"\n",
              "              title=\"Convert this dataframe to an interactive table.\"\n",
              "              style=\"display:none;\">\n",
              "        \n",
              "  <svg xmlns=\"http://www.w3.org/2000/svg\" height=\"24px\"viewBox=\"0 0 24 24\"\n",
              "       width=\"24px\">\n",
              "    <path d=\"M0 0h24v24H0V0z\" fill=\"none\"/>\n",
              "    <path d=\"M18.56 5.44l.94 2.06.94-2.06 2.06-.94-2.06-.94-.94-2.06-.94 2.06-2.06.94zm-11 1L8.5 8.5l.94-2.06 2.06-.94-2.06-.94L8.5 2.5l-.94 2.06-2.06.94zm10 10l.94 2.06.94-2.06 2.06-.94-2.06-.94-.94-2.06-.94 2.06-2.06.94z\"/><path d=\"M17.41 7.96l-1.37-1.37c-.4-.4-.92-.59-1.43-.59-.52 0-1.04.2-1.43.59L10.3 9.45l-7.72 7.72c-.78.78-.78 2.05 0 2.83L4 21.41c.39.39.9.59 1.41.59.51 0 1.02-.2 1.41-.59l7.78-7.78 2.81-2.81c.8-.78.8-2.07 0-2.86zM5.41 20L4 18.59l7.72-7.72 1.47 1.35L5.41 20z\"/>\n",
              "  </svg>\n",
              "      </button>\n",
              "      \n",
              "  <style>\n",
              "    .colab-df-container {\n",
              "      display:flex;\n",
              "      flex-wrap:wrap;\n",
              "      gap: 12px;\n",
              "    }\n",
              "\n",
              "    .colab-df-convert {\n",
              "      background-color: #E8F0FE;\n",
              "      border: none;\n",
              "      border-radius: 50%;\n",
              "      cursor: pointer;\n",
              "      display: none;\n",
              "      fill: #1967D2;\n",
              "      height: 32px;\n",
              "      padding: 0 0 0 0;\n",
              "      width: 32px;\n",
              "    }\n",
              "\n",
              "    .colab-df-convert:hover {\n",
              "      background-color: #E2EBFA;\n",
              "      box-shadow: 0px 1px 2px rgba(60, 64, 67, 0.3), 0px 1px 3px 1px rgba(60, 64, 67, 0.15);\n",
              "      fill: #174EA6;\n",
              "    }\n",
              "\n",
              "    [theme=dark] .colab-df-convert {\n",
              "      background-color: #3B4455;\n",
              "      fill: #D2E3FC;\n",
              "    }\n",
              "\n",
              "    [theme=dark] .colab-df-convert:hover {\n",
              "      background-color: #434B5C;\n",
              "      box-shadow: 0px 1px 3px 1px rgba(0, 0, 0, 0.15);\n",
              "      filter: drop-shadow(0px 1px 2px rgba(0, 0, 0, 0.3));\n",
              "      fill: #FFFFFF;\n",
              "    }\n",
              "  </style>\n",
              "\n",
              "      <script>\n",
              "        const buttonEl =\n",
              "          document.querySelector('#df-6efa8e3f-88d0-43ca-a878-c469bc5e9f3e button.colab-df-convert');\n",
              "        buttonEl.style.display =\n",
              "          google.colab.kernel.accessAllowed ? 'block' : 'none';\n",
              "\n",
              "        async function convertToInteractive(key) {\n",
              "          const element = document.querySelector('#df-6efa8e3f-88d0-43ca-a878-c469bc5e9f3e');\n",
              "          const dataTable =\n",
              "            await google.colab.kernel.invokeFunction('convertToInteractive',\n",
              "                                                     [key], {});\n",
              "          if (!dataTable) return;\n",
              "\n",
              "          const docLinkHtml = 'Like what you see? Visit the ' +\n",
              "            '<a target=\"_blank\" href=https://colab.research.google.com/notebooks/data_table.ipynb>data table notebook</a>'\n",
              "            + ' to learn more about interactive tables.';\n",
              "          element.innerHTML = '';\n",
              "          dataTable['output_type'] = 'display_data';\n",
              "          await google.colab.output.renderOutput(dataTable, element);\n",
              "          const docLink = document.createElement('div');\n",
              "          docLink.innerHTML = docLinkHtml;\n",
              "          element.appendChild(docLink);\n",
              "        }\n",
              "      </script>\n",
              "    </div>\n",
              "  </div>\n",
              "  "
            ]
          },
          "metadata": {},
          "execution_count": 382
        }
      ],
      "source": [
        "#scaling test set\n",
        "\n",
        "num_cols=X_test.select_dtypes(include=['float64', 'int64']).columns\n",
        "\n",
        "X_test[num_cols] = scaler.fit_transform(X_test[num_cols])\n",
        "\n",
        "X_test.head()"
      ]
    },
    {
      "cell_type": "code",
      "execution_count": 383,
      "id": "dbc6bc50",
      "metadata": {
        "colab": {
          "base_uri": "https://localhost:8080/",
          "height": 340
        },
        "id": "dbc6bc50",
        "outputId": "375ea946-62c6-428d-c1be-05fd52b3b945"
      },
      "outputs": [
        {
          "output_type": "execute_result",
          "data": {
            "text/plain": [
              "      Total Time Spent on Website  Lead Origin_Lead Add Form  \\\n",
              "6215                     1.776642                          0   \n",
              "2086                    -0.877905                          0   \n",
              "3257                    -0.646276                          0   \n",
              "1809                     1.309706                          0   \n",
              "3712                    -0.127867                          0   \n",
              "\n",
              "      What is your current occupation_Unemployed  \\\n",
              "6215                                           1   \n",
              "2086                                           1   \n",
              "3257                                           1   \n",
              "1809                                           1   \n",
              "3712                                           1   \n",
              "\n",
              "      What is your current occupation_Working Professional  \\\n",
              "6215                                                  0      \n",
              "2086                                                  0      \n",
              "3257                                                  0      \n",
              "1809                                                  0      \n",
              "3712                                                  0      \n",
              "\n",
              "      Last Activity_Email Bounced  Last Activity_Olark Chat Conversation  \\\n",
              "6215                            0                                      0   \n",
              "2086                            0                                      0   \n",
              "3257                            0                                      0   \n",
              "1809                            0                                      0   \n",
              "3712                            0                                      0   \n",
              "\n",
              "      Tags_Busy  Tags_Lost to EINS  Tags_Ringing  \\\n",
              "6215          0                  0             0   \n",
              "2086          0                  0             0   \n",
              "3257          0                  0             0   \n",
              "1809          0                  0             0   \n",
              "3712          0                  0             0   \n",
              "\n",
              "      Tags_Will revert after reading the email  Tags_switched off  \\\n",
              "6215                                         1                  0   \n",
              "2086                                         1                  0   \n",
              "3257                                         1                  0   \n",
              "1809                                         0                  0   \n",
              "3712                                         1                  0   \n",
              "\n",
              "      Last Notable Activity_SMS Sent  \n",
              "6215                               0  \n",
              "2086                               1  \n",
              "3257                               0  \n",
              "1809                               0  \n",
              "3712                               0  "
            ],
            "text/html": [
              "\n",
              "  <div id=\"df-4c98fd1b-d613-4902-bffc-9ff50dc8a316\">\n",
              "    <div class=\"colab-df-container\">\n",
              "      <div>\n",
              "<style scoped>\n",
              "    .dataframe tbody tr th:only-of-type {\n",
              "        vertical-align: middle;\n",
              "    }\n",
              "\n",
              "    .dataframe tbody tr th {\n",
              "        vertical-align: top;\n",
              "    }\n",
              "\n",
              "    .dataframe thead th {\n",
              "        text-align: right;\n",
              "    }\n",
              "</style>\n",
              "<table border=\"1\" class=\"dataframe\">\n",
              "  <thead>\n",
              "    <tr style=\"text-align: right;\">\n",
              "      <th></th>\n",
              "      <th>Total Time Spent on Website</th>\n",
              "      <th>Lead Origin_Lead Add Form</th>\n",
              "      <th>What is your current occupation_Unemployed</th>\n",
              "      <th>What is your current occupation_Working Professional</th>\n",
              "      <th>Last Activity_Email Bounced</th>\n",
              "      <th>Last Activity_Olark Chat Conversation</th>\n",
              "      <th>Tags_Busy</th>\n",
              "      <th>Tags_Lost to EINS</th>\n",
              "      <th>Tags_Ringing</th>\n",
              "      <th>Tags_Will revert after reading the email</th>\n",
              "      <th>Tags_switched off</th>\n",
              "      <th>Last Notable Activity_SMS Sent</th>\n",
              "    </tr>\n",
              "  </thead>\n",
              "  <tbody>\n",
              "    <tr>\n",
              "      <th>6215</th>\n",
              "      <td>1.776642</td>\n",
              "      <td>0</td>\n",
              "      <td>1</td>\n",
              "      <td>0</td>\n",
              "      <td>0</td>\n",
              "      <td>0</td>\n",
              "      <td>0</td>\n",
              "      <td>0</td>\n",
              "      <td>0</td>\n",
              "      <td>1</td>\n",
              "      <td>0</td>\n",
              "      <td>0</td>\n",
              "    </tr>\n",
              "    <tr>\n",
              "      <th>2086</th>\n",
              "      <td>-0.877905</td>\n",
              "      <td>0</td>\n",
              "      <td>1</td>\n",
              "      <td>0</td>\n",
              "      <td>0</td>\n",
              "      <td>0</td>\n",
              "      <td>0</td>\n",
              "      <td>0</td>\n",
              "      <td>0</td>\n",
              "      <td>1</td>\n",
              "      <td>0</td>\n",
              "      <td>1</td>\n",
              "    </tr>\n",
              "    <tr>\n",
              "      <th>3257</th>\n",
              "      <td>-0.646276</td>\n",
              "      <td>0</td>\n",
              "      <td>1</td>\n",
              "      <td>0</td>\n",
              "      <td>0</td>\n",
              "      <td>0</td>\n",
              "      <td>0</td>\n",
              "      <td>0</td>\n",
              "      <td>0</td>\n",
              "      <td>1</td>\n",
              "      <td>0</td>\n",
              "      <td>0</td>\n",
              "    </tr>\n",
              "    <tr>\n",
              "      <th>1809</th>\n",
              "      <td>1.309706</td>\n",
              "      <td>0</td>\n",
              "      <td>1</td>\n",
              "      <td>0</td>\n",
              "      <td>0</td>\n",
              "      <td>0</td>\n",
              "      <td>0</td>\n",
              "      <td>0</td>\n",
              "      <td>0</td>\n",
              "      <td>0</td>\n",
              "      <td>0</td>\n",
              "      <td>0</td>\n",
              "    </tr>\n",
              "    <tr>\n",
              "      <th>3712</th>\n",
              "      <td>-0.127867</td>\n",
              "      <td>0</td>\n",
              "      <td>1</td>\n",
              "      <td>0</td>\n",
              "      <td>0</td>\n",
              "      <td>0</td>\n",
              "      <td>0</td>\n",
              "      <td>0</td>\n",
              "      <td>0</td>\n",
              "      <td>1</td>\n",
              "      <td>0</td>\n",
              "      <td>0</td>\n",
              "    </tr>\n",
              "  </tbody>\n",
              "</table>\n",
              "</div>\n",
              "      <button class=\"colab-df-convert\" onclick=\"convertToInteractive('df-4c98fd1b-d613-4902-bffc-9ff50dc8a316')\"\n",
              "              title=\"Convert this dataframe to an interactive table.\"\n",
              "              style=\"display:none;\">\n",
              "        \n",
              "  <svg xmlns=\"http://www.w3.org/2000/svg\" height=\"24px\"viewBox=\"0 0 24 24\"\n",
              "       width=\"24px\">\n",
              "    <path d=\"M0 0h24v24H0V0z\" fill=\"none\"/>\n",
              "    <path d=\"M18.56 5.44l.94 2.06.94-2.06 2.06-.94-2.06-.94-.94-2.06-.94 2.06-2.06.94zm-11 1L8.5 8.5l.94-2.06 2.06-.94-2.06-.94L8.5 2.5l-.94 2.06-2.06.94zm10 10l.94 2.06.94-2.06 2.06-.94-2.06-.94-.94-2.06-.94 2.06-2.06.94z\"/><path d=\"M17.41 7.96l-1.37-1.37c-.4-.4-.92-.59-1.43-.59-.52 0-1.04.2-1.43.59L10.3 9.45l-7.72 7.72c-.78.78-.78 2.05 0 2.83L4 21.41c.39.39.9.59 1.41.59.51 0 1.02-.2 1.41-.59l7.78-7.78 2.81-2.81c.8-.78.8-2.07 0-2.86zM5.41 20L4 18.59l7.72-7.72 1.47 1.35L5.41 20z\"/>\n",
              "  </svg>\n",
              "      </button>\n",
              "      \n",
              "  <style>\n",
              "    .colab-df-container {\n",
              "      display:flex;\n",
              "      flex-wrap:wrap;\n",
              "      gap: 12px;\n",
              "    }\n",
              "\n",
              "    .colab-df-convert {\n",
              "      background-color: #E8F0FE;\n",
              "      border: none;\n",
              "      border-radius: 50%;\n",
              "      cursor: pointer;\n",
              "      display: none;\n",
              "      fill: #1967D2;\n",
              "      height: 32px;\n",
              "      padding: 0 0 0 0;\n",
              "      width: 32px;\n",
              "    }\n",
              "\n",
              "    .colab-df-convert:hover {\n",
              "      background-color: #E2EBFA;\n",
              "      box-shadow: 0px 1px 2px rgba(60, 64, 67, 0.3), 0px 1px 3px 1px rgba(60, 64, 67, 0.15);\n",
              "      fill: #174EA6;\n",
              "    }\n",
              "\n",
              "    [theme=dark] .colab-df-convert {\n",
              "      background-color: #3B4455;\n",
              "      fill: #D2E3FC;\n",
              "    }\n",
              "\n",
              "    [theme=dark] .colab-df-convert:hover {\n",
              "      background-color: #434B5C;\n",
              "      box-shadow: 0px 1px 3px 1px rgba(0, 0, 0, 0.15);\n",
              "      filter: drop-shadow(0px 1px 2px rgba(0, 0, 0, 0.3));\n",
              "      fill: #FFFFFF;\n",
              "    }\n",
              "  </style>\n",
              "\n",
              "      <script>\n",
              "        const buttonEl =\n",
              "          document.querySelector('#df-4c98fd1b-d613-4902-bffc-9ff50dc8a316 button.colab-df-convert');\n",
              "        buttonEl.style.display =\n",
              "          google.colab.kernel.accessAllowed ? 'block' : 'none';\n",
              "\n",
              "        async function convertToInteractive(key) {\n",
              "          const element = document.querySelector('#df-4c98fd1b-d613-4902-bffc-9ff50dc8a316');\n",
              "          const dataTable =\n",
              "            await google.colab.kernel.invokeFunction('convertToInteractive',\n",
              "                                                     [key], {});\n",
              "          if (!dataTable) return;\n",
              "\n",
              "          const docLinkHtml = 'Like what you see? Visit the ' +\n",
              "            '<a target=\"_blank\" href=https://colab.research.google.com/notebooks/data_table.ipynb>data table notebook</a>'\n",
              "            + ' to learn more about interactive tables.';\n",
              "          element.innerHTML = '';\n",
              "          dataTable['output_type'] = 'display_data';\n",
              "          await google.colab.output.renderOutput(dataTable, element);\n",
              "          const docLink = document.createElement('div');\n",
              "          docLink.innerHTML = docLinkHtml;\n",
              "          element.appendChild(docLink);\n",
              "        }\n",
              "      </script>\n",
              "    </div>\n",
              "  </div>\n",
              "  "
            ]
          },
          "metadata": {},
          "execution_count": 383
        }
      ],
      "source": [
        "X_test = X_test[col]\n",
        "X_test.head()"
      ]
    },
    {
      "cell_type": "code",
      "execution_count": 384,
      "id": "ceb5e7a3",
      "metadata": {
        "id": "ceb5e7a3"
      },
      "outputs": [],
      "source": [
        "X_test_sm = sm.add_constant(X_test)"
      ]
    },
    {
      "cell_type": "code",
      "execution_count": 385,
      "id": "e84f69c4",
      "metadata": {
        "id": "e84f69c4"
      },
      "outputs": [],
      "source": [
        "y_test_pred = res.predict(X_test_sm)"
      ]
    },
    {
      "cell_type": "code",
      "execution_count": 386,
      "id": "ea160baf",
      "metadata": {
        "colab": {
          "base_uri": "https://localhost:8080/"
        },
        "id": "ea160baf",
        "outputId": "06e60192-4b31-4642-8eab-33d960f2bbfa"
      },
      "outputs": [
        {
          "output_type": "execute_result",
          "data": {
            "text/plain": [
              "6215    0.752234\n",
              "2086    0.672400\n",
              "3257    0.215055\n",
              "1809    0.240340\n",
              "3712    0.314302\n",
              "7755    0.208656\n",
              "3691    0.775102\n",
              "8049    0.729471\n",
              "335     0.956129\n",
              "2610    0.198887\n",
              "dtype: float64"
            ]
          },
          "metadata": {},
          "execution_count": 386
        }
      ],
      "source": [
        "y_test_pred[:10]"
      ]
    },
    {
      "cell_type": "code",
      "execution_count": 387,
      "id": "3cb9859c",
      "metadata": {
        "id": "3cb9859c"
      },
      "outputs": [],
      "source": [
        "# Converting y_pred to a dataframe which is an array\n",
        "y_pred_1 = pd.DataFrame(y_test_pred)"
      ]
    },
    {
      "cell_type": "code",
      "execution_count": 388,
      "id": "f19ffb1c",
      "metadata": {
        "colab": {
          "base_uri": "https://localhost:8080/",
          "height": 206
        },
        "id": "f19ffb1c",
        "outputId": "b990778e-e5f8-4adc-95bd-be8724c00c97"
      },
      "outputs": [
        {
          "output_type": "execute_result",
          "data": {
            "text/plain": [
              "             0\n",
              "6215  0.752234\n",
              "2086  0.672400\n",
              "3257  0.215055\n",
              "1809  0.240340\n",
              "3712  0.314302"
            ],
            "text/html": [
              "\n",
              "  <div id=\"df-032431bc-b9ee-488e-a5d9-606f1b007382\">\n",
              "    <div class=\"colab-df-container\">\n",
              "      <div>\n",
              "<style scoped>\n",
              "    .dataframe tbody tr th:only-of-type {\n",
              "        vertical-align: middle;\n",
              "    }\n",
              "\n",
              "    .dataframe tbody tr th {\n",
              "        vertical-align: top;\n",
              "    }\n",
              "\n",
              "    .dataframe thead th {\n",
              "        text-align: right;\n",
              "    }\n",
              "</style>\n",
              "<table border=\"1\" class=\"dataframe\">\n",
              "  <thead>\n",
              "    <tr style=\"text-align: right;\">\n",
              "      <th></th>\n",
              "      <th>0</th>\n",
              "    </tr>\n",
              "  </thead>\n",
              "  <tbody>\n",
              "    <tr>\n",
              "      <th>6215</th>\n",
              "      <td>0.752234</td>\n",
              "    </tr>\n",
              "    <tr>\n",
              "      <th>2086</th>\n",
              "      <td>0.672400</td>\n",
              "    </tr>\n",
              "    <tr>\n",
              "      <th>3257</th>\n",
              "      <td>0.215055</td>\n",
              "    </tr>\n",
              "    <tr>\n",
              "      <th>1809</th>\n",
              "      <td>0.240340</td>\n",
              "    </tr>\n",
              "    <tr>\n",
              "      <th>3712</th>\n",
              "      <td>0.314302</td>\n",
              "    </tr>\n",
              "  </tbody>\n",
              "</table>\n",
              "</div>\n",
              "      <button class=\"colab-df-convert\" onclick=\"convertToInteractive('df-032431bc-b9ee-488e-a5d9-606f1b007382')\"\n",
              "              title=\"Convert this dataframe to an interactive table.\"\n",
              "              style=\"display:none;\">\n",
              "        \n",
              "  <svg xmlns=\"http://www.w3.org/2000/svg\" height=\"24px\"viewBox=\"0 0 24 24\"\n",
              "       width=\"24px\">\n",
              "    <path d=\"M0 0h24v24H0V0z\" fill=\"none\"/>\n",
              "    <path d=\"M18.56 5.44l.94 2.06.94-2.06 2.06-.94-2.06-.94-.94-2.06-.94 2.06-2.06.94zm-11 1L8.5 8.5l.94-2.06 2.06-.94-2.06-.94L8.5 2.5l-.94 2.06-2.06.94zm10 10l.94 2.06.94-2.06 2.06-.94-2.06-.94-.94-2.06-.94 2.06-2.06.94z\"/><path d=\"M17.41 7.96l-1.37-1.37c-.4-.4-.92-.59-1.43-.59-.52 0-1.04.2-1.43.59L10.3 9.45l-7.72 7.72c-.78.78-.78 2.05 0 2.83L4 21.41c.39.39.9.59 1.41.59.51 0 1.02-.2 1.41-.59l7.78-7.78 2.81-2.81c.8-.78.8-2.07 0-2.86zM5.41 20L4 18.59l7.72-7.72 1.47 1.35L5.41 20z\"/>\n",
              "  </svg>\n",
              "      </button>\n",
              "      \n",
              "  <style>\n",
              "    .colab-df-container {\n",
              "      display:flex;\n",
              "      flex-wrap:wrap;\n",
              "      gap: 12px;\n",
              "    }\n",
              "\n",
              "    .colab-df-convert {\n",
              "      background-color: #E8F0FE;\n",
              "      border: none;\n",
              "      border-radius: 50%;\n",
              "      cursor: pointer;\n",
              "      display: none;\n",
              "      fill: #1967D2;\n",
              "      height: 32px;\n",
              "      padding: 0 0 0 0;\n",
              "      width: 32px;\n",
              "    }\n",
              "\n",
              "    .colab-df-convert:hover {\n",
              "      background-color: #E2EBFA;\n",
              "      box-shadow: 0px 1px 2px rgba(60, 64, 67, 0.3), 0px 1px 3px 1px rgba(60, 64, 67, 0.15);\n",
              "      fill: #174EA6;\n",
              "    }\n",
              "\n",
              "    [theme=dark] .colab-df-convert {\n",
              "      background-color: #3B4455;\n",
              "      fill: #D2E3FC;\n",
              "    }\n",
              "\n",
              "    [theme=dark] .colab-df-convert:hover {\n",
              "      background-color: #434B5C;\n",
              "      box-shadow: 0px 1px 3px 1px rgba(0, 0, 0, 0.15);\n",
              "      filter: drop-shadow(0px 1px 2px rgba(0, 0, 0, 0.3));\n",
              "      fill: #FFFFFF;\n",
              "    }\n",
              "  </style>\n",
              "\n",
              "      <script>\n",
              "        const buttonEl =\n",
              "          document.querySelector('#df-032431bc-b9ee-488e-a5d9-606f1b007382 button.colab-df-convert');\n",
              "        buttonEl.style.display =\n",
              "          google.colab.kernel.accessAllowed ? 'block' : 'none';\n",
              "\n",
              "        async function convertToInteractive(key) {\n",
              "          const element = document.querySelector('#df-032431bc-b9ee-488e-a5d9-606f1b007382');\n",
              "          const dataTable =\n",
              "            await google.colab.kernel.invokeFunction('convertToInteractive',\n",
              "                                                     [key], {});\n",
              "          if (!dataTable) return;\n",
              "\n",
              "          const docLinkHtml = 'Like what you see? Visit the ' +\n",
              "            '<a target=\"_blank\" href=https://colab.research.google.com/notebooks/data_table.ipynb>data table notebook</a>'\n",
              "            + ' to learn more about interactive tables.';\n",
              "          element.innerHTML = '';\n",
              "          dataTable['output_type'] = 'display_data';\n",
              "          await google.colab.output.renderOutput(dataTable, element);\n",
              "          const docLink = document.createElement('div');\n",
              "          docLink.innerHTML = docLinkHtml;\n",
              "          element.appendChild(docLink);\n",
              "        }\n",
              "      </script>\n",
              "    </div>\n",
              "  </div>\n",
              "  "
            ]
          },
          "metadata": {},
          "execution_count": 388
        }
      ],
      "source": [
        "# Let's see the head\n",
        "y_pred_1.head()"
      ]
    },
    {
      "cell_type": "code",
      "execution_count": 389,
      "id": "d0001785",
      "metadata": {
        "id": "d0001785"
      },
      "outputs": [],
      "source": [
        "# Converting y_test to dataframe\n",
        "y_test_df = pd.DataFrame(y_test)"
      ]
    },
    {
      "cell_type": "code",
      "execution_count": 390,
      "id": "f625ab22",
      "metadata": {
        "id": "f625ab22"
      },
      "outputs": [],
      "source": [
        "# Putting CustID to index\n",
        "y_test_df['Prospect ID'] = y_test_df.index"
      ]
    },
    {
      "cell_type": "code",
      "execution_count": 391,
      "id": "cbbe13cb",
      "metadata": {
        "id": "cbbe13cb"
      },
      "outputs": [],
      "source": [
        "# Removing index for both dataframes to append them side by side \n",
        "y_pred_1.reset_index(drop=True, inplace=True)\n",
        "y_test_df.reset_index(drop=True, inplace=True)"
      ]
    },
    {
      "cell_type": "code",
      "execution_count": 392,
      "id": "155278c4",
      "metadata": {
        "id": "155278c4"
      },
      "outputs": [],
      "source": [
        "# Appending y_test_df and y_pred_1\n",
        "y_pred_final = pd.concat([y_test_df, y_pred_1],axis=1)"
      ]
    },
    {
      "cell_type": "code",
      "execution_count": 393,
      "id": "4469e55e",
      "metadata": {
        "colab": {
          "base_uri": "https://localhost:8080/",
          "height": 206
        },
        "id": "4469e55e",
        "outputId": "17422910-ac9f-4607-e6f3-4caf6044d07a"
      },
      "outputs": [
        {
          "output_type": "execute_result",
          "data": {
            "text/plain": [
              "   Converted  Prospect ID         0\n",
              "0          0         6215  0.752234\n",
              "1          1         2086  0.672400\n",
              "2          0         3257  0.215055\n",
              "3          1         1809  0.240340\n",
              "4          0         3712  0.314302"
            ],
            "text/html": [
              "\n",
              "  <div id=\"df-5c0b09ce-b0d6-427c-a6ee-caf08631f38f\">\n",
              "    <div class=\"colab-df-container\">\n",
              "      <div>\n",
              "<style scoped>\n",
              "    .dataframe tbody tr th:only-of-type {\n",
              "        vertical-align: middle;\n",
              "    }\n",
              "\n",
              "    .dataframe tbody tr th {\n",
              "        vertical-align: top;\n",
              "    }\n",
              "\n",
              "    .dataframe thead th {\n",
              "        text-align: right;\n",
              "    }\n",
              "</style>\n",
              "<table border=\"1\" class=\"dataframe\">\n",
              "  <thead>\n",
              "    <tr style=\"text-align: right;\">\n",
              "      <th></th>\n",
              "      <th>Converted</th>\n",
              "      <th>Prospect ID</th>\n",
              "      <th>0</th>\n",
              "    </tr>\n",
              "  </thead>\n",
              "  <tbody>\n",
              "    <tr>\n",
              "      <th>0</th>\n",
              "      <td>0</td>\n",
              "      <td>6215</td>\n",
              "      <td>0.752234</td>\n",
              "    </tr>\n",
              "    <tr>\n",
              "      <th>1</th>\n",
              "      <td>1</td>\n",
              "      <td>2086</td>\n",
              "      <td>0.672400</td>\n",
              "    </tr>\n",
              "    <tr>\n",
              "      <th>2</th>\n",
              "      <td>0</td>\n",
              "      <td>3257</td>\n",
              "      <td>0.215055</td>\n",
              "    </tr>\n",
              "    <tr>\n",
              "      <th>3</th>\n",
              "      <td>1</td>\n",
              "      <td>1809</td>\n",
              "      <td>0.240340</td>\n",
              "    </tr>\n",
              "    <tr>\n",
              "      <th>4</th>\n",
              "      <td>0</td>\n",
              "      <td>3712</td>\n",
              "      <td>0.314302</td>\n",
              "    </tr>\n",
              "  </tbody>\n",
              "</table>\n",
              "</div>\n",
              "      <button class=\"colab-df-convert\" onclick=\"convertToInteractive('df-5c0b09ce-b0d6-427c-a6ee-caf08631f38f')\"\n",
              "              title=\"Convert this dataframe to an interactive table.\"\n",
              "              style=\"display:none;\">\n",
              "        \n",
              "  <svg xmlns=\"http://www.w3.org/2000/svg\" height=\"24px\"viewBox=\"0 0 24 24\"\n",
              "       width=\"24px\">\n",
              "    <path d=\"M0 0h24v24H0V0z\" fill=\"none\"/>\n",
              "    <path d=\"M18.56 5.44l.94 2.06.94-2.06 2.06-.94-2.06-.94-.94-2.06-.94 2.06-2.06.94zm-11 1L8.5 8.5l.94-2.06 2.06-.94-2.06-.94L8.5 2.5l-.94 2.06-2.06.94zm10 10l.94 2.06.94-2.06 2.06-.94-2.06-.94-.94-2.06-.94 2.06-2.06.94z\"/><path d=\"M17.41 7.96l-1.37-1.37c-.4-.4-.92-.59-1.43-.59-.52 0-1.04.2-1.43.59L10.3 9.45l-7.72 7.72c-.78.78-.78 2.05 0 2.83L4 21.41c.39.39.9.59 1.41.59.51 0 1.02-.2 1.41-.59l7.78-7.78 2.81-2.81c.8-.78.8-2.07 0-2.86zM5.41 20L4 18.59l7.72-7.72 1.47 1.35L5.41 20z\"/>\n",
              "  </svg>\n",
              "      </button>\n",
              "      \n",
              "  <style>\n",
              "    .colab-df-container {\n",
              "      display:flex;\n",
              "      flex-wrap:wrap;\n",
              "      gap: 12px;\n",
              "    }\n",
              "\n",
              "    .colab-df-convert {\n",
              "      background-color: #E8F0FE;\n",
              "      border: none;\n",
              "      border-radius: 50%;\n",
              "      cursor: pointer;\n",
              "      display: none;\n",
              "      fill: #1967D2;\n",
              "      height: 32px;\n",
              "      padding: 0 0 0 0;\n",
              "      width: 32px;\n",
              "    }\n",
              "\n",
              "    .colab-df-convert:hover {\n",
              "      background-color: #E2EBFA;\n",
              "      box-shadow: 0px 1px 2px rgba(60, 64, 67, 0.3), 0px 1px 3px 1px rgba(60, 64, 67, 0.15);\n",
              "      fill: #174EA6;\n",
              "    }\n",
              "\n",
              "    [theme=dark] .colab-df-convert {\n",
              "      background-color: #3B4455;\n",
              "      fill: #D2E3FC;\n",
              "    }\n",
              "\n",
              "    [theme=dark] .colab-df-convert:hover {\n",
              "      background-color: #434B5C;\n",
              "      box-shadow: 0px 1px 3px 1px rgba(0, 0, 0, 0.15);\n",
              "      filter: drop-shadow(0px 1px 2px rgba(0, 0, 0, 0.3));\n",
              "      fill: #FFFFFF;\n",
              "    }\n",
              "  </style>\n",
              "\n",
              "      <script>\n",
              "        const buttonEl =\n",
              "          document.querySelector('#df-5c0b09ce-b0d6-427c-a6ee-caf08631f38f button.colab-df-convert');\n",
              "        buttonEl.style.display =\n",
              "          google.colab.kernel.accessAllowed ? 'block' : 'none';\n",
              "\n",
              "        async function convertToInteractive(key) {\n",
              "          const element = document.querySelector('#df-5c0b09ce-b0d6-427c-a6ee-caf08631f38f');\n",
              "          const dataTable =\n",
              "            await google.colab.kernel.invokeFunction('convertToInteractive',\n",
              "                                                     [key], {});\n",
              "          if (!dataTable) return;\n",
              "\n",
              "          const docLinkHtml = 'Like what you see? Visit the ' +\n",
              "            '<a target=\"_blank\" href=https://colab.research.google.com/notebooks/data_table.ipynb>data table notebook</a>'\n",
              "            + ' to learn more about interactive tables.';\n",
              "          element.innerHTML = '';\n",
              "          dataTable['output_type'] = 'display_data';\n",
              "          await google.colab.output.renderOutput(dataTable, element);\n",
              "          const docLink = document.createElement('div');\n",
              "          docLink.innerHTML = docLinkHtml;\n",
              "          element.appendChild(docLink);\n",
              "        }\n",
              "      </script>\n",
              "    </div>\n",
              "  </div>\n",
              "  "
            ]
          },
          "metadata": {},
          "execution_count": 393
        }
      ],
      "source": [
        "y_pred_final.head()"
      ]
    },
    {
      "cell_type": "code",
      "execution_count": 394,
      "id": "e0e85b36",
      "metadata": {
        "id": "e0e85b36"
      },
      "outputs": [],
      "source": [
        "# Renaming the column \n",
        "y_pred_final= y_pred_final.rename(columns={ 0 : 'Converted_prob'})"
      ]
    },
    {
      "cell_type": "code",
      "execution_count": 395,
      "id": "3f343250",
      "metadata": {
        "colab": {
          "base_uri": "https://localhost:8080/",
          "height": 206
        },
        "id": "3f343250",
        "outputId": "c63a5505-1f4a-4599-82f7-498d57f8f7f4"
      },
      "outputs": [
        {
          "output_type": "execute_result",
          "data": {
            "text/plain": [
              "   Converted  Prospect ID  Converted_prob\n",
              "0          0         6215        0.752234\n",
              "1          1         2086        0.672400\n",
              "2          0         3257        0.215055\n",
              "3          1         1809        0.240340\n",
              "4          0         3712        0.314302"
            ],
            "text/html": [
              "\n",
              "  <div id=\"df-b977f366-2ac4-46d8-b980-53d163189ce7\">\n",
              "    <div class=\"colab-df-container\">\n",
              "      <div>\n",
              "<style scoped>\n",
              "    .dataframe tbody tr th:only-of-type {\n",
              "        vertical-align: middle;\n",
              "    }\n",
              "\n",
              "    .dataframe tbody tr th {\n",
              "        vertical-align: top;\n",
              "    }\n",
              "\n",
              "    .dataframe thead th {\n",
              "        text-align: right;\n",
              "    }\n",
              "</style>\n",
              "<table border=\"1\" class=\"dataframe\">\n",
              "  <thead>\n",
              "    <tr style=\"text-align: right;\">\n",
              "      <th></th>\n",
              "      <th>Converted</th>\n",
              "      <th>Prospect ID</th>\n",
              "      <th>Converted_prob</th>\n",
              "    </tr>\n",
              "  </thead>\n",
              "  <tbody>\n",
              "    <tr>\n",
              "      <th>0</th>\n",
              "      <td>0</td>\n",
              "      <td>6215</td>\n",
              "      <td>0.752234</td>\n",
              "    </tr>\n",
              "    <tr>\n",
              "      <th>1</th>\n",
              "      <td>1</td>\n",
              "      <td>2086</td>\n",
              "      <td>0.672400</td>\n",
              "    </tr>\n",
              "    <tr>\n",
              "      <th>2</th>\n",
              "      <td>0</td>\n",
              "      <td>3257</td>\n",
              "      <td>0.215055</td>\n",
              "    </tr>\n",
              "    <tr>\n",
              "      <th>3</th>\n",
              "      <td>1</td>\n",
              "      <td>1809</td>\n",
              "      <td>0.240340</td>\n",
              "    </tr>\n",
              "    <tr>\n",
              "      <th>4</th>\n",
              "      <td>0</td>\n",
              "      <td>3712</td>\n",
              "      <td>0.314302</td>\n",
              "    </tr>\n",
              "  </tbody>\n",
              "</table>\n",
              "</div>\n",
              "      <button class=\"colab-df-convert\" onclick=\"convertToInteractive('df-b977f366-2ac4-46d8-b980-53d163189ce7')\"\n",
              "              title=\"Convert this dataframe to an interactive table.\"\n",
              "              style=\"display:none;\">\n",
              "        \n",
              "  <svg xmlns=\"http://www.w3.org/2000/svg\" height=\"24px\"viewBox=\"0 0 24 24\"\n",
              "       width=\"24px\">\n",
              "    <path d=\"M0 0h24v24H0V0z\" fill=\"none\"/>\n",
              "    <path d=\"M18.56 5.44l.94 2.06.94-2.06 2.06-.94-2.06-.94-.94-2.06-.94 2.06-2.06.94zm-11 1L8.5 8.5l.94-2.06 2.06-.94-2.06-.94L8.5 2.5l-.94 2.06-2.06.94zm10 10l.94 2.06.94-2.06 2.06-.94-2.06-.94-.94-2.06-.94 2.06-2.06.94z\"/><path d=\"M17.41 7.96l-1.37-1.37c-.4-.4-.92-.59-1.43-.59-.52 0-1.04.2-1.43.59L10.3 9.45l-7.72 7.72c-.78.78-.78 2.05 0 2.83L4 21.41c.39.39.9.59 1.41.59.51 0 1.02-.2 1.41-.59l7.78-7.78 2.81-2.81c.8-.78.8-2.07 0-2.86zM5.41 20L4 18.59l7.72-7.72 1.47 1.35L5.41 20z\"/>\n",
              "  </svg>\n",
              "      </button>\n",
              "      \n",
              "  <style>\n",
              "    .colab-df-container {\n",
              "      display:flex;\n",
              "      flex-wrap:wrap;\n",
              "      gap: 12px;\n",
              "    }\n",
              "\n",
              "    .colab-df-convert {\n",
              "      background-color: #E8F0FE;\n",
              "      border: none;\n",
              "      border-radius: 50%;\n",
              "      cursor: pointer;\n",
              "      display: none;\n",
              "      fill: #1967D2;\n",
              "      height: 32px;\n",
              "      padding: 0 0 0 0;\n",
              "      width: 32px;\n",
              "    }\n",
              "\n",
              "    .colab-df-convert:hover {\n",
              "      background-color: #E2EBFA;\n",
              "      box-shadow: 0px 1px 2px rgba(60, 64, 67, 0.3), 0px 1px 3px 1px rgba(60, 64, 67, 0.15);\n",
              "      fill: #174EA6;\n",
              "    }\n",
              "\n",
              "    [theme=dark] .colab-df-convert {\n",
              "      background-color: #3B4455;\n",
              "      fill: #D2E3FC;\n",
              "    }\n",
              "\n",
              "    [theme=dark] .colab-df-convert:hover {\n",
              "      background-color: #434B5C;\n",
              "      box-shadow: 0px 1px 3px 1px rgba(0, 0, 0, 0.15);\n",
              "      filter: drop-shadow(0px 1px 2px rgba(0, 0, 0, 0.3));\n",
              "      fill: #FFFFFF;\n",
              "    }\n",
              "  </style>\n",
              "\n",
              "      <script>\n",
              "        const buttonEl =\n",
              "          document.querySelector('#df-b977f366-2ac4-46d8-b980-53d163189ce7 button.colab-df-convert');\n",
              "        buttonEl.style.display =\n",
              "          google.colab.kernel.accessAllowed ? 'block' : 'none';\n",
              "\n",
              "        async function convertToInteractive(key) {\n",
              "          const element = document.querySelector('#df-b977f366-2ac4-46d8-b980-53d163189ce7');\n",
              "          const dataTable =\n",
              "            await google.colab.kernel.invokeFunction('convertToInteractive',\n",
              "                                                     [key], {});\n",
              "          if (!dataTable) return;\n",
              "\n",
              "          const docLinkHtml = 'Like what you see? Visit the ' +\n",
              "            '<a target=\"_blank\" href=https://colab.research.google.com/notebooks/data_table.ipynb>data table notebook</a>'\n",
              "            + ' to learn more about interactive tables.';\n",
              "          element.innerHTML = '';\n",
              "          dataTable['output_type'] = 'display_data';\n",
              "          await google.colab.output.renderOutput(dataTable, element);\n",
              "          const docLink = document.createElement('div');\n",
              "          docLink.innerHTML = docLinkHtml;\n",
              "          element.appendChild(docLink);\n",
              "        }\n",
              "      </script>\n",
              "    </div>\n",
              "  </div>\n",
              "  "
            ]
          },
          "metadata": {},
          "execution_count": 395
        }
      ],
      "source": [
        "y_pred_final.head()"
      ]
    },
    {
      "cell_type": "code",
      "execution_count": 396,
      "id": "ef6ad058",
      "metadata": {
        "id": "ef6ad058"
      },
      "outputs": [],
      "source": [
        "# Rearranging the columns\n",
        "y_pred_final = y_pred_final[['Prospect ID','Converted','Converted_prob']]\n",
        "y_pred_final['Lead_Score'] = y_pred_final.Converted_prob.map( lambda x: round(x*100))"
      ]
    },
    {
      "cell_type": "code",
      "execution_count": 397,
      "id": "6464717f",
      "metadata": {
        "colab": {
          "base_uri": "https://localhost:8080/",
          "height": 206
        },
        "id": "6464717f",
        "outputId": "c9f6efd2-baab-417b-f1ef-c5e598f20b44"
      },
      "outputs": [
        {
          "output_type": "execute_result",
          "data": {
            "text/plain": [
              "   Prospect ID  Converted  Converted_prob  Lead_Score\n",
              "0         6215          0        0.752234          75\n",
              "1         2086          1        0.672400          67\n",
              "2         3257          0        0.215055          22\n",
              "3         1809          1        0.240340          24\n",
              "4         3712          0        0.314302          31"
            ],
            "text/html": [
              "\n",
              "  <div id=\"df-ffec4127-8159-45bc-9b7c-68883b8f184c\">\n",
              "    <div class=\"colab-df-container\">\n",
              "      <div>\n",
              "<style scoped>\n",
              "    .dataframe tbody tr th:only-of-type {\n",
              "        vertical-align: middle;\n",
              "    }\n",
              "\n",
              "    .dataframe tbody tr th {\n",
              "        vertical-align: top;\n",
              "    }\n",
              "\n",
              "    .dataframe thead th {\n",
              "        text-align: right;\n",
              "    }\n",
              "</style>\n",
              "<table border=\"1\" class=\"dataframe\">\n",
              "  <thead>\n",
              "    <tr style=\"text-align: right;\">\n",
              "      <th></th>\n",
              "      <th>Prospect ID</th>\n",
              "      <th>Converted</th>\n",
              "      <th>Converted_prob</th>\n",
              "      <th>Lead_Score</th>\n",
              "    </tr>\n",
              "  </thead>\n",
              "  <tbody>\n",
              "    <tr>\n",
              "      <th>0</th>\n",
              "      <td>6215</td>\n",
              "      <td>0</td>\n",
              "      <td>0.752234</td>\n",
              "      <td>75</td>\n",
              "    </tr>\n",
              "    <tr>\n",
              "      <th>1</th>\n",
              "      <td>2086</td>\n",
              "      <td>1</td>\n",
              "      <td>0.672400</td>\n",
              "      <td>67</td>\n",
              "    </tr>\n",
              "    <tr>\n",
              "      <th>2</th>\n",
              "      <td>3257</td>\n",
              "      <td>0</td>\n",
              "      <td>0.215055</td>\n",
              "      <td>22</td>\n",
              "    </tr>\n",
              "    <tr>\n",
              "      <th>3</th>\n",
              "      <td>1809</td>\n",
              "      <td>1</td>\n",
              "      <td>0.240340</td>\n",
              "      <td>24</td>\n",
              "    </tr>\n",
              "    <tr>\n",
              "      <th>4</th>\n",
              "      <td>3712</td>\n",
              "      <td>0</td>\n",
              "      <td>0.314302</td>\n",
              "      <td>31</td>\n",
              "    </tr>\n",
              "  </tbody>\n",
              "</table>\n",
              "</div>\n",
              "      <button class=\"colab-df-convert\" onclick=\"convertToInteractive('df-ffec4127-8159-45bc-9b7c-68883b8f184c')\"\n",
              "              title=\"Convert this dataframe to an interactive table.\"\n",
              "              style=\"display:none;\">\n",
              "        \n",
              "  <svg xmlns=\"http://www.w3.org/2000/svg\" height=\"24px\"viewBox=\"0 0 24 24\"\n",
              "       width=\"24px\">\n",
              "    <path d=\"M0 0h24v24H0V0z\" fill=\"none\"/>\n",
              "    <path d=\"M18.56 5.44l.94 2.06.94-2.06 2.06-.94-2.06-.94-.94-2.06-.94 2.06-2.06.94zm-11 1L8.5 8.5l.94-2.06 2.06-.94-2.06-.94L8.5 2.5l-.94 2.06-2.06.94zm10 10l.94 2.06.94-2.06 2.06-.94-2.06-.94-.94-2.06-.94 2.06-2.06.94z\"/><path d=\"M17.41 7.96l-1.37-1.37c-.4-.4-.92-.59-1.43-.59-.52 0-1.04.2-1.43.59L10.3 9.45l-7.72 7.72c-.78.78-.78 2.05 0 2.83L4 21.41c.39.39.9.59 1.41.59.51 0 1.02-.2 1.41-.59l7.78-7.78 2.81-2.81c.8-.78.8-2.07 0-2.86zM5.41 20L4 18.59l7.72-7.72 1.47 1.35L5.41 20z\"/>\n",
              "  </svg>\n",
              "      </button>\n",
              "      \n",
              "  <style>\n",
              "    .colab-df-container {\n",
              "      display:flex;\n",
              "      flex-wrap:wrap;\n",
              "      gap: 12px;\n",
              "    }\n",
              "\n",
              "    .colab-df-convert {\n",
              "      background-color: #E8F0FE;\n",
              "      border: none;\n",
              "      border-radius: 50%;\n",
              "      cursor: pointer;\n",
              "      display: none;\n",
              "      fill: #1967D2;\n",
              "      height: 32px;\n",
              "      padding: 0 0 0 0;\n",
              "      width: 32px;\n",
              "    }\n",
              "\n",
              "    .colab-df-convert:hover {\n",
              "      background-color: #E2EBFA;\n",
              "      box-shadow: 0px 1px 2px rgba(60, 64, 67, 0.3), 0px 1px 3px 1px rgba(60, 64, 67, 0.15);\n",
              "      fill: #174EA6;\n",
              "    }\n",
              "\n",
              "    [theme=dark] .colab-df-convert {\n",
              "      background-color: #3B4455;\n",
              "      fill: #D2E3FC;\n",
              "    }\n",
              "\n",
              "    [theme=dark] .colab-df-convert:hover {\n",
              "      background-color: #434B5C;\n",
              "      box-shadow: 0px 1px 3px 1px rgba(0, 0, 0, 0.15);\n",
              "      filter: drop-shadow(0px 1px 2px rgba(0, 0, 0, 0.3));\n",
              "      fill: #FFFFFF;\n",
              "    }\n",
              "  </style>\n",
              "\n",
              "      <script>\n",
              "        const buttonEl =\n",
              "          document.querySelector('#df-ffec4127-8159-45bc-9b7c-68883b8f184c button.colab-df-convert');\n",
              "        buttonEl.style.display =\n",
              "          google.colab.kernel.accessAllowed ? 'block' : 'none';\n",
              "\n",
              "        async function convertToInteractive(key) {\n",
              "          const element = document.querySelector('#df-ffec4127-8159-45bc-9b7c-68883b8f184c');\n",
              "          const dataTable =\n",
              "            await google.colab.kernel.invokeFunction('convertToInteractive',\n",
              "                                                     [key], {});\n",
              "          if (!dataTable) return;\n",
              "\n",
              "          const docLinkHtml = 'Like what you see? Visit the ' +\n",
              "            '<a target=\"_blank\" href=https://colab.research.google.com/notebooks/data_table.ipynb>data table notebook</a>'\n",
              "            + ' to learn more about interactive tables.';\n",
              "          element.innerHTML = '';\n",
              "          dataTable['output_type'] = 'display_data';\n",
              "          await google.colab.output.renderOutput(dataTable, element);\n",
              "          const docLink = document.createElement('div');\n",
              "          docLink.innerHTML = docLinkHtml;\n",
              "          element.appendChild(docLink);\n",
              "        }\n",
              "      </script>\n",
              "    </div>\n",
              "  </div>\n",
              "  "
            ]
          },
          "metadata": {},
          "execution_count": 397
        }
      ],
      "source": [
        "# Let's see the head of y_pred_final\n",
        "y_pred_final.head()"
      ]
    },
    {
      "cell_type": "code",
      "execution_count": 398,
      "id": "9b5c93d1",
      "metadata": {
        "colab": {
          "base_uri": "https://localhost:8080/",
          "height": 206
        },
        "id": "9b5c93d1",
        "outputId": "bdb8a25b-28a0-4ce0-c6e9-142f3190d595"
      },
      "outputs": [
        {
          "output_type": "execute_result",
          "data": {
            "text/plain": [
              "   Prospect ID  Converted  Converted_prob  Lead_Score  final_Predicted\n",
              "0         6215          0        0.752234          75                1\n",
              "1         2086          1        0.672400          67                1\n",
              "2         3257          0        0.215055          22                0\n",
              "3         1809          1        0.240340          24                0\n",
              "4         3712          0        0.314302          31                1"
            ],
            "text/html": [
              "\n",
              "  <div id=\"df-f99ec638-9bb1-4379-bc46-163a5ffcd0af\">\n",
              "    <div class=\"colab-df-container\">\n",
              "      <div>\n",
              "<style scoped>\n",
              "    .dataframe tbody tr th:only-of-type {\n",
              "        vertical-align: middle;\n",
              "    }\n",
              "\n",
              "    .dataframe tbody tr th {\n",
              "        vertical-align: top;\n",
              "    }\n",
              "\n",
              "    .dataframe thead th {\n",
              "        text-align: right;\n",
              "    }\n",
              "</style>\n",
              "<table border=\"1\" class=\"dataframe\">\n",
              "  <thead>\n",
              "    <tr style=\"text-align: right;\">\n",
              "      <th></th>\n",
              "      <th>Prospect ID</th>\n",
              "      <th>Converted</th>\n",
              "      <th>Converted_prob</th>\n",
              "      <th>Lead_Score</th>\n",
              "      <th>final_Predicted</th>\n",
              "    </tr>\n",
              "  </thead>\n",
              "  <tbody>\n",
              "    <tr>\n",
              "      <th>0</th>\n",
              "      <td>6215</td>\n",
              "      <td>0</td>\n",
              "      <td>0.752234</td>\n",
              "      <td>75</td>\n",
              "      <td>1</td>\n",
              "    </tr>\n",
              "    <tr>\n",
              "      <th>1</th>\n",
              "      <td>2086</td>\n",
              "      <td>1</td>\n",
              "      <td>0.672400</td>\n",
              "      <td>67</td>\n",
              "      <td>1</td>\n",
              "    </tr>\n",
              "    <tr>\n",
              "      <th>2</th>\n",
              "      <td>3257</td>\n",
              "      <td>0</td>\n",
              "      <td>0.215055</td>\n",
              "      <td>22</td>\n",
              "      <td>0</td>\n",
              "    </tr>\n",
              "    <tr>\n",
              "      <th>3</th>\n",
              "      <td>1809</td>\n",
              "      <td>1</td>\n",
              "      <td>0.240340</td>\n",
              "      <td>24</td>\n",
              "      <td>0</td>\n",
              "    </tr>\n",
              "    <tr>\n",
              "      <th>4</th>\n",
              "      <td>3712</td>\n",
              "      <td>0</td>\n",
              "      <td>0.314302</td>\n",
              "      <td>31</td>\n",
              "      <td>1</td>\n",
              "    </tr>\n",
              "  </tbody>\n",
              "</table>\n",
              "</div>\n",
              "      <button class=\"colab-df-convert\" onclick=\"convertToInteractive('df-f99ec638-9bb1-4379-bc46-163a5ffcd0af')\"\n",
              "              title=\"Convert this dataframe to an interactive table.\"\n",
              "              style=\"display:none;\">\n",
              "        \n",
              "  <svg xmlns=\"http://www.w3.org/2000/svg\" height=\"24px\"viewBox=\"0 0 24 24\"\n",
              "       width=\"24px\">\n",
              "    <path d=\"M0 0h24v24H0V0z\" fill=\"none\"/>\n",
              "    <path d=\"M18.56 5.44l.94 2.06.94-2.06 2.06-.94-2.06-.94-.94-2.06-.94 2.06-2.06.94zm-11 1L8.5 8.5l.94-2.06 2.06-.94-2.06-.94L8.5 2.5l-.94 2.06-2.06.94zm10 10l.94 2.06.94-2.06 2.06-.94-2.06-.94-.94-2.06-.94 2.06-2.06.94z\"/><path d=\"M17.41 7.96l-1.37-1.37c-.4-.4-.92-.59-1.43-.59-.52 0-1.04.2-1.43.59L10.3 9.45l-7.72 7.72c-.78.78-.78 2.05 0 2.83L4 21.41c.39.39.9.59 1.41.59.51 0 1.02-.2 1.41-.59l7.78-7.78 2.81-2.81c.8-.78.8-2.07 0-2.86zM5.41 20L4 18.59l7.72-7.72 1.47 1.35L5.41 20z\"/>\n",
              "  </svg>\n",
              "      </button>\n",
              "      \n",
              "  <style>\n",
              "    .colab-df-container {\n",
              "      display:flex;\n",
              "      flex-wrap:wrap;\n",
              "      gap: 12px;\n",
              "    }\n",
              "\n",
              "    .colab-df-convert {\n",
              "      background-color: #E8F0FE;\n",
              "      border: none;\n",
              "      border-radius: 50%;\n",
              "      cursor: pointer;\n",
              "      display: none;\n",
              "      fill: #1967D2;\n",
              "      height: 32px;\n",
              "      padding: 0 0 0 0;\n",
              "      width: 32px;\n",
              "    }\n",
              "\n",
              "    .colab-df-convert:hover {\n",
              "      background-color: #E2EBFA;\n",
              "      box-shadow: 0px 1px 2px rgba(60, 64, 67, 0.3), 0px 1px 3px 1px rgba(60, 64, 67, 0.15);\n",
              "      fill: #174EA6;\n",
              "    }\n",
              "\n",
              "    [theme=dark] .colab-df-convert {\n",
              "      background-color: #3B4455;\n",
              "      fill: #D2E3FC;\n",
              "    }\n",
              "\n",
              "    [theme=dark] .colab-df-convert:hover {\n",
              "      background-color: #434B5C;\n",
              "      box-shadow: 0px 1px 3px 1px rgba(0, 0, 0, 0.15);\n",
              "      filter: drop-shadow(0px 1px 2px rgba(0, 0, 0, 0.3));\n",
              "      fill: #FFFFFF;\n",
              "    }\n",
              "  </style>\n",
              "\n",
              "      <script>\n",
              "        const buttonEl =\n",
              "          document.querySelector('#df-f99ec638-9bb1-4379-bc46-163a5ffcd0af button.colab-df-convert');\n",
              "        buttonEl.style.display =\n",
              "          google.colab.kernel.accessAllowed ? 'block' : 'none';\n",
              "\n",
              "        async function convertToInteractive(key) {\n",
              "          const element = document.querySelector('#df-f99ec638-9bb1-4379-bc46-163a5ffcd0af');\n",
              "          const dataTable =\n",
              "            await google.colab.kernel.invokeFunction('convertToInteractive',\n",
              "                                                     [key], {});\n",
              "          if (!dataTable) return;\n",
              "\n",
              "          const docLinkHtml = 'Like what you see? Visit the ' +\n",
              "            '<a target=\"_blank\" href=https://colab.research.google.com/notebooks/data_table.ipynb>data table notebook</a>'\n",
              "            + ' to learn more about interactive tables.';\n",
              "          element.innerHTML = '';\n",
              "          dataTable['output_type'] = 'display_data';\n",
              "          await google.colab.output.renderOutput(dataTable, element);\n",
              "          const docLink = document.createElement('div');\n",
              "          docLink.innerHTML = docLinkHtml;\n",
              "          element.appendChild(docLink);\n",
              "        }\n",
              "      </script>\n",
              "    </div>\n",
              "  </div>\n",
              "  "
            ]
          },
          "metadata": {},
          "execution_count": 398
        }
      ],
      "source": [
        "y_pred_final['final_Predicted'] = y_pred_final.Converted_prob.map(lambda x: 1 if x > 0.3 else 0)\n",
        "y_pred_final.head()"
      ]
    },
    {
      "cell_type": "code",
      "execution_count": 399,
      "id": "81726d56",
      "metadata": {
        "colab": {
          "base_uri": "https://localhost:8080/"
        },
        "id": "81726d56",
        "outputId": "feb95f0f-0527-4d95-ec8f-df25b8987375"
      },
      "outputs": [
        {
          "output_type": "execute_result",
          "data": {
            "text/plain": [
              "0.8573562359970127"
            ]
          },
          "metadata": {},
          "execution_count": 399
        }
      ],
      "source": [
        "# Let's check the overall accuracy.\n",
        "metrics.accuracy_score(y_pred_final.Converted, y_pred_final.final_Predicted)"
      ]
    },
    {
      "cell_type": "code",
      "execution_count": 400,
      "id": "3047d430",
      "metadata": {
        "colab": {
          "base_uri": "https://localhost:8080/"
        },
        "id": "3047d430",
        "outputId": "837b9385-41ff-4213-c3da-0bf2c6fe71e5"
      },
      "outputs": [
        {
          "output_type": "execute_result",
          "data": {
            "text/plain": [
              "array([[1449,  246],\n",
              "       [ 136,  847]])"
            ]
          },
          "metadata": {},
          "execution_count": 400
        }
      ],
      "source": [
        "confusion2 = metrics.confusion_matrix(y_pred_final.Converted, y_pred_final.final_Predicted )\n",
        "confusion2"
      ]
    },
    {
      "cell_type": "code",
      "execution_count": 401,
      "id": "805de76c",
      "metadata": {
        "id": "805de76c"
      },
      "outputs": [],
      "source": [
        "TP = confusion2[1,1] # true positive \n",
        "TN = confusion2[0,0] # true negatives\n",
        "FP = confusion2[0,1] # false positives\n",
        "FN = confusion2[1,0] # false negatives"
      ]
    },
    {
      "cell_type": "code",
      "execution_count": 402,
      "id": "2aec9b6b",
      "metadata": {
        "colab": {
          "base_uri": "https://localhost:8080/"
        },
        "id": "2aec9b6b",
        "outputId": "8a66d073-7993-4f8b-8228-b1eb078176cf"
      },
      "outputs": [
        {
          "output_type": "execute_result",
          "data": {
            "text/plain": [
              "0.861648016276704"
            ]
          },
          "metadata": {},
          "execution_count": 402
        }
      ],
      "source": [
        "# Let's see the sensitivity of our logistic regression model\n",
        "TP / float(TP+FN)"
      ]
    },
    {
      "cell_type": "code",
      "execution_count": 403,
      "id": "f753c291",
      "metadata": {
        "colab": {
          "base_uri": "https://localhost:8080/"
        },
        "id": "f753c291",
        "outputId": "36390e87-a79f-4911-cff3-7c36b79c87ca"
      },
      "outputs": [
        {
          "output_type": "execute_result",
          "data": {
            "text/plain": [
              "0.8548672566371681"
            ]
          },
          "metadata": {},
          "execution_count": 403
        }
      ],
      "source": [
        "# Let us calculate specificity\n",
        "TN / float(TN+FP)"
      ]
    },
    {
      "cell_type": "code",
      "execution_count": 404,
      "id": "a3abe36a",
      "metadata": {
        "colab": {
          "base_uri": "https://localhost:8080/"
        },
        "id": "a3abe36a",
        "outputId": "05960e1b-47ce-412b-b6e8-04194874f224"
      },
      "outputs": [
        {
          "output_type": "execute_result",
          "data": {
            "text/plain": [
              "0.7749313815187557"
            ]
          },
          "metadata": {},
          "execution_count": 404
        }
      ],
      "source": [
        "precision_score(y_pred_final.Converted , y_pred_final.final_Predicted)"
      ]
    },
    {
      "cell_type": "code",
      "execution_count": 405,
      "id": "2547f2e4",
      "metadata": {
        "colab": {
          "base_uri": "https://localhost:8080/"
        },
        "id": "2547f2e4",
        "outputId": "e7f3459d-484e-40cc-9e27-206c684c5842"
      },
      "outputs": [
        {
          "output_type": "execute_result",
          "data": {
            "text/plain": [
              "0.861648016276704"
            ]
          },
          "metadata": {},
          "execution_count": 405
        }
      ],
      "source": [
        "recall_score(y_pred_final.Converted, y_pred_final.final_Predicted)"
      ]
    },
    {
      "cell_type": "markdown",
      "id": "8a3fa145",
      "metadata": {
        "id": "8a3fa145"
      },
      "source": [
        "### Observation:\n",
        "    After running the model on the Test Data these are the figures we obtain\n",
        "\n",
        "         Accuracy : 85.7%\n",
        "         Sensitivity : 86.16%\n",
        "         Specificity : 85.48%"
      ]
    },
    {
      "cell_type": "markdown",
      "id": "603ff602",
      "metadata": {
        "id": "603ff602"
      },
      "source": [
        "## Final Observation "
      ]
    },
    {
      "cell_type": "markdown",
      "id": "e10a2089",
      "metadata": {
        "id": "e10a2089"
      },
      "source": [
        "### Train Data Set    \n",
        " - Accuracy : 85.04%\n",
        "     Sensitivity : 85.66%\n",
        "     Specificity : 84.66%\n",
        "### Test Data Set\n",
        "- Accuracy : 85.7%\n",
        "     Sensitivity : 86.16%\n",
        "     Specificity : 85.48%"
      ]
    },
    {
      "cell_type": "markdown",
      "id": "3cf4ba4f",
      "metadata": {
        "id": "3cf4ba4f"
      },
      "source": [
        "# Conclusion"
      ]
    },
    {
      "cell_type": "markdown",
      "id": "346f910a",
      "metadata": {
        "id": "346f910a"
      },
      "source": [
        "##### Top 10 parameters mostly to be considered are as below( In decreasing order of importance)\n",
        "\n",
        "- Tags_Lost to EINS    5.857\n",
        "- Lead Origin_Lead Add Form    4.6063\n",
        "- Last Notable Activity_SMS Sent    2.2437\n",
        "- What is your current occupation_Working Professional   1.9868\n",
        "- Tags_Will Revert after reading the email   1.7978\n",
        "- Tags_Busy   1.6882\n",
        "- Total Time Spent on Website   0.9927\n",
        "- What is your current occupation_Unemployed   -0.6677\n",
        "- Last Activity_Olark Chat Conversation   -1.09967\n",
        "- Last Activity_Email Bounced   -2.3535"
      ]
    },
    {
      "cell_type": "code",
      "execution_count": 405,
      "id": "ddfda34f",
      "metadata": {
        "id": "ddfda34f"
      },
      "outputs": [],
      "source": []
    }
  ],
  "metadata": {
    "kernelspec": {
      "display_name": "Python 3 (ipykernel)",
      "language": "python",
      "name": "python3"
    },
    "language_info": {
      "codemirror_mode": {
        "name": "ipython",
        "version": 3
      },
      "file_extension": ".py",
      "mimetype": "text/x-python",
      "name": "python",
      "nbconvert_exporter": "python",
      "pygments_lexer": "ipython3",
      "version": "3.9.13"
    },
    "colab": {
      "provenance": []
    }
  },
  "nbformat": 4,
  "nbformat_minor": 5
}